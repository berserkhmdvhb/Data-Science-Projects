{
 "cells": [
  {
   "cell_type": "code",
   "execution_count": 11,
   "metadata": {},
   "outputs": [],
   "source": [
    "import re\n",
    "import pandas as pd\n",
    "from pandas import DataFrame as DataFrame"
   ]
  },
  {
   "cell_type": "markdown",
   "metadata": {},
   "source": [
    "## 2 Data\n"
   ]
  },
  {
   "cell_type": "markdown",
   "metadata": {},
   "source": [
    "### 1.FN4A "
   ]
  },
  {
   "cell_type": "markdown",
   "metadata": {},
   "source": [
    "### Load Dataset from drive"
   ]
  },
  {
   "cell_type": "code",
   "execution_count": 12,
   "metadata": {},
   "outputs": [],
   "source": [
    "with open (\"Files/FN4A.txt\", \"r\") as file:\n",
    "    data = file.read()\n"
   ]
  },
  {
   "cell_type": "code",
   "execution_count": 13,
   "metadata": {},
   "outputs": [
    {
     "data": {
      "text/plain": [
       "'\\nUDS= 0 to 25 in 0.1 step\\nUGS= 15 to 27 in 4 step\\nNO. UDS ID UGS\\n V A V\\n1 0 -4.22731E-09 15\\n2 0.1 -1.29189E-09 15\\n3 0.2 1.23651E-09 15\\n4 0.3 3.80388E-09 15\\n5 0.4 6.11898E-09 15\\n6 0.5 8.2786E-09 15\\n7 0.6 1.03676E-08 15\\n8 0.7 1.23828E-08 15\\n9 0.8 1.43698E-08 15\\n10 0.9 1.63046E-08 15\\n11 1 1.82505E-08 15\\n12 1.1 2.01758E-08 15\\n13 1.2 2.2055E-08 15\\n14 1.3 2.39331E-08 15\\n15 1.4 2.57927E-08 15\\n16 1.5 2.75898E-08 15\\n17 1.6 2.94016E-08 15\\n18 1.7 3.11808E-08 15\\n19 1.8 3.29074E-08 15\\n20 1.9 3.46396E-08 15\\n21 2 3.63446E-08 15\\n22 2.1 3.79875E-08 15\\n23 2.2 3.9637E-08 15\\n24 2.3 4.12578E-08 15\\n25 2.4 4.28257E-08 15\\n26 2.5 4.43937E-08 15\\n27 2.6 4.59347E-08 15\\n28 2.7 4.74409E-08 15\\n29 2.8 4.89012E-08 15\\n30 2.9 5.03654E-08 15\\n31 3 5.17913E-08 15\\n32 3.1 5.31659E-08 15\\n33 3.2 5.45424E-08 15\\n34 3.3 5.58948E-08 15\\n35 3.4 5.71931E-08 15\\n36 3.5 5.84839E-08 15\\n37 3.6 5.9752E-08 15\\n38 3.7 6.09669E-08 15\\n39 3.8 6.21783E-08 15\\n40 3.9 6.33596E-08 15\\n41 4 6.44941E-08 15\\n42 4.1 6.56223E-08 15\\n43 4.2 6.67242E-08 15\\n44 4.3 6.77837E-08 15\\n45 4.4 6.88309E-08 15\\n46 4.5 6.98541E-08 15\\n47 4.6 7.08348E-08 15\\n48 4.7 7.18081E-08 15\\n49 4.8 7.27587E-08 15\\n50 4.9 7.36617E-08 15\\n51 5 7.45549E-08 15\\n52 5.1 7.54218E-08 15\\n53 5.2 7.62724E-08 15\\n54 5.3 7.70791E-08 15\\n55 5.4 7.78829E-08 15\\n56 5.5 7.86638E-08 15\\n57 5.6 7.94105E-08 15\\n58 5.7 8.0131E-08 15\\n59 5.8 8.08383E-08 15\\n60 5.9 8.15032E-08 15\\n61 6 8.21673E-08 15\\n62 6.1 8.28091E-08 15\\n63 6.2 8.3417E-08 15\\n64 6.3 8.40231E-08 15\\n65 6.4 8.46027E-08 15\\n66 6.5 8.51548E-08 15\\n67 6.6 8.56819E-08 15\\n68 6.7 8.62063E-08 15\\n69 6.8 8.66956E-08 15\\n70 6.9 8.71783E-08 15\\n71 7 8.76471E-08 15\\n72 7.1 8.80833E-08 15\\n73 7.2 8.85122E-08 15\\n74 7.3 8.89253E-08 15\\n75 7.4 8.9327E-08 15\\n76 7.5 8.96981E-08 15\\n77 7.6 9.00664E-08 15\\n78 7.7 9.04143E-08 15\\n79 7.8 9.07409E-08 15\\n80 7.9 9.10551E-08 15\\n81 8 9.13613E-08 15\\n82 8.1 9.16512E-08 15\\n83 8.2 9.19381E-08 15\\n84 8.3 9.21951E-08 15\\n85 8.4 9.24482E-08 15\\n86 8.5 9.26928E-08 15\\n87 8.6 9.29299E-08 15\\n88 8.7 9.31393E-08 15\\n89 8.8 9.33572E-08 15\\n90 8.9 9.35556E-08 15\\n91 9 9.37341E-08 15\\n92 9.1 9.39267E-08 15\\n93 9.2 9.40983E-08 15\\n94 9.3 9.42635E-08 15\\n95 9.4 9.44274E-08 15\\n96 9.5 9.45832E-08 15\\n97 9.6 9.47263E-08 15\\n98 9.7 9.48749E-08 15\\n99 9.8 9.5016E-08 15\\n100 9.9 9.51579E-08 15\\n101 10 9.52945E-08 15\\n102 10.1 9.54269E-08 15\\n103 10.2 9.55654E-08 15\\n104 10.3 9.56848E-08 15\\n105 10.4 9.58177E-08 15\\n106 10.5 9.59484E-08 15\\n107 10.6 9.60708E-08 15\\n108 10.7 9.62157E-08 15\\n109 10.8 9.63489E-08 15\\n110 10.9 9.64788E-08 15\\n111 11 9.66007E-08 15\\n112 11.1 9.67409E-08 15\\n113 11.2 9.68738E-08 15\\n114 11.3 9.70087E-08 15\\n115 11.4 9.713E-08 15\\n116 11.5 9.7246E-08 15\\n117 11.6 9.73697E-08 15\\n118 11.7 9.74891E-08 15\\n119 11.8 9.75995E-08 15\\n120 11.9 9.7721E-08 15\\n121 12 9.78502E-08 15\\n122 12.1 9.79644E-08 15\\n123 12.2 9.80879E-08 15\\n124 12.3 9.82019E-08 15\\n125 12.4 9.83251E-08 15\\n126 12.5 9.84386E-08 15\\n127 12.6 9.85634E-08 15\\n128 12.7 9.86738E-08 15\\n129 12.8 9.87874E-08 15\\n130 12.9 9.89069E-08 15\\n131 13 9.90173E-08 15\\n132 13.1 9.91271E-08 15\\n133 13'"
      ]
     },
     "execution_count": 13,
     "metadata": {},
     "output_type": "execute_result"
    }
   ],
   "source": [
    "data[0:3000]"
   ]
  },
  {
   "cell_type": "markdown",
   "metadata": {},
   "source": [
    "### Separate information and categorize into groups"
   ]
  },
  {
   "cell_type": "code",
   "execution_count": 14,
   "metadata": {},
   "outputs": [],
   "source": [
    "##create a pattern for selecting desired columns and group them \n",
    "pattern = \"\"\"\n",
    "(?P<group1>[\\d.]*)\n",
    "(\\ )\n",
    "(?P<group2>[.\\d-]*[$E][-\\d]*)\n",
    "(\\ )\n",
    "(?P<group3>\\d{1,2})\n",
    "\"\"\"\n",
    "\n",
    "List = []\n",
    "for item in re.finditer(pattern,data,re.VERBOSE):\n",
    "    List.append(item.groupdict())"
   ]
  },
  {
   "cell_type": "code",
   "execution_count": 15,
   "metadata": {},
   "outputs": [
    {
     "data": {
      "text/plain": [
       "[{'group1': '0', 'group2': '-4.22731E-09', 'group3': '15'},\n",
       " {'group1': '0.1', 'group2': '-1.29189E-09', 'group3': '15'},\n",
       " {'group1': '0.2', 'group2': '1.23651E-09', 'group3': '15'},\n",
       " {'group1': '0.3', 'group2': '3.80388E-09', 'group3': '15'},\n",
       " {'group1': '0.4', 'group2': '6.11898E-09', 'group3': '15'},\n",
       " {'group1': '0.5', 'group2': '8.2786E-09', 'group3': '15'},\n",
       " {'group1': '0.6', 'group2': '1.03676E-08', 'group3': '15'},\n",
       " {'group1': '0.7', 'group2': '1.23828E-08', 'group3': '15'},\n",
       " {'group1': '0.8', 'group2': '1.43698E-08', 'group3': '15'},\n",
       " {'group1': '0.9', 'group2': '1.63046E-08', 'group3': '15'},\n",
       " {'group1': '1', 'group2': '1.82505E-08', 'group3': '15'},\n",
       " {'group1': '1.1', 'group2': '2.01758E-08', 'group3': '15'},\n",
       " {'group1': '1.2', 'group2': '2.2055E-08', 'group3': '15'},\n",
       " {'group1': '1.3', 'group2': '2.39331E-08', 'group3': '15'},\n",
       " {'group1': '1.4', 'group2': '2.57927E-08', 'group3': '15'},\n",
       " {'group1': '1.5', 'group2': '2.75898E-08', 'group3': '15'},\n",
       " {'group1': '1.6', 'group2': '2.94016E-08', 'group3': '15'},\n",
       " {'group1': '1.7', 'group2': '3.11808E-08', 'group3': '15'},\n",
       " {'group1': '1.8', 'group2': '3.29074E-08', 'group3': '15'},\n",
       " {'group1': '1.9', 'group2': '3.46396E-08', 'group3': '15'},\n",
       " {'group1': '2', 'group2': '3.63446E-08', 'group3': '15'},\n",
       " {'group1': '2.1', 'group2': '3.79875E-08', 'group3': '15'},\n",
       " {'group1': '2.2', 'group2': '3.9637E-08', 'group3': '15'},\n",
       " {'group1': '2.3', 'group2': '4.12578E-08', 'group3': '15'},\n",
       " {'group1': '2.4', 'group2': '4.28257E-08', 'group3': '15'},\n",
       " {'group1': '2.5', 'group2': '4.43937E-08', 'group3': '15'},\n",
       " {'group1': '2.6', 'group2': '4.59347E-08', 'group3': '15'},\n",
       " {'group1': '2.7', 'group2': '4.74409E-08', 'group3': '15'},\n",
       " {'group1': '2.8', 'group2': '4.89012E-08', 'group3': '15'},\n",
       " {'group1': '2.9', 'group2': '5.03654E-08', 'group3': '15'},\n",
       " {'group1': '3', 'group2': '5.17913E-08', 'group3': '15'},\n",
       " {'group1': '3.1', 'group2': '5.31659E-08', 'group3': '15'},\n",
       " {'group1': '3.2', 'group2': '5.45424E-08', 'group3': '15'},\n",
       " {'group1': '3.3', 'group2': '5.58948E-08', 'group3': '15'},\n",
       " {'group1': '3.4', 'group2': '5.71931E-08', 'group3': '15'},\n",
       " {'group1': '3.5', 'group2': '5.84839E-08', 'group3': '15'},\n",
       " {'group1': '3.6', 'group2': '5.9752E-08', 'group3': '15'},\n",
       " {'group1': '3.7', 'group2': '6.09669E-08', 'group3': '15'},\n",
       " {'group1': '3.8', 'group2': '6.21783E-08', 'group3': '15'},\n",
       " {'group1': '3.9', 'group2': '6.33596E-08', 'group3': '15'},\n",
       " {'group1': '4', 'group2': '6.44941E-08', 'group3': '15'},\n",
       " {'group1': '4.1', 'group2': '6.56223E-08', 'group3': '15'},\n",
       " {'group1': '4.2', 'group2': '6.67242E-08', 'group3': '15'},\n",
       " {'group1': '4.3', 'group2': '6.77837E-08', 'group3': '15'},\n",
       " {'group1': '4.4', 'group2': '6.88309E-08', 'group3': '15'},\n",
       " {'group1': '4.5', 'group2': '6.98541E-08', 'group3': '15'},\n",
       " {'group1': '4.6', 'group2': '7.08348E-08', 'group3': '15'},\n",
       " {'group1': '4.7', 'group2': '7.18081E-08', 'group3': '15'},\n",
       " {'group1': '4.8', 'group2': '7.27587E-08', 'group3': '15'},\n",
       " {'group1': '4.9', 'group2': '7.36617E-08', 'group3': '15'},\n",
       " {'group1': '5', 'group2': '7.45549E-08', 'group3': '15'},\n",
       " {'group1': '5.1', 'group2': '7.54218E-08', 'group3': '15'},\n",
       " {'group1': '5.2', 'group2': '7.62724E-08', 'group3': '15'},\n",
       " {'group1': '5.3', 'group2': '7.70791E-08', 'group3': '15'},\n",
       " {'group1': '5.4', 'group2': '7.78829E-08', 'group3': '15'},\n",
       " {'group1': '5.5', 'group2': '7.86638E-08', 'group3': '15'},\n",
       " {'group1': '5.6', 'group2': '7.94105E-08', 'group3': '15'},\n",
       " {'group1': '5.7', 'group2': '8.0131E-08', 'group3': '15'},\n",
       " {'group1': '5.8', 'group2': '8.08383E-08', 'group3': '15'},\n",
       " {'group1': '5.9', 'group2': '8.15032E-08', 'group3': '15'},\n",
       " {'group1': '6', 'group2': '8.21673E-08', 'group3': '15'},\n",
       " {'group1': '6.1', 'group2': '8.28091E-08', 'group3': '15'},\n",
       " {'group1': '6.2', 'group2': '8.3417E-08', 'group3': '15'},\n",
       " {'group1': '6.3', 'group2': '8.40231E-08', 'group3': '15'},\n",
       " {'group1': '6.4', 'group2': '8.46027E-08', 'group3': '15'},\n",
       " {'group1': '6.5', 'group2': '8.51548E-08', 'group3': '15'},\n",
       " {'group1': '6.6', 'group2': '8.56819E-08', 'group3': '15'},\n",
       " {'group1': '6.7', 'group2': '8.62063E-08', 'group3': '15'},\n",
       " {'group1': '6.8', 'group2': '8.66956E-08', 'group3': '15'},\n",
       " {'group1': '6.9', 'group2': '8.71783E-08', 'group3': '15'},\n",
       " {'group1': '7', 'group2': '8.76471E-08', 'group3': '15'},\n",
       " {'group1': '7.1', 'group2': '8.80833E-08', 'group3': '15'},\n",
       " {'group1': '7.2', 'group2': '8.85122E-08', 'group3': '15'},\n",
       " {'group1': '7.3', 'group2': '8.89253E-08', 'group3': '15'},\n",
       " {'group1': '7.4', 'group2': '8.9327E-08', 'group3': '15'},\n",
       " {'group1': '7.5', 'group2': '8.96981E-08', 'group3': '15'},\n",
       " {'group1': '7.6', 'group2': '9.00664E-08', 'group3': '15'},\n",
       " {'group1': '7.7', 'group2': '9.04143E-08', 'group3': '15'},\n",
       " {'group1': '7.8', 'group2': '9.07409E-08', 'group3': '15'},\n",
       " {'group1': '7.9', 'group2': '9.10551E-08', 'group3': '15'},\n",
       " {'group1': '8', 'group2': '9.13613E-08', 'group3': '15'},\n",
       " {'group1': '8.1', 'group2': '9.16512E-08', 'group3': '15'},\n",
       " {'group1': '8.2', 'group2': '9.19381E-08', 'group3': '15'},\n",
       " {'group1': '8.3', 'group2': '9.21951E-08', 'group3': '15'},\n",
       " {'group1': '8.4', 'group2': '9.24482E-08', 'group3': '15'},\n",
       " {'group1': '8.5', 'group2': '9.26928E-08', 'group3': '15'},\n",
       " {'group1': '8.6', 'group2': '9.29299E-08', 'group3': '15'},\n",
       " {'group1': '8.7', 'group2': '9.31393E-08', 'group3': '15'},\n",
       " {'group1': '8.8', 'group2': '9.33572E-08', 'group3': '15'},\n",
       " {'group1': '8.9', 'group2': '9.35556E-08', 'group3': '15'},\n",
       " {'group1': '9', 'group2': '9.37341E-08', 'group3': '15'},\n",
       " {'group1': '9.1', 'group2': '9.39267E-08', 'group3': '15'},\n",
       " {'group1': '9.2', 'group2': '9.40983E-08', 'group3': '15'},\n",
       " {'group1': '9.3', 'group2': '9.42635E-08', 'group3': '15'},\n",
       " {'group1': '9.4', 'group2': '9.44274E-08', 'group3': '15'},\n",
       " {'group1': '9.5', 'group2': '9.45832E-08', 'group3': '15'},\n",
       " {'group1': '9.6', 'group2': '9.47263E-08', 'group3': '15'},\n",
       " {'group1': '9.7', 'group2': '9.48749E-08', 'group3': '15'},\n",
       " {'group1': '9.8', 'group2': '9.5016E-08', 'group3': '15'},\n",
       " {'group1': '9.9', 'group2': '9.51579E-08', 'group3': '15'}]"
      ]
     },
     "execution_count": 15,
     "metadata": {},
     "output_type": "execute_result"
    }
   ],
   "source": [
    "List[0:100]"
   ]
  },
  {
   "cell_type": "markdown",
   "metadata": {},
   "source": [
    "### Create DataFrame from Groups (which are separated by regex pattern)"
   ]
  },
  {
   "cell_type": "code",
   "execution_count": 16,
   "metadata": {},
   "outputs": [
    {
     "data": {
      "text/html": [
       "<div>\n",
       "<style scoped>\n",
       "    .dataframe tbody tr th:only-of-type {\n",
       "        vertical-align: middle;\n",
       "    }\n",
       "\n",
       "    .dataframe tbody tr th {\n",
       "        vertical-align: top;\n",
       "    }\n",
       "\n",
       "    .dataframe thead th {\n",
       "        text-align: right;\n",
       "    }\n",
       "</style>\n",
       "<table border=\"1\" class=\"dataframe\">\n",
       "  <thead>\n",
       "    <tr style=\"text-align: right;\">\n",
       "      <th></th>\n",
       "      <th>group1</th>\n",
       "      <th>group2</th>\n",
       "      <th>group3</th>\n",
       "    </tr>\n",
       "  </thead>\n",
       "  <tbody>\n",
       "    <tr>\n",
       "      <th>0</th>\n",
       "      <td>0</td>\n",
       "      <td>-4.22731E-09</td>\n",
       "      <td>15</td>\n",
       "    </tr>\n",
       "    <tr>\n",
       "      <th>1</th>\n",
       "      <td>0.1</td>\n",
       "      <td>-1.29189E-09</td>\n",
       "      <td>15</td>\n",
       "    </tr>\n",
       "    <tr>\n",
       "      <th>2</th>\n",
       "      <td>0.2</td>\n",
       "      <td>1.23651E-09</td>\n",
       "      <td>15</td>\n",
       "    </tr>\n",
       "    <tr>\n",
       "      <th>3</th>\n",
       "      <td>0.3</td>\n",
       "      <td>3.80388E-09</td>\n",
       "      <td>15</td>\n",
       "    </tr>\n",
       "    <tr>\n",
       "      <th>4</th>\n",
       "      <td>0.4</td>\n",
       "      <td>6.11898E-09</td>\n",
       "      <td>15</td>\n",
       "    </tr>\n",
       "    <tr>\n",
       "      <th>...</th>\n",
       "      <td>...</td>\n",
       "      <td>...</td>\n",
       "      <td>...</td>\n",
       "    </tr>\n",
       "    <tr>\n",
       "      <th>999</th>\n",
       "      <td>24.6</td>\n",
       "      <td>8.98299E-07</td>\n",
       "      <td>27</td>\n",
       "    </tr>\n",
       "    <tr>\n",
       "      <th>1000</th>\n",
       "      <td>24.7</td>\n",
       "      <td>8.98604E-07</td>\n",
       "      <td>27</td>\n",
       "    </tr>\n",
       "    <tr>\n",
       "      <th>1001</th>\n",
       "      <td>24.8</td>\n",
       "      <td>8.98869E-07</td>\n",
       "      <td>27</td>\n",
       "    </tr>\n",
       "    <tr>\n",
       "      <th>1002</th>\n",
       "      <td>24.9</td>\n",
       "      <td>8.99082E-07</td>\n",
       "      <td>27</td>\n",
       "    </tr>\n",
       "    <tr>\n",
       "      <th>1003</th>\n",
       "      <td>25</td>\n",
       "      <td>8.99358E-07</td>\n",
       "      <td>27</td>\n",
       "    </tr>\n",
       "  </tbody>\n",
       "</table>\n",
       "<p>1004 rows × 3 columns</p>\n",
       "</div>"
      ],
      "text/plain": [
       "     group1        group2 group3\n",
       "0         0  -4.22731E-09     15\n",
       "1       0.1  -1.29189E-09     15\n",
       "2       0.2   1.23651E-09     15\n",
       "3       0.3   3.80388E-09     15\n",
       "4       0.4   6.11898E-09     15\n",
       "...     ...           ...    ...\n",
       "999    24.6   8.98299E-07     27\n",
       "1000   24.7   8.98604E-07     27\n",
       "1001   24.8   8.98869E-07     27\n",
       "1002   24.9   8.99082E-07     27\n",
       "1003     25   8.99358E-07     27\n",
       "\n",
       "[1004 rows x 3 columns]"
      ]
     },
     "execution_count": 16,
     "metadata": {},
     "output_type": "execute_result"
    }
   ],
   "source": [
    "DF = DataFrame.from_dict(List)\n",
    "DF"
   ]
  },
  {
   "cell_type": "markdown",
   "metadata": {},
   "source": [
    "### Export DataFrame to a CSV file"
   ]
  },
  {
   "cell_type": "code",
   "execution_count": 17,
   "metadata": {},
   "outputs": [],
   "source": [
    "DF.to_csv('Files/FN4A-wrangled.csv', index = False, sep=',')"
   ]
  },
  {
   "cell_type": "raw",
   "metadata": {},
   "source": []
  },
  {
   "cell_type": "markdown",
   "metadata": {},
   "source": [
    "### 2.FN4T "
   ]
  },
  {
   "cell_type": "markdown",
   "metadata": {},
   "source": [
    "Doing all the same for FN4T Dataset"
   ]
  },
  {
   "cell_type": "code",
   "execution_count": 18,
   "metadata": {},
   "outputs": [],
   "source": [
    "with open (\"Files/FN4T.txt\", \"r\") as file:\n",
    "    data = file.read()\n",
    "pattern = \"\"\"\n",
    "(?P<group1>[\\d.]*)\n",
    "(\\ )\n",
    "(?P<group2>[.\\d-]*[$E][-\\d]*)\n",
    "(\\ )\n",
    "(?P<group3>[.\\d-]*)\n",
    "\"\"\"\n",
    "List2 = []\n",
    "for item in re.finditer(pattern,data,re.VERBOSE):\n",
    "    List2.append(item.groupdict())\n",
    "   "
   ]
  },
  {
   "cell_type": "code",
   "execution_count": 19,
   "metadata": {},
   "outputs": [
    {
     "data": {
      "text/html": [
       "<div>\n",
       "<style scoped>\n",
       "    .dataframe tbody tr th:only-of-type {\n",
       "        vertical-align: middle;\n",
       "    }\n",
       "\n",
       "    .dataframe tbody tr th {\n",
       "        vertical-align: top;\n",
       "    }\n",
       "\n",
       "    .dataframe thead th {\n",
       "        text-align: right;\n",
       "    }\n",
       "</style>\n",
       "<table border=\"1\" class=\"dataframe\">\n",
       "  <thead>\n",
       "    <tr style=\"text-align: right;\">\n",
       "      <th></th>\n",
       "      <th>group1</th>\n",
       "      <th>group2</th>\n",
       "      <th>group3</th>\n",
       "    </tr>\n",
       "  </thead>\n",
       "  <tbody>\n",
       "    <tr>\n",
       "      <th>0</th>\n",
       "      <td>5</td>\n",
       "      <td>4.99707E-08</td>\n",
       "      <td>-30</td>\n",
       "    </tr>\n",
       "    <tr>\n",
       "      <th>1</th>\n",
       "      <td>5</td>\n",
       "      <td>4.29938E-08</td>\n",
       "      <td>-29.8</td>\n",
       "    </tr>\n",
       "    <tr>\n",
       "      <th>2</th>\n",
       "      <td>5</td>\n",
       "      <td>3.93023E-08</td>\n",
       "      <td>-29.6</td>\n",
       "    </tr>\n",
       "    <tr>\n",
       "      <th>3</th>\n",
       "      <td>5</td>\n",
       "      <td>3.68301E-08</td>\n",
       "      <td>-29.4</td>\n",
       "    </tr>\n",
       "    <tr>\n",
       "      <th>4</th>\n",
       "      <td>5</td>\n",
       "      <td>3.45966E-08</td>\n",
       "      <td>-29.2</td>\n",
       "    </tr>\n",
       "    <tr>\n",
       "      <th>...</th>\n",
       "      <td>...</td>\n",
       "      <td>...</td>\n",
       "      <td>...</td>\n",
       "    </tr>\n",
       "    <tr>\n",
       "      <th>1199</th>\n",
       "      <td>26</td>\n",
       "      <td>7.37914E-07</td>\n",
       "      <td>29.2</td>\n",
       "    </tr>\n",
       "    <tr>\n",
       "      <th>1200</th>\n",
       "      <td>26</td>\n",
       "      <td>7.57123E-07</td>\n",
       "      <td>29.4</td>\n",
       "    </tr>\n",
       "    <tr>\n",
       "      <th>1201</th>\n",
       "      <td>26</td>\n",
       "      <td>7.7685E-07</td>\n",
       "      <td>29.6</td>\n",
       "    </tr>\n",
       "    <tr>\n",
       "      <th>1202</th>\n",
       "      <td>26</td>\n",
       "      <td>7.9673E-07</td>\n",
       "      <td>29.8</td>\n",
       "    </tr>\n",
       "    <tr>\n",
       "      <th>1203</th>\n",
       "      <td>26</td>\n",
       "      <td>8.17083E-07</td>\n",
       "      <td>30</td>\n",
       "    </tr>\n",
       "  </tbody>\n",
       "</table>\n",
       "<p>1204 rows × 3 columns</p>\n",
       "</div>"
      ],
      "text/plain": [
       "     group1       group2 group3\n",
       "0         5  4.99707E-08    -30\n",
       "1         5  4.29938E-08  -29.8\n",
       "2         5  3.93023E-08  -29.6\n",
       "3         5  3.68301E-08  -29.4\n",
       "4         5  3.45966E-08  -29.2\n",
       "...     ...          ...    ...\n",
       "1199     26  7.37914E-07   29.2\n",
       "1200     26  7.57123E-07   29.4\n",
       "1201     26   7.7685E-07   29.6\n",
       "1202     26   7.9673E-07   29.8\n",
       "1203     26  8.17083E-07     30\n",
       "\n",
       "[1204 rows x 3 columns]"
      ]
     },
     "execution_count": 19,
     "metadata": {},
     "output_type": "execute_result"
    }
   ],
   "source": [
    "DF2 = DataFrame.from_dict(List2)  \n",
    "DF2"
   ]
  },
  {
   "cell_type": "code",
   "execution_count": 20,
   "metadata": {},
   "outputs": [],
   "source": [
    "DF2.to_csv('Files/FN4T-wrangled.csv', index = False, sep=',') "
   ]
  },
  {
   "cell_type": "code",
   "execution_count": null,
   "metadata": {},
   "outputs": [],
   "source": []
  }
 ],
 "metadata": {
  "kernelspec": {
   "display_name": "Python 3",
   "language": "python",
   "name": "python3"
  },
  "language_info": {
   "codemirror_mode": {
    "name": "ipython",
    "version": 3
   },
   "file_extension": ".py",
   "mimetype": "text/x-python",
   "name": "python",
   "nbconvert_exporter": "python",
   "pygments_lexer": "ipython3",
   "version": "3.8.5"
  }
 },
 "nbformat": 4,
 "nbformat_minor": 4
}
