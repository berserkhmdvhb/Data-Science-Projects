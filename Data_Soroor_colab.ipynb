{
  "nbformat": 4,
  "nbformat_minor": 0,
  "metadata": {
    "colab": {
      "name": "Data-Soroor-Edit3.ipynb",
      "provenance": [],
      "collapsed_sections": [
        "NvkdVqOCJS6r",
        "PjBl00C-txyN",
        "upOwPjaOt3DF",
        "8zsoTM5RuCL8",
        "fokaFwIYuzAE",
        "R0zhuQRRvFkB",
        "1F7YtioETyRF"
      ],
      "toc_visible": true
    },
    "kernelspec": {
      "name": "python3",
      "display_name": "Python 3"
    }
  },
  "cells": [
    {
      "cell_type": "markdown",
      "metadata": {
        "id": "NvkdVqOCJS6r"
      },
      "source": [
        "## Imports"
      ]
    },
    {
      "cell_type": "code",
      "metadata": {
        "id": "BsaXS2U4sxQQ"
      },
      "source": [
        "import re\n",
        "import pandas as pd\n",
        "from pandas import DataFrame as DataFrame\n",
        "import matplotlib.pyplot as plt\n",
        "import plotly.graph_objects as go\n",
        "import matplotlib.patches as mpatches\n",
        "import plotly.express as px\n",
        "import numpy as np"
      ],
      "execution_count": null,
      "outputs": []
    },
    {
      "cell_type": "markdown",
      "metadata": {
        "id": "mEkIuNQ0ttmT"
      },
      "source": [
        "# Two Datasets"
      ]
    },
    {
      "cell_type": "markdown",
      "metadata": {
        "id": "PjBl00C-txyN"
      },
      "source": [
        "# 1.FN4A "
      ]
    },
    {
      "cell_type": "markdown",
      "metadata": {
        "id": "54PiV8reI_Zr"
      },
      "source": [
        "## Prepare Data"
      ]
    },
    {
      "cell_type": "markdown",
      "metadata": {
        "id": "upOwPjaOt3DF"
      },
      "source": [
        "### Load Dataset from drive"
      ]
    },
    {
      "cell_type": "code",
      "metadata": {
        "id": "Mn6vjws0jIVV"
      },
      "source": [
        "url = 'https://raw.githubusercontent.com/berserkhmdvhb/Data-Wrangling/main/Files/FN4A.txt'\n",
        "url2 = 'https://raw.githubusercontent.com/berserkhmdvhb/Data-Wrangling/main/Files/FN4T.txt'\n",
        "\n",
        "from urllib.request import urlopen\n",
        "data = urlopen(url).read().decode('utf-8')"
      ],
      "execution_count": null,
      "outputs": []
    },
    {
      "cell_type": "code",
      "metadata": {
        "id": "_i5IVnCot-Or",
        "outputId": "19fd5bc1-1939-4bf4-b01d-ab1702be1764",
        "colab": {
          "base_uri": "https://localhost:8080/"
        }
      },
      "source": [
        "data[0:3000]"
      ],
      "execution_count": null,
      "outputs": [
        {
          "output_type": "execute_result",
          "data": {
            "application/vnd.google.colaboratory.intrinsic+json": {
              "type": "string"
            },
            "text/plain": [
              "'\\r\\nUDS= 0 to 25 in 0.1 step\\r\\nUGS= 15 to 27 in 4 step\\r\\nNO. UDS ID UGS\\r\\n V A V\\r\\n1 0 -4.22731E-09 15\\r\\n2 0.1 -1.29189E-09 15\\r\\n3 0.2 1.23651E-09 15\\r\\n4 0.3 3.80388E-09 15\\r\\n5 0.4 6.11898E-09 15\\r\\n6 0.5 8.2786E-09 15\\r\\n7 0.6 1.03676E-08 15\\r\\n8 0.7 1.23828E-08 15\\r\\n9 0.8 1.43698E-08 15\\r\\n10 0.9 1.63046E-08 15\\r\\n11 1 1.82505E-08 15\\r\\n12 1.1 2.01758E-08 15\\r\\n13 1.2 2.2055E-08 15\\r\\n14 1.3 2.39331E-08 15\\r\\n15 1.4 2.57927E-08 15\\r\\n16 1.5 2.75898E-08 15\\r\\n17 1.6 2.94016E-08 15\\r\\n18 1.7 3.11808E-08 15\\r\\n19 1.8 3.29074E-08 15\\r\\n20 1.9 3.46396E-08 15\\r\\n21 2 3.63446E-08 15\\r\\n22 2.1 3.79875E-08 15\\r\\n23 2.2 3.9637E-08 15\\r\\n24 2.3 4.12578E-08 15\\r\\n25 2.4 4.28257E-08 15\\r\\n26 2.5 4.43937E-08 15\\r\\n27 2.6 4.59347E-08 15\\r\\n28 2.7 4.74409E-08 15\\r\\n29 2.8 4.89012E-08 15\\r\\n30 2.9 5.03654E-08 15\\r\\n31 3 5.17913E-08 15\\r\\n32 3.1 5.31659E-08 15\\r\\n33 3.2 5.45424E-08 15\\r\\n34 3.3 5.58948E-08 15\\r\\n35 3.4 5.71931E-08 15\\r\\n36 3.5 5.84839E-08 15\\r\\n37 3.6 5.9752E-08 15\\r\\n38 3.7 6.09669E-08 15\\r\\n39 3.8 6.21783E-08 15\\r\\n40 3.9 6.33596E-08 15\\r\\n41 4 6.44941E-08 15\\r\\n42 4.1 6.56223E-08 15\\r\\n43 4.2 6.67242E-08 15\\r\\n44 4.3 6.77837E-08 15\\r\\n45 4.4 6.88309E-08 15\\r\\n46 4.5 6.98541E-08 15\\r\\n47 4.6 7.08348E-08 15\\r\\n48 4.7 7.18081E-08 15\\r\\n49 4.8 7.27587E-08 15\\r\\n50 4.9 7.36617E-08 15\\r\\n51 5 7.45549E-08 15\\r\\n52 5.1 7.54218E-08 15\\r\\n53 5.2 7.62724E-08 15\\r\\n54 5.3 7.70791E-08 15\\r\\n55 5.4 7.78829E-08 15\\r\\n56 5.5 7.86638E-08 15\\r\\n57 5.6 7.94105E-08 15\\r\\n58 5.7 8.0131E-08 15\\r\\n59 5.8 8.08383E-08 15\\r\\n60 5.9 8.15032E-08 15\\r\\n61 6 8.21673E-08 15\\r\\n62 6.1 8.28091E-08 15\\r\\n63 6.2 8.3417E-08 15\\r\\n64 6.3 8.40231E-08 15\\r\\n65 6.4 8.46027E-08 15\\r\\n66 6.5 8.51548E-08 15\\r\\n67 6.6 8.56819E-08 15\\r\\n68 6.7 8.62063E-08 15\\r\\n69 6.8 8.66956E-08 15\\r\\n70 6.9 8.71783E-08 15\\r\\n71 7 8.76471E-08 15\\r\\n72 7.1 8.80833E-08 15\\r\\n73 7.2 8.85122E-08 15\\r\\n74 7.3 8.89253E-08 15\\r\\n75 7.4 8.9327E-08 15\\r\\n76 7.5 8.96981E-08 15\\r\\n77 7.6 9.00664E-08 15\\r\\n78 7.7 9.04143E-08 15\\r\\n79 7.8 9.07409E-08 15\\r\\n80 7.9 9.10551E-08 15\\r\\n81 8 9.13613E-08 15\\r\\n82 8.1 9.16512E-08 15\\r\\n83 8.2 9.19381E-08 15\\r\\n84 8.3 9.21951E-08 15\\r\\n85 8.4 9.24482E-08 15\\r\\n86 8.5 9.26928E-08 15\\r\\n87 8.6 9.29299E-08 15\\r\\n88 8.7 9.31393E-08 15\\r\\n89 8.8 9.33572E-08 15\\r\\n90 8.9 9.35556E-08 15\\r\\n91 9 9.37341E-08 15\\r\\n92 9.1 9.39267E-08 15\\r\\n93 9.2 9.40983E-08 15\\r\\n94 9.3 9.42635E-08 15\\r\\n95 9.4 9.44274E-08 15\\r\\n96 9.5 9.45832E-08 15\\r\\n97 9.6 9.47263E-08 15\\r\\n98 9.7 9.48749E-08 15\\r\\n99 9.8 9.5016E-08 15\\r\\n100 9.9 9.51579E-08 15\\r\\n101 10 9.52945E-08 15\\r\\n102 10.1 9.54269E-08 15\\r\\n103 10.2 9.55654E-08 15\\r\\n104 10.3 9.56848E-08 15\\r\\n105 10.4 9.58177E-08 15\\r\\n106 10.5 9.59484E-08 15\\r\\n107 10.6 9.60708E-08 15\\r\\n108 10.7 9.62157E-08 15\\r\\n109 10.8 9.63489E-08 15\\r\\n110 10.9 9.64788E-08 15\\r\\n111 11 9.66007E-08 15\\r\\n112 11.1 9.67409E-08 15\\r\\n113 11.2 9.68738E-08 15\\r\\n114 11.3 9.70087E-08 15\\r\\n115 11.4 9.713E-08 15\\r\\n116 11.5 9.7246E-08 15\\r\\n117 11.6 9.73697E-08 15\\r\\n118 11.7 9.74891E-08 15\\r\\n119 11.8 9.75995E-08 15\\r\\n120 11.9 9.7721E-08 15\\r\\n121 12 9.78502E-08 15\\r\\n122 12.1 9.79644E-08 15\\r\\n123 12.2 9.80879E-08 15\\r\\n124 12.3 9.82019E-08 15\\r\\n125 12.4 9.83251E-08 15\\r\\n126 12.5 9.84386E-08 15\\r\\n127 12.6 9.85634E'"
            ]
          },
          "metadata": {
            "tags": []
          },
          "execution_count": 86
        }
      ]
    },
    {
      "cell_type": "markdown",
      "metadata": {
        "id": "8zsoTM5RuCL8"
      },
      "source": [
        "### Separate information and form groups"
      ]
    },
    {
      "cell_type": "code",
      "metadata": {
        "id": "Nc8VtvzPt_ho"
      },
      "source": [
        "##substitue 'E' with 'e' so that python understand the floating number\n",
        "data =re.sub('E','e',data)\n",
        "\n",
        "\n",
        "##create a pattern for selecting desired columns and group them \n",
        "pattern = \"\"\"\n",
        "([\\d.]*)\n",
        "(\\ )\n",
        "(?P<Current>[.\\d-]*[$e][-\\d]*)\n",
        "(\\ )\n",
        "(?P<Voltage>\\d{1,2})\n",
        "\"\"\"\n",
        "\n",
        "List = []\n",
        "for item in re.finditer(pattern,data,re.VERBOSE):\n",
        "    List.append(item.groupdict())"
      ],
      "execution_count": null,
      "outputs": []
    },
    {
      "cell_type": "code",
      "metadata": {
        "id": "EF_VgGspuHnX",
        "outputId": "d4839c4c-b4c0-4827-dfc2-bb8e7a98e947",
        "colab": {
          "base_uri": "https://localhost:8080/"
        }
      },
      "source": [
        "data[0:500]"
      ],
      "execution_count": null,
      "outputs": [
        {
          "output_type": "execute_result",
          "data": {
            "application/vnd.google.colaboratory.intrinsic+json": {
              "type": "string"
            },
            "text/plain": [
              "'\\r\\nUDS= 0 to 25 in 0.1 step\\r\\nUGS= 15 to 27 in 4 step\\r\\nNO. UDS ID UGS\\r\\n V A V\\r\\n1 0 -4.22731e-09 15\\r\\n2 0.1 -1.29189e-09 15\\r\\n3 0.2 1.23651e-09 15\\r\\n4 0.3 3.80388e-09 15\\r\\n5 0.4 6.11898e-09 15\\r\\n6 0.5 8.2786e-09 15\\r\\n7 0.6 1.03676e-08 15\\r\\n8 0.7 1.23828e-08 15\\r\\n9 0.8 1.43698e-08 15\\r\\n10 0.9 1.63046e-08 15\\r\\n11 1 1.82505e-08 15\\r\\n12 1.1 2.01758e-08 15\\r\\n13 1.2 2.2055e-08 15\\r\\n14 1.3 2.39331e-08 15\\r\\n15 1.4 2.57927e-08 15\\r\\n16 1.5 2.75898e-08 15\\r\\n17 1.6 2.94016e-08 15\\r\\n18 1.7 3.11808e-08 15\\r\\n19 1.8 3.29074e-08 15\\r'"
            ]
          },
          "metadata": {
            "tags": []
          },
          "execution_count": 88
        }
      ]
    },
    {
      "cell_type": "code",
      "metadata": {
        "id": "d1VT7zGVuMHl",
        "outputId": "99d7ed84-df8d-49cf-a401-54534963a031",
        "colab": {
          "base_uri": "https://localhost:8080/"
        }
      },
      "source": [
        "List[0:10]"
      ],
      "execution_count": null,
      "outputs": [
        {
          "output_type": "execute_result",
          "data": {
            "text/plain": [
              "[{'Current': '-4.22731e-09', 'Voltage': '15'},\n",
              " {'Current': '-1.29189e-09', 'Voltage': '15'},\n",
              " {'Current': '1.23651e-09', 'Voltage': '15'},\n",
              " {'Current': '3.80388e-09', 'Voltage': '15'},\n",
              " {'Current': '6.11898e-09', 'Voltage': '15'},\n",
              " {'Current': '8.2786e-09', 'Voltage': '15'},\n",
              " {'Current': '1.03676e-08', 'Voltage': '15'},\n",
              " {'Current': '1.23828e-08', 'Voltage': '15'},\n",
              " {'Current': '1.43698e-08', 'Voltage': '15'},\n",
              " {'Current': '1.63046e-08', 'Voltage': '15'}]"
            ]
          },
          "metadata": {
            "tags": []
          },
          "execution_count": 89
        }
      ]
    },
    {
      "cell_type": "markdown",
      "metadata": {
        "id": "FQM3KubruY2W"
      },
      "source": [
        "### Create DataFrame from Groups (which are separated by regex pattern)"
      ]
    },
    {
      "cell_type": "code",
      "metadata": {
        "id": "_t01rtF4uNKB",
        "outputId": "73513e3f-9ffa-42af-b471-9d2de1be1121",
        "colab": {
          "base_uri": "https://localhost:8080/",
          "height": 407
        }
      },
      "source": [
        "DF = DataFrame.from_dict(List)\n",
        "DF"
      ],
      "execution_count": null,
      "outputs": [
        {
          "output_type": "execute_result",
          "data": {
            "text/html": [
              "<div>\n",
              "<style scoped>\n",
              "    .dataframe tbody tr th:only-of-type {\n",
              "        vertical-align: middle;\n",
              "    }\n",
              "\n",
              "    .dataframe tbody tr th {\n",
              "        vertical-align: top;\n",
              "    }\n",
              "\n",
              "    .dataframe thead th {\n",
              "        text-align: right;\n",
              "    }\n",
              "</style>\n",
              "<table border=\"1\" class=\"dataframe\">\n",
              "  <thead>\n",
              "    <tr style=\"text-align: right;\">\n",
              "      <th></th>\n",
              "      <th>Current</th>\n",
              "      <th>Voltage</th>\n",
              "    </tr>\n",
              "  </thead>\n",
              "  <tbody>\n",
              "    <tr>\n",
              "      <th>0</th>\n",
              "      <td>-4.22731e-09</td>\n",
              "      <td>15</td>\n",
              "    </tr>\n",
              "    <tr>\n",
              "      <th>1</th>\n",
              "      <td>-1.29189e-09</td>\n",
              "      <td>15</td>\n",
              "    </tr>\n",
              "    <tr>\n",
              "      <th>2</th>\n",
              "      <td>1.23651e-09</td>\n",
              "      <td>15</td>\n",
              "    </tr>\n",
              "    <tr>\n",
              "      <th>3</th>\n",
              "      <td>3.80388e-09</td>\n",
              "      <td>15</td>\n",
              "    </tr>\n",
              "    <tr>\n",
              "      <th>4</th>\n",
              "      <td>6.11898e-09</td>\n",
              "      <td>15</td>\n",
              "    </tr>\n",
              "    <tr>\n",
              "      <th>...</th>\n",
              "      <td>...</td>\n",
              "      <td>...</td>\n",
              "    </tr>\n",
              "    <tr>\n",
              "      <th>999</th>\n",
              "      <td>8.98299e-07</td>\n",
              "      <td>27</td>\n",
              "    </tr>\n",
              "    <tr>\n",
              "      <th>1000</th>\n",
              "      <td>8.98604e-07</td>\n",
              "      <td>27</td>\n",
              "    </tr>\n",
              "    <tr>\n",
              "      <th>1001</th>\n",
              "      <td>8.98869e-07</td>\n",
              "      <td>27</td>\n",
              "    </tr>\n",
              "    <tr>\n",
              "      <th>1002</th>\n",
              "      <td>8.99082e-07</td>\n",
              "      <td>27</td>\n",
              "    </tr>\n",
              "    <tr>\n",
              "      <th>1003</th>\n",
              "      <td>8.99358e-07</td>\n",
              "      <td>27</td>\n",
              "    </tr>\n",
              "  </tbody>\n",
              "</table>\n",
              "<p>1004 rows × 2 columns</p>\n",
              "</div>"
            ],
            "text/plain": [
              "           Current Voltage\n",
              "0     -4.22731e-09      15\n",
              "1     -1.29189e-09      15\n",
              "2      1.23651e-09      15\n",
              "3      3.80388e-09      15\n",
              "4      6.11898e-09      15\n",
              "...            ...     ...\n",
              "999    8.98299e-07      27\n",
              "1000   8.98604e-07      27\n",
              "1001   8.98869e-07      27\n",
              "1002   8.99082e-07      27\n",
              "1003   8.99358e-07      27\n",
              "\n",
              "[1004 rows x 2 columns]"
            ]
          },
          "metadata": {
            "tags": []
          },
          "execution_count": 90
        }
      ]
    },
    {
      "cell_type": "code",
      "metadata": {
        "id": "8ai_zXLzucAe",
        "outputId": "ea0f8ce4-7df8-42c7-bd87-48ac90b96d6d",
        "colab": {
          "base_uri": "https://localhost:8080/",
          "height": 407
        }
      },
      "source": [
        "columns_titles = [\"Voltage\",\"Current\"]\n",
        "DF = DF.reindex(columns=columns_titles)\n",
        "DF"
      ],
      "execution_count": null,
      "outputs": [
        {
          "output_type": "execute_result",
          "data": {
            "text/html": [
              "<div>\n",
              "<style scoped>\n",
              "    .dataframe tbody tr th:only-of-type {\n",
              "        vertical-align: middle;\n",
              "    }\n",
              "\n",
              "    .dataframe tbody tr th {\n",
              "        vertical-align: top;\n",
              "    }\n",
              "\n",
              "    .dataframe thead th {\n",
              "        text-align: right;\n",
              "    }\n",
              "</style>\n",
              "<table border=\"1\" class=\"dataframe\">\n",
              "  <thead>\n",
              "    <tr style=\"text-align: right;\">\n",
              "      <th></th>\n",
              "      <th>Voltage</th>\n",
              "      <th>Current</th>\n",
              "    </tr>\n",
              "  </thead>\n",
              "  <tbody>\n",
              "    <tr>\n",
              "      <th>0</th>\n",
              "      <td>15</td>\n",
              "      <td>-4.22731e-09</td>\n",
              "    </tr>\n",
              "    <tr>\n",
              "      <th>1</th>\n",
              "      <td>15</td>\n",
              "      <td>-1.29189e-09</td>\n",
              "    </tr>\n",
              "    <tr>\n",
              "      <th>2</th>\n",
              "      <td>15</td>\n",
              "      <td>1.23651e-09</td>\n",
              "    </tr>\n",
              "    <tr>\n",
              "      <th>3</th>\n",
              "      <td>15</td>\n",
              "      <td>3.80388e-09</td>\n",
              "    </tr>\n",
              "    <tr>\n",
              "      <th>4</th>\n",
              "      <td>15</td>\n",
              "      <td>6.11898e-09</td>\n",
              "    </tr>\n",
              "    <tr>\n",
              "      <th>...</th>\n",
              "      <td>...</td>\n",
              "      <td>...</td>\n",
              "    </tr>\n",
              "    <tr>\n",
              "      <th>999</th>\n",
              "      <td>27</td>\n",
              "      <td>8.98299e-07</td>\n",
              "    </tr>\n",
              "    <tr>\n",
              "      <th>1000</th>\n",
              "      <td>27</td>\n",
              "      <td>8.98604e-07</td>\n",
              "    </tr>\n",
              "    <tr>\n",
              "      <th>1001</th>\n",
              "      <td>27</td>\n",
              "      <td>8.98869e-07</td>\n",
              "    </tr>\n",
              "    <tr>\n",
              "      <th>1002</th>\n",
              "      <td>27</td>\n",
              "      <td>8.99082e-07</td>\n",
              "    </tr>\n",
              "    <tr>\n",
              "      <th>1003</th>\n",
              "      <td>27</td>\n",
              "      <td>8.99358e-07</td>\n",
              "    </tr>\n",
              "  </tbody>\n",
              "</table>\n",
              "<p>1004 rows × 2 columns</p>\n",
              "</div>"
            ],
            "text/plain": [
              "     Voltage       Current\n",
              "0         15  -4.22731e-09\n",
              "1         15  -1.29189e-09\n",
              "2         15   1.23651e-09\n",
              "3         15   3.80388e-09\n",
              "4         15   6.11898e-09\n",
              "...      ...           ...\n",
              "999       27   8.98299e-07\n",
              "1000      27   8.98604e-07\n",
              "1001      27   8.98869e-07\n",
              "1002      27   8.99082e-07\n",
              "1003      27   8.99358e-07\n",
              "\n",
              "[1004 rows x 2 columns]"
            ]
          },
          "metadata": {
            "tags": []
          },
          "execution_count": 91
        }
      ]
    },
    {
      "cell_type": "code",
      "metadata": {
        "id": "17rBzQtbueWU",
        "outputId": "fe57b3cb-2037-4ad9-ae8d-a7010fe2e727",
        "colab": {
          "base_uri": "https://localhost:8080/",
          "height": 34
        }
      },
      "source": [
        "DF.Voltage.unique()"
      ],
      "execution_count": null,
      "outputs": [
        {
          "output_type": "execute_result",
          "data": {
            "text/plain": [
              "array(['15', '19', '23', '27'], dtype=object)"
            ]
          },
          "metadata": {
            "tags": []
          },
          "execution_count": 92
        }
      ]
    },
    {
      "cell_type": "code",
      "metadata": {
        "id": "cNa2p77IufeL"
      },
      "source": [
        "#format = lambda x: int(x)\n",
        "#DF.Voltage.apply(format)\n",
        "DF.Voltage = pd.to_numeric(DF.Voltage)\n",
        "DF.Current = pd.to_numeric(DF.Current)\n"
      ],
      "execution_count": null,
      "outputs": []
    },
    {
      "cell_type": "code",
      "metadata": {
        "id": "AkjvMreB5qro",
        "outputId": "b1a1f241-5f2b-410c-a0a5-30fccc2f060e",
        "colab": {
          "base_uri": "https://localhost:8080/",
          "height": 198
        }
      },
      "source": [
        "DF.head()"
      ],
      "execution_count": null,
      "outputs": [
        {
          "output_type": "execute_result",
          "data": {
            "text/html": [
              "<div>\n",
              "<style scoped>\n",
              "    .dataframe tbody tr th:only-of-type {\n",
              "        vertical-align: middle;\n",
              "    }\n",
              "\n",
              "    .dataframe tbody tr th {\n",
              "        vertical-align: top;\n",
              "    }\n",
              "\n",
              "    .dataframe thead th {\n",
              "        text-align: right;\n",
              "    }\n",
              "</style>\n",
              "<table border=\"1\" class=\"dataframe\">\n",
              "  <thead>\n",
              "    <tr style=\"text-align: right;\">\n",
              "      <th></th>\n",
              "      <th>Voltage</th>\n",
              "      <th>Current</th>\n",
              "    </tr>\n",
              "  </thead>\n",
              "  <tbody>\n",
              "    <tr>\n",
              "      <th>0</th>\n",
              "      <td>15</td>\n",
              "      <td>-4.227310e-09</td>\n",
              "    </tr>\n",
              "    <tr>\n",
              "      <th>1</th>\n",
              "      <td>15</td>\n",
              "      <td>-1.291890e-09</td>\n",
              "    </tr>\n",
              "    <tr>\n",
              "      <th>2</th>\n",
              "      <td>15</td>\n",
              "      <td>1.236510e-09</td>\n",
              "    </tr>\n",
              "    <tr>\n",
              "      <th>3</th>\n",
              "      <td>15</td>\n",
              "      <td>3.803880e-09</td>\n",
              "    </tr>\n",
              "    <tr>\n",
              "      <th>4</th>\n",
              "      <td>15</td>\n",
              "      <td>6.118980e-09</td>\n",
              "    </tr>\n",
              "  </tbody>\n",
              "</table>\n",
              "</div>"
            ],
            "text/plain": [
              "   Voltage       Current\n",
              "0       15 -4.227310e-09\n",
              "1       15 -1.291890e-09\n",
              "2       15  1.236510e-09\n",
              "3       15  3.803880e-09\n",
              "4       15  6.118980e-09"
            ]
          },
          "metadata": {
            "tags": []
          },
          "execution_count": 94
        }
      ]
    },
    {
      "cell_type": "code",
      "metadata": {
        "id": "sY4chUsiuwo_",
        "outputId": "ca95eaf9-8414-4a83-85e9-b61ff2a1072c",
        "colab": {
          "base_uri": "https://localhost:8080/",
          "height": 34
        }
      },
      "source": [
        "type(DF['Voltage'][0])"
      ],
      "execution_count": null,
      "outputs": [
        {
          "output_type": "execute_result",
          "data": {
            "text/plain": [
              "numpy.int64"
            ]
          },
          "metadata": {
            "tags": []
          },
          "execution_count": 95
        }
      ]
    },
    {
      "cell_type": "markdown",
      "metadata": {
        "id": "fokaFwIYuzAE"
      },
      "source": [
        "### Export DataFrame to a CSV file"
      ]
    },
    {
      "cell_type": "code",
      "metadata": {
        "id": "VqlUFuFsuzl3"
      },
      "source": [
        "DF.to_csv('FN4A-wrangled.csv', index = False)"
      ],
      "execution_count": null,
      "outputs": []
    },
    {
      "cell_type": "markdown",
      "metadata": {
        "id": "D9zik_-03LQ3"
      },
      "source": [
        "### Categorize data by Voltage Groups"
      ]
    },
    {
      "cell_type": "code",
      "metadata": {
        "id": "tkpLUp5H3OsF"
      },
      "source": [
        "#DF = DF.reset_index()\n",
        "#DF.head()"
      ],
      "execution_count": null,
      "outputs": []
    },
    {
      "cell_type": "code",
      "metadata": {
        "id": "uH-jpKanAJtM",
        "outputId": "ee222143-69d1-478b-d423-4d2def5e03a4",
        "colab": {
          "base_uri": "https://localhost:8080/",
          "height": 34
        }
      },
      "source": [
        "DF.loc[0].Voltage == 15"
      ],
      "execution_count": null,
      "outputs": [
        {
          "output_type": "execute_result",
          "data": {
            "text/plain": [
              "True"
            ]
          },
          "metadata": {
            "tags": []
          },
          "execution_count": 98
        }
      ]
    },
    {
      "cell_type": "code",
      "metadata": {
        "id": "Q6lF72xo3uC9"
      },
      "source": [
        "dict = {v: [] for v in DF.Voltage.unique()}\n",
        "for v in dict.keys():\n",
        "  for i in range(DF.shape[0]):\n",
        "    if DF.loc[i].Voltage == v:\n",
        "      dict[v].append(DF.loc[i].Current)\n"
      ],
      "execution_count": null,
      "outputs": []
    },
    {
      "cell_type": "code",
      "metadata": {
        "id": "17SheFq9BtDa",
        "outputId": "8e535475-3ac1-4faa-e645-e157ca3cdbf9",
        "colab": {
          "base_uri": "https://localhost:8080/",
          "height": 34
        }
      },
      "source": [
        "dict.keys()"
      ],
      "execution_count": null,
      "outputs": [
        {
          "output_type": "execute_result",
          "data": {
            "text/plain": [
              "dict_keys([15, 19, 23, 27])"
            ]
          },
          "metadata": {
            "tags": []
          },
          "execution_count": 100
        }
      ]
    },
    {
      "cell_type": "code",
      "metadata": {
        "id": "IepmQnUEFhRs",
        "outputId": "f0429ce3-c260-438b-8d61-69960aca4b51",
        "colab": {
          "base_uri": "https://localhost:8080/",
          "height": 407
        }
      },
      "source": [
        "DFF = DataFrame(dict)\n",
        "DFF"
      ],
      "execution_count": null,
      "outputs": [
        {
          "output_type": "execute_result",
          "data": {
            "text/html": [
              "<div>\n",
              "<style scoped>\n",
              "    .dataframe tbody tr th:only-of-type {\n",
              "        vertical-align: middle;\n",
              "    }\n",
              "\n",
              "    .dataframe tbody tr th {\n",
              "        vertical-align: top;\n",
              "    }\n",
              "\n",
              "    .dataframe thead th {\n",
              "        text-align: right;\n",
              "    }\n",
              "</style>\n",
              "<table border=\"1\" class=\"dataframe\">\n",
              "  <thead>\n",
              "    <tr style=\"text-align: right;\">\n",
              "      <th></th>\n",
              "      <th>15</th>\n",
              "      <th>19</th>\n",
              "      <th>23</th>\n",
              "      <th>27</th>\n",
              "    </tr>\n",
              "  </thead>\n",
              "  <tbody>\n",
              "    <tr>\n",
              "      <th>0</th>\n",
              "      <td>-4.227310e-09</td>\n",
              "      <td>-9.885000e-09</td>\n",
              "      <td>-1.011650e-08</td>\n",
              "      <td>-1.095520e-08</td>\n",
              "    </tr>\n",
              "    <tr>\n",
              "      <th>1</th>\n",
              "      <td>-1.291890e-09</td>\n",
              "      <td>-2.216470e-09</td>\n",
              "      <td>1.408700e-10</td>\n",
              "      <td>2.216810e-09</td>\n",
              "    </tr>\n",
              "    <tr>\n",
              "      <th>2</th>\n",
              "      <td>1.236510e-09</td>\n",
              "      <td>3.791010e-09</td>\n",
              "      <td>8.507300e-09</td>\n",
              "      <td>1.335940e-08</td>\n",
              "    </tr>\n",
              "    <tr>\n",
              "      <th>3</th>\n",
              "      <td>3.803880e-09</td>\n",
              "      <td>8.560700e-09</td>\n",
              "      <td>1.573700e-08</td>\n",
              "      <td>2.335770e-08</td>\n",
              "    </tr>\n",
              "    <tr>\n",
              "      <th>4</th>\n",
              "      <td>6.118980e-09</td>\n",
              "      <td>1.287950e-08</td>\n",
              "      <td>2.275880e-08</td>\n",
              "      <td>3.312260e-08</td>\n",
              "    </tr>\n",
              "    <tr>\n",
              "      <th>...</th>\n",
              "      <td>...</td>\n",
              "      <td>...</td>\n",
              "      <td>...</td>\n",
              "      <td>...</td>\n",
              "    </tr>\n",
              "    <tr>\n",
              "      <th>246</th>\n",
              "      <td>1.107530e-07</td>\n",
              "      <td>2.734340e-07</td>\n",
              "      <td>5.332590e-07</td>\n",
              "      <td>8.982990e-07</td>\n",
              "    </tr>\n",
              "    <tr>\n",
              "      <th>247</th>\n",
              "      <td>1.108530e-07</td>\n",
              "      <td>2.735470e-07</td>\n",
              "      <td>5.334110e-07</td>\n",
              "      <td>8.986040e-07</td>\n",
              "    </tr>\n",
              "    <tr>\n",
              "      <th>248</th>\n",
              "      <td>1.109660e-07</td>\n",
              "      <td>2.736540e-07</td>\n",
              "      <td>5.335270e-07</td>\n",
              "      <td>8.988690e-07</td>\n",
              "    </tr>\n",
              "    <tr>\n",
              "      <th>249</th>\n",
              "      <td>1.110710e-07</td>\n",
              "      <td>2.737400e-07</td>\n",
              "      <td>5.336950e-07</td>\n",
              "      <td>8.990820e-07</td>\n",
              "    </tr>\n",
              "    <tr>\n",
              "      <th>250</th>\n",
              "      <td>1.111730e-07</td>\n",
              "      <td>2.738590e-07</td>\n",
              "      <td>5.338160e-07</td>\n",
              "      <td>8.993580e-07</td>\n",
              "    </tr>\n",
              "  </tbody>\n",
              "</table>\n",
              "<p>251 rows × 4 columns</p>\n",
              "</div>"
            ],
            "text/plain": [
              "               15            19            23            27\n",
              "0   -4.227310e-09 -9.885000e-09 -1.011650e-08 -1.095520e-08\n",
              "1   -1.291890e-09 -2.216470e-09  1.408700e-10  2.216810e-09\n",
              "2    1.236510e-09  3.791010e-09  8.507300e-09  1.335940e-08\n",
              "3    3.803880e-09  8.560700e-09  1.573700e-08  2.335770e-08\n",
              "4    6.118980e-09  1.287950e-08  2.275880e-08  3.312260e-08\n",
              "..            ...           ...           ...           ...\n",
              "246  1.107530e-07  2.734340e-07  5.332590e-07  8.982990e-07\n",
              "247  1.108530e-07  2.735470e-07  5.334110e-07  8.986040e-07\n",
              "248  1.109660e-07  2.736540e-07  5.335270e-07  8.988690e-07\n",
              "249  1.110710e-07  2.737400e-07  5.336950e-07  8.990820e-07\n",
              "250  1.111730e-07  2.738590e-07  5.338160e-07  8.993580e-07\n",
              "\n",
              "[251 rows x 4 columns]"
            ]
          },
          "metadata": {
            "tags": []
          },
          "execution_count": 101
        }
      ]
    },
    {
      "cell_type": "code",
      "metadata": {
        "id": "NezQb3WSj4-a",
        "outputId": "5ab56ca0-c3c9-40d9-9069-364a2bd2e53c",
        "colab": {
          "base_uri": "https://localhost:8080/",
          "height": 223
        }
      },
      "source": [
        "idx = np.linspace(-70, 70,141)\n",
        "print(idx)\n",
        "print(len(idx))"
      ],
      "execution_count": null,
      "outputs": [
        {
          "output_type": "stream",
          "text": [
            "[-70. -69. -68. -67. -66. -65. -64. -63. -62. -61. -60. -59. -58. -57.\n",
            " -56. -55. -54. -53. -52. -51. -50. -49. -48. -47. -46. -45. -44. -43.\n",
            " -42. -41. -40. -39. -38. -37. -36. -35. -34. -33. -32. -31. -30. -29.\n",
            " -28. -27. -26. -25. -24. -23. -22. -21. -20. -19. -18. -17. -16. -15.\n",
            " -14. -13. -12. -11. -10.  -9.  -8.  -7.  -6.  -5.  -4.  -3.  -2.  -1.\n",
            "   0.   1.   2.   3.   4.   5.   6.   7.   8.   9.  10.  11.  12.  13.\n",
            "  14.  15.  16.  17.  18.  19.  20.  21.  22.  23.  24.  25.  26.  27.\n",
            "  28.  29.  30.  31.  32.  33.  34.  35.  36.  37.  38.  39.  40.  41.\n",
            "  42.  43.  44.  45.  46.  47.  48.  49.  50.  51.  52.  53.  54.  55.\n",
            "  56.  57.  58.  59.  60.  61.  62.  63.  64.  65.  66.  67.  68.  69.\n",
            "  70.]\n",
            "141\n"
          ],
          "name": "stdout"
        }
      ]
    },
    {
      "cell_type": "code",
      "metadata": {
        "id": "uhzD6pkmj9z2"
      },
      "source": [
        ""
      ],
      "execution_count": null,
      "outputs": []
    },
    {
      "cell_type": "markdown",
      "metadata": {
        "id": "zpbGtSukJMQQ"
      },
      "source": [
        "## Visualization"
      ]
    },
    {
      "cell_type": "markdown",
      "metadata": {
        "id": "esHW6bNMu-Gs"
      },
      "source": [
        "### Scatter Plot"
      ]
    },
    {
      "cell_type": "code",
      "metadata": {
        "id": "s58WLN4zip65",
        "outputId": "eb55bfe9-8499-403b-9bd9-0fb9f2ce3002",
        "colab": {
          "base_uri": "https://localhost:8080/",
          "height": 276
        }
      },
      "source": [
        "\n",
        "colors = list(\"rgbc\")\n",
        "\n",
        "i = 0\n",
        "for key in dict:\n",
        "  cr = colors[i]\n",
        "  for val in dict[key]:\n",
        "    plt.scatter(key,val,color=cr)\n",
        "  i+=1  \n",
        "r = mpatches.Patch(color='r', label='15 volt')\n",
        "g = mpatches.Patch(color='g', label='19 volt')\n",
        "b = mpatches.Patch(color='b', label='23 volt')\n",
        "c = mpatches.Patch(color='c', label='27 volt')\n",
        "\n",
        "plt.legend(handles=[r,g,b,c])\n",
        "plt.show()"
      ],
      "execution_count": null,
      "outputs": [
        {
          "output_type": "display_data",
          "data": {
            "image/png": "[encoded data removed]",
            "text/plain": [
              "<Figure size 432x288 with 1 Axes>"
            ]
          },
          "metadata": {
            "tags": [],
            "needs_background": "light"
          }
        }
      ]
    },
    {
      "cell_type": "code",
      "metadata": {
        "id": "qlZWrqldpFdt",
        "outputId": "4208f241-c972-4ace-fa0c-9851b8513265",
        "colab": {
          "base_uri": "https://localhost:8080/",
          "height": 34
        }
      },
      "source": [
        "list(dict.keys())"
      ],
      "execution_count": null,
      "outputs": [
        {
          "output_type": "execute_result",
          "data": {
            "text/plain": [
              "[15, 19, 23, 27]"
            ]
          },
          "metadata": {
            "tags": []
          },
          "execution_count": 104
        }
      ]
    },
    {
      "cell_type": "markdown",
      "metadata": {
        "id": "aPfDs0PyH6MK"
      },
      "source": [
        "### Line Chart"
      ]
    },
    {
      "cell_type": "code",
      "metadata": {
        "id": "7iet_pO4oxmm",
        "outputId": "de5debb6-917d-4374-a374-3d6bcd1970f5",
        "colab": {
          "base_uri": "https://localhost:8080/",
          "height": 276
        }
      },
      "source": [
        "#V = list(dict.keys())\n",
        "x = np.linspace(-30,30,num=61)\n",
        "for key in dict.keys():\n",
        "  plt.plot(dict[key], label = '%s volt' % key)\n",
        "plt.legend()\n",
        "plt.show()"
      ],
      "execution_count": null,
      "outputs": [
        {
          "output_type": "display_data",
          "data": {
            "image/png": "[encoded data removed]",
            "text/plain": [
              "<Figure size 432x288 with 1 Axes>"
            ]
          },
          "metadata": {
            "tags": [],
            "needs_background": "light"
          }
        }
      ]
    },
    {
      "cell_type": "markdown",
      "metadata": {
        "id": "lAsFd0m_NKF6"
      },
      "source": [
        ""
      ]
    },
    {
      "cell_type": "markdown",
      "metadata": {
        "id": "MRfGV2TNH9oN"
      },
      "source": [
        "### Interactive Line Chart"
      ]
    },
    {
      "cell_type": "code",
      "metadata": {
        "id": "BduvKnYoGRve"
      },
      "source": [
        "DFF = DFF.reset_index()"
      ],
      "execution_count": null,
      "outputs": []
    },
    {
      "cell_type": "code",
      "metadata": {
        "id": "LMA7Q_4oHEhG",
        "outputId": "4dce0e5a-dfb0-4be3-90b6-9cb35d94d093",
        "colab": {
          "base_uri": "https://localhost:8080/",
          "height": 34
        }
      },
      "source": [
        "list(DFF.columns)[1:]"
      ],
      "execution_count": null,
      "outputs": [
        {
          "output_type": "execute_result",
          "data": {
            "text/plain": [
              "[15, 19, 23, 27]"
            ]
          },
          "metadata": {
            "tags": []
          },
          "execution_count": 107
        }
      ]
    },
    {
      "cell_type": "code",
      "metadata": {
        "id": "6A0h-z6-GadF",
        "outputId": "aa59d54f-f9e7-4b80-9195-429a2c794dbd",
        "colab": {
          "base_uri": "https://localhost:8080/",
          "height": 542
        }
      },
      "source": [
        "DFP=pd.melt(DFF , id_vars=['index'], value_vars=list(DFF.columns)[1:])\n",
        "\n",
        "fig = px.line(DFP, x='index', y='value', color='variable')\n",
        "fig.show()"
      ],
      "execution_count": null,
      "outputs": [
        {
          "output_type": "display_data",
          "data": {
            "text/html": [
              "<html>\n",
              "<head><meta charset=\"utf-8\" /></head>\n",
              "<body>\n",
              "    <div>\n",
              "            <script src=\"https://cdnjs.cloudflare.com/ajax/libs/mathjax/2.7.5/MathJax.js?config=TeX-AMS-MML_SVG\"></script><script type=\"text/javascript\">if (window.MathJax) {MathJax.Hub.Config({SVG: {font: \"STIX-Web\"}});}</script>\n",
              "                <script type=\"text/javascript\">window.PlotlyConfig = {MathJaxConfig: 'local'};</script>\n",
              "        <script src=\"https://cdn.plot.ly/plotly-latest.min.js\"></script>    \n",
              "            <div id=\"d4bb8108-8c43-4637-b711-d7a343665853\" class=\"plotly-graph-div\" style=\"height:525px; width:100%;\"></div>\n",
              "            <script type=\"text/javascript\">\n",
              "                \n",
              "                    window.PLOTLYENV=window.PLOTLYENV || {};\n",
              "                    \n",
              "                if (document.getElementById(\"d4bb8108-8c43-4637-b711-d7a343665853\")) {\n",
              "                    Plotly.newPlot(\n",
              "                        'd4bb8108-8c43-4637-b711-d7a343665853',\n",
              "                        [{\"hoverlabel\": {\"namelength\": 0}, \"hovertemplate\": \"variable=15<br>index=%{x}<br>value=%{y}\", \"legendgroup\": \"variable=15\", \"line\": {\"color\": \"#636efa\", \"dash\": \"solid\"}, \"mode\": \"lines\", \"name\": \"variable=15\", \"showlegend\": true, \"type\": \"scattergl\", \"x\": [0, 1, 2, 3, 4, 5, 6, 7, 8, 9, 10, 11, 12, 13, 14, 15, 16, 17, 18, 19, 20, 21, 22, 23, 24, 25, 26, 27, 28, 29, 30, 31, 32, 33, 34, 35, 36, 37, 38, 39, 40, 41, 42, 43, 44, 45, 46, 47, 48, 49, 50, 51, 52, 53, 54, 55, 56, 57, 58, 59, 60, 61, 62, 63, 64, 65, 66, 67, 68, 69, 70, 71, 72, 73, 74, 75, 76, 77, 78, 79, 80, 81, 82, 83, 84, 85, 86, 87, 88, 89, 90, 91, 92, 93, 94, 95, 96, 97, 98, 99, 100, 101, 102, 103, 104, 105, 106, 107, 108, 109, 110, 111, 112, 113, 114, 115, 116, 117, 118, 119, 120, 121, 122, 123, 124, 125, 126, 127, 128, 129, 130, 131, 132, 133, 134, 135, 136, 137, 138, 139, 140, 141, 142, 143, 144, 145, 146, 147, 148, 149, 150, 151, 152, 153, 154, 155, 156, 157, 158, 159, 160, 161, 162, 163, 164, 165, 166, 167, 168, 169, 170, 171, 172, 173, 174, 175, 176, 177, 178, 179, 180, 181, 182, 183, 184, 185, 186, 187, 188, 189, 190, 191, 192, 193, 194, 195, 196, 197, 198, 199, 200, 201, 202, 203, 204, 205, 206, 207, 208, 209, 210, 211, 212, 213, 214, 215, 216, 217, 218, 219, 220, 221, 222, 223, 224, 225, 226, 227, 228, 229, 230, 231, 232, 233, 234, 235, 236, 237, 238, 239, 240, 241, 242, 243, 244, 245, 246, 247, 248, 249, 250], \"xaxis\": \"x\", \"y\": [-4.22731e-09, -1.29189e-09, 1.23651e-09, 3.80388e-09, 6.1189799999999995e-09, 8.2786e-09, 1.03676e-08, 1.2382799999999998e-08, 1.43698e-08, 1.63046e-08, 1.8250500000000002e-08, 2.0175799999999997e-08, 2.2054999999999998e-08, 2.3933100000000002e-08, 2.5792700000000002e-08, 2.7589799999999997e-08, 2.9401599999999996e-08, 3.11808e-08, 3.29074e-08, 3.4639599999999996e-08, 3.63446e-08, 3.79875e-08, 3.9637e-08, 4.125780000000001e-08, 4.28257e-08, 4.439369999999999e-08, 4.59347e-08, 4.74409e-08, 4.890119999999999e-08, 5.03654e-08, 5.1791300000000007e-08, 5.3165899999999996e-08, 5.45424e-08, 5.58948e-08, 5.71931e-08, 5.8483900000000004e-08, 5.9752e-08, 6.09669e-08, 6.21783e-08, 6.33596e-08, 6.44941e-08, 6.56223e-08, 6.67242e-08, 6.77837e-08, 6.88309e-08, 6.98541e-08, 7.08348e-08, 7.180810000000001e-08, 7.27587e-08, 7.36617e-08, 7.455489999999999e-08, 7.54218e-08, 7.627239999999999e-08, 7.70791e-08, 7.788289999999999e-08, 7.86638e-08, 7.94105e-08, 8.013099999999999e-08, 8.08383e-08, 8.150319999999998e-08, 8.21673e-08, 8.28091e-08, 8.3417e-08, 8.40231e-08, 8.460269999999999e-08, 8.51548e-08, 8.56819e-08, 8.62063e-08, 8.66956e-08, 8.71783e-08, 8.764710000000001e-08, 8.80833e-08, 8.85122e-08, 8.892530000000001e-08, 8.9327e-08, 8.96981e-08, 9.006639999999999e-08, 9.04143e-08, 9.07409e-08, 9.105510000000001e-08, 9.13613e-08, 9.16512e-08, 9.19381e-08, 9.219510000000002e-08, 9.244819999999999e-08, 9.26928e-08, 9.29299e-08, 9.313930000000001e-08, 9.33572e-08, 9.35556e-08, 9.37341e-08, 9.392669999999999e-08, 9.409829999999999e-08, 9.426349999999999e-08, 9.442739999999998e-08, 9.45832e-08, 9.47263e-08, 9.487489999999999e-08, 9.5016e-08, 9.515789999999999e-08, 9.529450000000001e-08, 9.542689999999998e-08, 9.55654e-08, 9.568480000000002e-08, 9.58177e-08, 9.59484e-08, 9.60708e-08, 9.62157e-08, 9.634889999999999e-08, 9.64788e-08, 9.660069999999999e-08, 9.67409e-08, 9.687380000000001e-08, 9.70087e-08, 9.713e-08, 9.724600000000001e-08, 9.736969999999999e-08, 9.74891e-08, 9.75995e-08, 9.7721e-08, 9.785019999999999e-08, 9.796439999999998e-08, 9.80879e-08, 9.82019e-08, 9.832510000000001e-08, 9.843860000000002e-08, 9.856339999999999e-08, 9.86738e-08, 9.878739999999999e-08, 9.89069e-08, 9.901730000000001e-08, 9.91271e-08, 9.92547e-08, 9.936529999999999e-08, 9.9481e-08, 9.95949e-08, 9.97078e-08, 9.982480000000001e-08, 9.99317e-08, 1.000385e-07, 1.00153e-07, 1.0026e-07, 1.003735e-07, 1.0048220000000001e-07, 1.0058740000000001e-07, 1.0069889999999999e-07, 1.008119e-07, 1.009055e-07, 1.010171e-07, 1.0112060000000001e-07, 1.012285e-07, 1.0132639999999999e-07, 1.014394e-07, 1.015368e-07, 1.016343e-07, 1.017399e-07, 1.018333e-07, 1.0194369999999999e-07, 1.0204650000000001e-07, 1.021557e-07, 1.0226189999999999e-07, 1.0236880000000001e-07, 1.024704e-07, 1.025824e-07, 1.02698e-07, 1.027939e-07, 1.029017e-07, 1.0300100000000001e-07, 1.031199e-07, 1.032348e-07, 1.033535e-07, 1.0345539999999999e-07, 1.035575e-07, 1.036705e-07, 1.037795e-07, 1.038964e-07, 1.040127e-07, 1.0413019999999999e-07, 1.04268e-07, 1.04396e-07, 1.04502e-07, 1.04605e-07, 1.047e-07, 1.04791e-07, 1.0486499999999999e-07, 1.0494000000000001e-07, 1.04996e-07, 1.05051e-07, 1.05116e-07, 1.0517699999999999e-07, 1.05269e-07, 1.05369e-07, 1.05441e-07, 1.05536e-07, 1.0564299999999999e-07, 1.05742e-07, 1.05824e-07, 1.0591900000000001e-07, 1.06004e-07, 1.06105e-07, 1.062e-07, 1.06287e-07, 1.06386e-07, 1.0647399999999999e-07, 1.06576e-07, 1.0667e-07, 1.06753e-07, 1.06849e-07, 1.06944e-07, 1.07034e-07, 1.07139e-07, 1.07235e-07, 1.0732100000000001e-07, 1.07424e-07, 1.07516e-07, 1.07599e-07, 1.07691e-07, 1.07782e-07, 1.0788e-07, 1.07979e-07, 1.08072e-07, 1.08159e-07, 1.0825300000000001e-07, 1.08357e-07, 1.08439e-07, 1.08527e-07, 1.08616e-07, 1.08707e-07, 1.08794e-07, 1.08886e-07, 1.0897299999999999e-07, 1.0905999999999999e-07, 1.0915e-07, 1.0925e-07, 1.09338e-07, 1.09432e-07, 1.0952e-07, 1.09598e-07, 1.09702e-07, 1.0979699999999999e-07, 1.09891e-07, 1.0998100000000001e-07, 1.10127e-07, 1.10336e-07, 1.1051399999999999e-07, 1.10629e-07, 1.10753e-07, 1.1085300000000001e-07, 1.10966e-07, 1.11071e-07, 1.11173e-07], \"yaxis\": \"y\"}, {\"hoverlabel\": {\"namelength\": 0}, \"hovertemplate\": \"variable=19<br>index=%{x}<br>value=%{y}\", \"legendgroup\": \"variable=19\", \"line\": {\"color\": \"#EF553B\", \"dash\": \"solid\"}, \"mode\": \"lines\", \"name\": \"variable=19\", \"showlegend\": true, \"type\": \"scattergl\", \"x\": [0, 1, 2, 3, 4, 5, 6, 7, 8, 9, 10, 11, 12, 13, 14, 15, 16, 17, 18, 19, 20, 21, 22, 23, 24, 25, 26, 27, 28, 29, 30, 31, 32, 33, 34, 35, 36, 37, 38, 39, 40, 41, 42, 43, 44, 45, 46, 47, 48, 49, 50, 51, 52, 53, 54, 55, 56, 57, 58, 59, 60, 61, 62, 63, 64, 65, 66, 67, 68, 69, 70, 71, 72, 73, 74, 75, 76, 77, 78, 79, 80, 81, 82, 83, 84, 85, 86, 87, 88, 89, 90, 91, 92, 93, 94, 95, 96, 97, 98, 99, 100, 101, 102, 103, 104, 105, 106, 107, 108, 109, 110, 111, 112, 113, 114, 115, 116, 117, 118, 119, 120, 121, 122, 123, 124, 125, 126, 127, 128, 129, 130, 131, 132, 133, 134, 135, 136, 137, 138, 139, 140, 141, 142, 143, 144, 145, 146, 147, 148, 149, 150, 151, 152, 153, 154, 155, 156, 157, 158, 159, 160, 161, 162, 163, 164, 165, 166, 167, 168, 169, 170, 171, 172, 173, 174, 175, 176, 177, 178, 179, 180, 181, 182, 183, 184, 185, 186, 187, 188, 189, 190, 191, 192, 193, 194, 195, 196, 197, 198, 199, 200, 201, 202, 203, 204, 205, 206, 207, 208, 209, 210, 211, 212, 213, 214, 215, 216, 217, 218, 219, 220, 221, 222, 223, 224, 225, 226, 227, 228, 229, 230, 231, 232, 233, 234, 235, 236, 237, 238, 239, 240, 241, 242, 243, 244, 245, 246, 247, 248, 249, 250], \"xaxis\": \"x\", \"y\": [-9.885e-09, -2.21647e-09, 3.7910100000000005e-09, 8.560700000000002e-09, 1.28795e-08, 1.7035e-08, 2.1086900000000003e-08, 2.5152099999999998e-08, 2.91704e-08, 3.30941e-08, 3.70576e-08, 4.099530000000001e-08, 4.483709999999999e-08, 4.87059e-08, 5.25689e-08, 5.632999999999999e-08, 6.01182e-08, 6.38749e-08, 6.75357e-08, 7.12264e-08, 7.49012e-08, 7.8483e-08, 8.2084e-08, 8.564810000000002e-08, 8.909800000000001e-08, 9.25661e-08, 9.609060000000001e-08, 9.95613e-08, 1.0296099999999999e-07, 1.06328e-07, 1.0962199999999999e-07, 1.12829e-07, 1.16048e-07, 1.19213e-07, 1.22296e-07, 1.25376e-07, 1.28445e-07, 1.31395e-07, 1.3437599999999999e-07, 1.3731299999999998e-07, 1.40122e-07, 1.42957e-07, 1.45772e-07, 1.48477e-07, 1.5120599999999998e-07, 1.53884e-07, 1.56478e-07, 1.5907600000000001e-07, 1.61632e-07, 1.6408899999999998e-07, 1.66577e-07, 1.68981e-07, 1.7137499999999998e-07, 1.73699e-07, 1.76004e-07, 1.7828299999999998e-07, 1.80468e-07, 1.82656e-07, 1.84808e-07, 1.86882e-07, 1.8897000000000003e-07, 1.9099699999999997e-07, 1.92968e-07, 1.9489999999999998e-07, 1.96805e-07, 1.9865100000000002e-07, 2.00489e-07, 2.0229399999999997e-07, 2.0403800000000002e-07, 2.0575399999999998e-07, 2.07436e-07, 2.09083e-07, 2.1068699999999999e-07, 2.1228100000000002e-07, 2.13811e-07, 2.1528000000000003e-07, 2.16766e-07, 2.18205e-07, 2.19608e-07, 2.20974e-07, 2.22305e-07, 2.2359700000000001e-07, 2.2485299999999998e-07, 2.2609600000000001e-07, 2.2728500000000001e-07, 2.28471e-07, 2.2959199999999998e-07, 2.30683e-07, 2.3178e-07, 2.3282900000000003e-07, 2.33845e-07, 2.3484799999999999e-07, 2.35811e-07, 2.36724e-07, 2.37655e-07, 2.38524e-07, 2.3939e-07, 2.4020099999999997e-07, 2.40998e-07, 2.4177600000000003e-07, 2.42534e-07, 2.4328000000000004e-07, 2.43961e-07, 2.44681e-07, 2.4533899999999997e-07, 2.4598000000000004e-07, 2.46562e-07, 2.47162e-07, 2.47731e-07, 2.48262e-07, 2.48807e-07, 2.49304e-07, 2.49757e-07, 2.5024e-07, 2.50683e-07, 2.51122e-07, 2.51529e-07, 2.5191999999999994e-07, 2.5230999999999996e-07, 2.52663e-07, 2.53015e-07, 2.5336099999999996e-07, 2.53661e-07, 2.53982e-07, 2.54281e-07, 2.5455999999999997e-07, 2.54857e-07, 2.55139e-07, 2.55413e-07, 2.5566e-07, 2.55909e-07, 2.56169e-07, 2.56399e-07, 2.56645e-07, 2.56863e-07, 2.57122e-07, 2.57349e-07, 2.57574e-07, 2.5781300000000003e-07, 2.58036e-07, 2.58241e-07, 2.58464e-07, 2.5869e-07, 2.58901e-07, 2.5910499999999996e-07, 2.59303e-07, 2.59465e-07, 2.59673e-07, 2.59898e-07, 2.60042e-07, 2.60257e-07, 2.60442e-07, 2.60637e-07, 2.60823e-07, 2.6099e-07, 2.61166e-07, 2.6133800000000003e-07, 2.61493e-07, 2.61655e-07, 2.6183e-07, 2.62017e-07, 2.6217600000000003e-07, 2.62351e-07, 2.6252300000000003e-07, 2.6268399999999997e-07, 2.62863e-07, 2.63004e-07, 2.63169e-07, 2.63338e-07, 2.63514e-07, 2.63693e-07, 2.6384599999999997e-07, 2.64022e-07, 2.64177e-07, 2.64333e-07, 2.64481e-07, 2.64632e-07, 2.64821e-07, 2.64987e-07, 2.65122e-07, 2.6526e-07, 2.6542300000000003e-07, 2.6558e-07, 2.65744e-07, 2.65896e-07, 2.66071e-07, 2.66229e-07, 2.66358e-07, 2.66508e-07, 2.66665e-07, 2.6679600000000003e-07, 2.66962e-07, 2.67092e-07, 2.6724900000000004e-07, 2.6734100000000004e-07, 2.67491e-07, 2.67659e-07, 2.67807e-07, 2.67938e-07, 2.68053e-07, 2.68205e-07, 2.68344e-07, 2.68469e-07, 2.68602e-07, 2.6871200000000003e-07, 2.68859e-07, 2.68978e-07, 2.69112e-07, 2.6925e-07, 2.69371e-07, 2.69503e-07, 2.69608e-07, 2.69756e-07, 2.69878e-07, 2.70013e-07, 2.7015399999999997e-07, 2.70277e-07, 2.7039200000000003e-07, 2.70518e-07, 2.70647e-07, 2.70753e-07, 2.70876e-07, 2.7097e-07, 2.71074e-07, 2.71192e-07, 2.71244e-07, 2.71374e-07, 2.71453e-07, 2.71534e-07, 2.71603e-07, 2.71709e-07, 2.7179200000000003e-07, 2.71875e-07, 2.71964e-07, 2.72083e-07, 2.72175e-07, 2.72289e-07, 2.72423e-07, 2.72539e-07, 2.7262799999999997e-07, 2.72729e-07, 2.7285e-07, 2.72967e-07, 2.7307e-07, 2.73187e-07, 2.73322e-07, 2.73434e-07, 2.7354700000000003e-07, 2.73654e-07, 2.7374e-07, 2.73859e-07], \"yaxis\": \"y\"}, {\"hoverlabel\": {\"namelength\": 0}, \"hovertemplate\": \"variable=23<br>index=%{x}<br>value=%{y}\", \"legendgroup\": \"variable=23\", \"line\": {\"color\": \"#00cc96\", \"dash\": \"solid\"}, \"mode\": \"lines\", \"name\": \"variable=23\", \"showlegend\": true, \"type\": \"scattergl\", \"x\": [0, 1, 2, 3, 4, 5, 6, 7, 8, 9, 10, 11, 12, 13, 14, 15, 16, 17, 18, 19, 20, 21, 22, 23, 24, 25, 26, 27, 28, 29, 30, 31, 32, 33, 34, 35, 36, 37, 38, 39, 40, 41, 42, 43, 44, 45, 46, 47, 48, 49, 50, 51, 52, 53, 54, 55, 56, 57, 58, 59, 60, 61, 62, 63, 64, 65, 66, 67, 68, 69, 70, 71, 72, 73, 74, 75, 76, 77, 78, 79, 80, 81, 82, 83, 84, 85, 86, 87, 88, 89, 90, 91, 92, 93, 94, 95, 96, 97, 98, 99, 100, 101, 102, 103, 104, 105, 106, 107, 108, 109, 110, 111, 112, 113, 114, 115, 116, 117, 118, 119, 120, 121, 122, 123, 124, 125, 126, 127, 128, 129, 130, 131, 132, 133, 134, 135, 136, 137, 138, 139, 140, 141, 142, 143, 144, 145, 146, 147, 148, 149, 150, 151, 152, 153, 154, 155, 156, 157, 158, 159, 160, 161, 162, 163, 164, 165, 166, 167, 168, 169, 170, 171, 172, 173, 174, 175, 176, 177, 178, 179, 180, 181, 182, 183, 184, 185, 186, 187, 188, 189, 190, 191, 192, 193, 194, 195, 196, 197, 198, 199, 200, 201, 202, 203, 204, 205, 206, 207, 208, 209, 210, 211, 212, 213, 214, 215, 216, 217, 218, 219, 220, 221, 222, 223, 224, 225, 226, 227, 228, 229, 230, 231, 232, 233, 234, 235, 236, 237, 238, 239, 240, 241, 242, 243, 244, 245, 246, 247, 248, 249, 250], \"xaxis\": \"x\", \"y\": [-1.01165e-08, 1.4087e-10, 8.5073e-09, 1.5737e-08, 2.2758799999999998e-08, 2.9639e-08, 3.63106e-08, 4.301769999999999e-08, 4.9651e-08, 5.61289e-08, 6.26961e-08, 6.919569999999999e-08, 7.56053e-08, 8.20261e-08, 8.84184e-08, 9.4482e-08, 1.00709e-07, 1.0702299999999999e-07, 1.13155e-07, 1.1932e-07, 1.25422e-07, 1.3139300000000002e-07, 1.3741300000000001e-07, 1.43377e-07, 1.492e-07, 1.55067e-07, 1.6088799999999998e-07, 1.6666e-07, 1.72318e-07, 1.77976e-07, 1.8363099999999999e-07, 1.89111e-07, 1.94692e-07, 2.00169e-07, 2.05528e-07, 2.1092099999999999e-07, 2.1625800000000003e-07, 2.2146799999999998e-07, 2.2669899999999998e-07, 2.3185199999999998e-07, 2.36907e-07, 2.41993e-07, 2.47004e-07, 2.51862e-07, 2.5679e-07, 2.6167899999999997e-07, 2.6639099999999997e-07, 2.71147e-07, 2.75868e-07, 2.80444e-07, 2.85013e-07, 2.89562e-07, 2.94039e-07, 2.98413e-07, 3.0280899999999997e-07, 3.07157e-07, 3.11353e-07, 3.15545e-07, 3.19735e-07, 3.23825e-07, 3.2791800000000004e-07, 3.31954e-07, 3.35863e-07, 3.39801e-07, 3.43641e-07, 3.47392e-07, 3.5114000000000006e-07, 3.5482500000000003e-07, 3.5844200000000003e-07, 3.6203e-07, 3.65571e-07, 3.6902700000000004e-07, 3.72487e-07, 3.75881e-07, 3.7926699999999995e-07, 3.82555e-07, 3.85767e-07, 3.8896700000000004e-07, 3.9204e-07, 3.9513000000000007e-07, 3.9822200000000003e-07, 4.0117800000000005e-07, 4.04138e-07, 4.07052e-07, 4.0982300000000003e-07, 4.12678e-07, 4.15443e-07, 4.18115e-07, 4.20825e-07, 4.23429e-07, 4.25952e-07, 4.28482e-07, 4.3097e-07, 4.33401e-07, 4.35788e-07, 4.3817100000000004e-07, 4.4044199999999994e-07, 4.42686e-07, 4.44913e-07, 4.47094e-07, 4.49174e-07, 4.5127699999999997e-07, 4.53344e-07, 4.55332e-07, 4.57293e-07, 4.59231e-07, 4.61036e-07, 4.62897e-07, 4.64749e-07, 4.66438e-07, 4.6816699999999996e-07, 4.6990299999999997e-07, 4.7150199999999996e-07, 4.7309399999999996e-07, 4.74667e-07, 4.76154e-07, 4.77634e-07, 4.79107e-07, 4.80569e-07, 4.81943e-07, 4.83304e-07, 4.846370000000001e-07, 4.858979999999999e-07, 4.871529999999999e-07, 4.88348e-07, 4.894930000000001e-07, 4.906589999999999e-07, 4.91778e-07, 4.92836e-07, 4.9389e-07, 4.94953e-07, 4.95914e-07, 4.96885e-07, 4.97806e-07, 4.98685e-07, 4.9957e-07, 5.00438e-07, 5.01237e-07, 5.020320000000001e-07, 5.02781e-07, 5.03542e-07, 5.042519999999999e-07, 5.04965e-07, 5.05572e-07, 5.062239999999999e-07, 5.06838e-07, 5.0744e-07, 5.07991e-07, 5.08583e-07, 5.09165e-07, 5.09621e-07, 5.10086e-07, 5.105550000000001e-07, 5.11005e-07, 5.11454e-07, 5.118670000000001e-07, 5.12246e-07, 5.12672e-07, 5.1302e-07, 5.1341e-07, 5.13774e-07, 5.14131e-07, 5.14452e-07, 5.14795e-07, 5.15126e-07, 5.15459e-07, 5.15766e-07, 5.16051e-07, 5.16355e-07, 5.16654e-07, 5.16958e-07, 5.17265e-07, 5.17555e-07, 5.17848e-07, 5.181569999999999e-07, 5.18467e-07, 5.18752e-07, 5.19031e-07, 5.19297e-07, 5.19575e-07, 5.19889e-07, 5.20143e-07, 5.20413e-07, 5.20678e-07, 5.209230000000001e-07, 5.21208e-07, 5.21464e-07, 5.216819999999999e-07, 5.21963e-07, 5.22187e-07, 5.2244e-07, 5.22669e-07, 5.22966e-07, 5.23181e-07, 5.23413e-07, 5.23594e-07, 5.238219999999999e-07, 5.24039e-07, 5.24236e-07, 5.24492e-07, 5.246849999999999e-07, 5.24908e-07, 5.25152e-07, 5.253880000000001e-07, 5.255830000000001e-07, 5.25801e-07, 5.26021e-07, 5.26214e-07, 5.26432e-07, 5.26628e-07, 5.26808e-07, 5.27043e-07, 5.27275e-07, 5.27494e-07, 5.27653e-07, 5.27863e-07, 5.28109e-07, 5.28256e-07, 5.284640000000001e-07, 5.28697e-07, 5.28859e-07, 5.29046e-07, 5.292219999999999e-07, 5.29379e-07, 5.29616e-07, 5.29788e-07, 5.2995e-07, 5.30168e-07, 5.303470000000001e-07, 5.30456e-07, 5.30667e-07, 5.30841e-07, 5.30983e-07, 5.31153e-07, 5.31269e-07, 5.31434e-07, 5.31631e-07, 5.3178e-07, 5.31929e-07, 5.32089e-07, 5.32252e-07, 5.3245e-07, 5.325990000000001e-07, 5.32758e-07, 5.32939e-07, 5.33109e-07, 5.33259e-07, 5.334109999999999e-07, 5.33527e-07, 5.33695e-07, 5.33816e-07], \"yaxis\": \"y\"}, {\"hoverlabel\": {\"namelength\": 0}, \"hovertemplate\": \"variable=27<br>index=%{x}<br>value=%{y}\", \"legendgroup\": \"variable=27\", \"line\": {\"color\": \"#ab63fa\", \"dash\": \"solid\"}, \"mode\": \"lines\", \"name\": \"variable=27\", \"showlegend\": true, \"type\": \"scattergl\", \"x\": [0, 1, 2, 3, 4, 5, 6, 7, 8, 9, 10, 11, 12, 13, 14, 15, 16, 17, 18, 19, 20, 21, 22, 23, 24, 25, 26, 27, 28, 29, 30, 31, 32, 33, 34, 35, 36, 37, 38, 39, 40, 41, 42, 43, 44, 45, 46, 47, 48, 49, 50, 51, 52, 53, 54, 55, 56, 57, 58, 59, 60, 61, 62, 63, 64, 65, 66, 67, 68, 69, 70, 71, 72, 73, 74, 75, 76, 77, 78, 79, 80, 81, 82, 83, 84, 85, 86, 87, 88, 89, 90, 91, 92, 93, 94, 95, 96, 97, 98, 99, 100, 101, 102, 103, 104, 105, 106, 107, 108, 109, 110, 111, 112, 113, 114, 115, 116, 117, 118, 119, 120, 121, 122, 123, 124, 125, 126, 127, 128, 129, 130, 131, 132, 133, 134, 135, 136, 137, 138, 139, 140, 141, 142, 143, 144, 145, 146, 147, 148, 149, 150, 151, 152, 153, 154, 155, 156, 157, 158, 159, 160, 161, 162, 163, 164, 165, 166, 167, 168, 169, 170, 171, 172, 173, 174, 175, 176, 177, 178, 179, 180, 181, 182, 183, 184, 185, 186, 187, 188, 189, 190, 191, 192, 193, 194, 195, 196, 197, 198, 199, 200, 201, 202, 203, 204, 205, 206, 207, 208, 209, 210, 211, 212, 213, 214, 215, 216, 217, 218, 219, 220, 221, 222, 223, 224, 225, 226, 227, 228, 229, 230, 231, 232, 233, 234, 235, 236, 237, 238, 239, 240, 241, 242, 243, 244, 245, 246, 247, 248, 249, 250], \"xaxis\": \"x\", \"y\": [-1.09552e-08, 2.21681e-09, 1.33594e-08, 2.33577e-08, 3.3122599999999996e-08, 4.27639e-08, 5.215009999999999e-08, 6.1626e-08, 7.0999e-08, 8.02073e-08, 8.95488e-08, 9.860619999999999e-08, 1.0752900000000001e-07, 1.1680199999999999e-07, 1.25967e-07, 1.34895e-07, 1.4399499999999999e-07, 1.5300499999999999e-07, 1.6184999999999998e-07, 1.70749e-07, 1.79667e-07, 1.88338e-07, 1.97155e-07, 2.0586e-07, 2.1436e-07, 2.22988e-07, 2.31633e-07, 2.4016e-07, 2.48453e-07, 2.56872e-07, 2.6528500000000004e-07, 2.73465e-07, 2.81729e-07, 2.89924e-07, 2.9793600000000003e-07, 3.05971e-07, 3.14072e-07, 3.21845e-07, 3.2979900000000003e-07, 3.37605e-07, 3.45227e-07, 3.5301e-07, 3.60655e-07, 3.68166e-07, 3.75674e-07, 3.8313899999999995e-07, 3.90465e-07, 3.9777700000000003e-07, 4.05111e-07, 4.1229e-07, 4.19435e-07, 4.2653999999999995e-07, 4.33658e-07, 4.4048699999999997e-07, 4.47478e-07, 4.54407e-07, 4.61145e-07, 4.6784999999999994e-07, 4.74524e-07, 4.81017e-07, 4.87531e-07, 4.94026e-07, 5.003560000000001e-07, 5.06696e-07, 5.13045e-07, 5.19237e-07, 5.2537e-07, 5.3149e-07, 5.37492e-07, 5.43516e-07, 5.49394e-07, 5.55229e-07, 5.61019e-07, 5.66768e-07, 5.72423e-07, 5.78004e-07, 5.83523e-07, 5.88953e-07, 5.94305e-07, 5.99662e-07, 6.05062e-07, 6.10201e-07, 6.154639999999999e-07, 6.20604e-07, 6.25463e-07, 6.30484e-07, 6.35472e-07, 6.40294e-07, 6.45194e-07, 6.499030000000001e-07, 6.54555e-07, 6.59246e-07, 6.638330000000001e-07, 6.68251e-07, 6.72747e-07, 6.771639999999999e-07, 6.81376e-07, 6.85687e-07, 6.899600000000001e-07, 6.94148e-07, 6.98128e-07, 7.022450000000001e-07, 7.06234e-07, 7.100920000000001e-07, 7.13991e-07, 7.178789999999999e-07, 7.21592e-07, 7.25347e-07, 7.29036e-07, 7.325610000000001e-07, 7.361079999999999e-07, 7.39677e-07, 7.43057e-07, 7.46446e-07, 7.49806e-07, 7.530660000000001e-07, 7.56339e-07, 7.59542e-07, 7.62575e-07, 7.657250000000001e-07, 7.68764e-07, 7.7173e-07, 7.745789999999999e-07, 7.77428e-07, 7.803029999999999e-07, 7.83046e-07, 7.857540000000001e-07, 7.88515e-07, 7.91047e-07, 7.936499999999999e-07, 7.96155e-07, 7.98572e-07, 8.009780000000001e-07, 8.033830000000001e-07, 8.0572e-07, 8.079309999999999e-07, 8.10181e-07, 8.12395e-07, 8.14606e-07, 8.167430000000001e-07, 8.18745e-07, 8.20813e-07, 8.22821e-07, 8.247509999999999e-07, 8.26633e-07, 8.28484e-07, 8.30273e-07, 8.32089e-07, 8.33818e-07, 8.355599999999999e-07, 8.371330000000001e-07, 8.38718e-07, 8.40283e-07, 8.417870000000001e-07, 8.43284e-07, 8.44745e-07, 8.4619e-07, 8.47561e-07, 8.489430000000001e-07, 8.502039999999999e-07, 8.51545e-07, 8.527859999999999e-07, 8.53965e-07, 8.552e-07, 8.562850000000001e-07, 8.57409e-07, 8.58435e-07, 8.5947e-07, 8.605259999999999e-07, 8.614929999999999e-07, 8.624450000000001e-07, 8.633369999999999e-07, 8.64207e-07, 8.650299999999999e-07, 8.65844e-07, 8.66661e-07, 8.674600000000001e-07, 8.682389999999999e-07, 8.68997e-07, 8.69653e-07, 8.7031e-07, 8.709180000000001e-07, 8.71623e-07, 8.72217e-07, 8.72803e-07, 8.734200000000001e-07, 8.74033e-07, 8.74575e-07, 8.75147e-07, 8.75715e-07, 8.76236e-07, 8.768349999999999e-07, 8.773700000000001e-07, 8.77844e-07, 8.78373e-07, 8.788639999999999e-07, 8.79363e-07, 8.798999999999999e-07, 8.803019999999999e-07, 8.80865e-07, 8.81306e-07, 8.81762e-07, 8.822399999999999e-07, 8.82641e-07, 8.83168e-07, 8.83595e-07, 8.840550000000001e-07, 8.84481e-07, 8.849450000000001e-07, 8.85322e-07, 8.85818e-07, 8.86217e-07, 8.866079999999999e-07, 8.870860000000001e-07, 8.87465e-07, 8.878830000000001e-07, 8.88313e-07, 8.88695e-07, 8.891450000000001e-07, 8.89487e-07, 8.89836e-07, 8.90201e-07, 8.90564e-07, 8.90938e-07, 8.91341e-07, 8.917329999999999e-07, 8.92047e-07, 8.924280000000001e-07, 8.92777e-07, 8.93142e-07, 8.93439e-07, 8.9383e-07, 8.94147e-07, 8.94418e-07, 8.94702e-07, 8.95057e-07, 8.953440000000001e-07, 8.956780000000001e-07, 8.95943e-07, 8.9632e-07, 8.96629e-07, 8.96896e-07, 8.97217e-07, 8.97458e-07, 8.97698e-07, 8.97985e-07, 8.982989999999999e-07, 8.98604e-07, 8.98869e-07, 8.990819999999999e-07, 8.99358e-07], \"yaxis\": \"y\"}],\n",
              "                        {\"legend\": {\"tracegroupgap\": 0}, \"margin\": {\"t\": 60}, \"template\": {\"data\": {\"bar\": [{\"error_x\": {\"color\": \"#2a3f5f\"}, \"error_y\": {\"color\": \"#2a3f5f\"}, \"marker\": {\"line\": {\"color\": \"#E5ECF6\", \"width\": 0.5}}, \"type\": \"bar\"}], \"barpolar\": [{\"marker\": {\"line\": {\"color\": \"#E5ECF6\", \"width\": 0.5}}, \"type\": \"barpolar\"}], \"carpet\": [{\"aaxis\": {\"endlinecolor\": \"#2a3f5f\", \"gridcolor\": \"white\", \"linecolor\": \"white\", \"minorgridcolor\": \"white\", \"startlinecolor\": \"#2a3f5f\"}, \"baxis\": {\"endlinecolor\": \"#2a3f5f\", \"gridcolor\": \"white\", \"linecolor\": \"white\", \"minorgridcolor\": \"white\", \"startlinecolor\": \"#2a3f5f\"}, \"type\": \"carpet\"}], \"choropleth\": [{\"colorbar\": {\"outlinewidth\": 0, \"ticks\": \"\"}, \"type\": \"choropleth\"}], \"contour\": [{\"colorbar\": {\"outlinewidth\": 0, \"ticks\": \"\"}, \"colorscale\": [[0.0, \"#0d0887\"], [0.1111111111111111, \"#46039f\"], [0.2222222222222222, \"#7201a8\"], [0.3333333333333333, \"#9c179e\"], [0.4444444444444444, \"#bd3786\"], [0.5555555555555556, \"#d8576b\"], [0.6666666666666666, \"#ed7953\"], [0.7777777777777778, \"#fb9f3a\"], [0.8888888888888888, \"#fdca26\"], [1.0, \"#f0f921\"]], \"type\": \"contour\"}], \"contourcarpet\": [{\"colorbar\": {\"outlinewidth\": 0, \"ticks\": \"\"}, \"type\": \"contourcarpet\"}], \"heatmap\": [{\"colorbar\": {\"outlinewidth\": 0, \"ticks\": \"\"}, \"colorscale\": [[0.0, \"#0d0887\"], [0.1111111111111111, \"#46039f\"], [0.2222222222222222, \"#7201a8\"], [0.3333333333333333, \"#9c179e\"], [0.4444444444444444, \"#bd3786\"], [0.5555555555555556, \"#d8576b\"], [0.6666666666666666, \"#ed7953\"], [0.7777777777777778, \"#fb9f3a\"], [0.8888888888888888, \"#fdca26\"], [1.0, \"#f0f921\"]], \"type\": \"heatmap\"}], \"heatmapgl\": [{\"colorbar\": {\"outlinewidth\": 0, \"ticks\": \"\"}, \"colorscale\": [[0.0, \"#0d0887\"], [0.1111111111111111, \"#46039f\"], [0.2222222222222222, \"#7201a8\"], [0.3333333333333333, \"#9c179e\"], [0.4444444444444444, \"#bd3786\"], [0.5555555555555556, \"#d8576b\"], [0.6666666666666666, \"#ed7953\"], [0.7777777777777778, \"#fb9f3a\"], [0.8888888888888888, \"#fdca26\"], [1.0, \"#f0f921\"]], \"type\": \"heatmapgl\"}], \"histogram\": [{\"marker\": {\"colorbar\": {\"outlinewidth\": 0, \"ticks\": \"\"}}, \"type\": \"histogram\"}], \"histogram2d\": [{\"colorbar\": {\"outlinewidth\": 0, \"ticks\": \"\"}, \"colorscale\": [[0.0, \"#0d0887\"], [0.1111111111111111, \"#46039f\"], [0.2222222222222222, \"#7201a8\"], [0.3333333333333333, \"#9c179e\"], [0.4444444444444444, \"#bd3786\"], [0.5555555555555556, \"#d8576b\"], [0.6666666666666666, \"#ed7953\"], [0.7777777777777778, \"#fb9f3a\"], [0.8888888888888888, \"#fdca26\"], [1.0, \"#f0f921\"]], \"type\": \"histogram2d\"}], \"histogram2dcontour\": [{\"colorbar\": {\"outlinewidth\": 0, \"ticks\": \"\"}, \"colorscale\": [[0.0, \"#0d0887\"], [0.1111111111111111, \"#46039f\"], [0.2222222222222222, \"#7201a8\"], [0.3333333333333333, \"#9c179e\"], [0.4444444444444444, \"#bd3786\"], [0.5555555555555556, \"#d8576b\"], [0.6666666666666666, \"#ed7953\"], [0.7777777777777778, \"#fb9f3a\"], [0.8888888888888888, \"#fdca26\"], [1.0, \"#f0f921\"]], \"type\": \"histogram2dcontour\"}], \"mesh3d\": [{\"colorbar\": {\"outlinewidth\": 0, \"ticks\": \"\"}, \"type\": \"mesh3d\"}], \"parcoords\": [{\"line\": {\"colorbar\": {\"outlinewidth\": 0, \"ticks\": \"\"}}, \"type\": \"parcoords\"}], \"pie\": [{\"automargin\": true, \"type\": \"pie\"}], \"scatter\": [{\"marker\": {\"colorbar\": {\"outlinewidth\": 0, \"ticks\": \"\"}}, \"type\": \"scatter\"}], \"scatter3d\": [{\"line\": {\"colorbar\": {\"outlinewidth\": 0, \"ticks\": \"\"}}, \"marker\": {\"colorbar\": {\"outlinewidth\": 0, \"ticks\": \"\"}}, \"type\": \"scatter3d\"}], \"scattercarpet\": [{\"marker\": {\"colorbar\": {\"outlinewidth\": 0, \"ticks\": \"\"}}, \"type\": \"scattercarpet\"}], \"scattergeo\": [{\"marker\": {\"colorbar\": {\"outlinewidth\": 0, \"ticks\": \"\"}}, \"type\": \"scattergeo\"}], \"scattergl\": [{\"marker\": {\"colorbar\": {\"outlinewidth\": 0, \"ticks\": \"\"}}, \"type\": \"scattergl\"}], \"scattermapbox\": [{\"marker\": {\"colorbar\": {\"outlinewidth\": 0, \"ticks\": \"\"}}, \"type\": \"scattermapbox\"}], \"scatterpolar\": [{\"marker\": {\"colorbar\": {\"outlinewidth\": 0, \"ticks\": \"\"}}, \"type\": \"scatterpolar\"}], \"scatterpolargl\": [{\"marker\": {\"colorbar\": {\"outlinewidth\": 0, \"ticks\": \"\"}}, \"type\": \"scatterpolargl\"}], \"scatterternary\": [{\"marker\": {\"colorbar\": {\"outlinewidth\": 0, \"ticks\": \"\"}}, \"type\": \"scatterternary\"}], \"surface\": [{\"colorbar\": {\"outlinewidth\": 0, \"ticks\": \"\"}, \"colorscale\": [[0.0, \"#0d0887\"], [0.1111111111111111, \"#46039f\"], [0.2222222222222222, \"#7201a8\"], [0.3333333333333333, \"#9c179e\"], [0.4444444444444444, \"#bd3786\"], [0.5555555555555556, \"#d8576b\"], [0.6666666666666666, \"#ed7953\"], [0.7777777777777778, \"#fb9f3a\"], [0.8888888888888888, \"#fdca26\"], [1.0, \"#f0f921\"]], \"type\": \"surface\"}], \"table\": [{\"cells\": {\"fill\": {\"color\": \"#EBF0F8\"}, \"line\": {\"color\": \"white\"}}, \"header\": {\"fill\": {\"color\": \"#C8D4E3\"}, \"line\": {\"color\": \"white\"}}, \"type\": \"table\"}]}, \"layout\": {\"annotationdefaults\": {\"arrowcolor\": \"#2a3f5f\", \"arrowhead\": 0, \"arrowwidth\": 1}, \"coloraxis\": {\"colorbar\": {\"outlinewidth\": 0, \"ticks\": \"\"}}, \"colorscale\": {\"diverging\": [[0, \"#8e0152\"], [0.1, \"#c51b7d\"], [0.2, \"#de77ae\"], [0.3, \"#f1b6da\"], [0.4, \"#fde0ef\"], [0.5, \"#f7f7f7\"], [0.6, \"#e6f5d0\"], [0.7, \"#b8e186\"], [0.8, \"#7fbc41\"], [0.9, \"#4d9221\"], [1, \"#276419\"]], \"sequential\": [[0.0, \"#0d0887\"], [0.1111111111111111, \"#46039f\"], [0.2222222222222222, \"#7201a8\"], [0.3333333333333333, \"#9c179e\"], [0.4444444444444444, \"#bd3786\"], [0.5555555555555556, \"#d8576b\"], [0.6666666666666666, \"#ed7953\"], [0.7777777777777778, \"#fb9f3a\"], [0.8888888888888888, \"#fdca26\"], [1.0, \"#f0f921\"]], \"sequentialminus\": [[0.0, \"#0d0887\"], [0.1111111111111111, \"#46039f\"], [0.2222222222222222, \"#7201a8\"], [0.3333333333333333, \"#9c179e\"], [0.4444444444444444, \"#bd3786\"], [0.5555555555555556, \"#d8576b\"], [0.6666666666666666, \"#ed7953\"], [0.7777777777777778, \"#fb9f3a\"], [0.8888888888888888, \"#fdca26\"], [1.0, \"#f0f921\"]]}, \"colorway\": [\"#636efa\", \"#EF553B\", \"#00cc96\", \"#ab63fa\", \"#FFA15A\", \"#19d3f3\", \"#FF6692\", \"#B6E880\", \"#FF97FF\", \"#FECB52\"], \"font\": {\"color\": \"#2a3f5f\"}, \"geo\": {\"bgcolor\": \"white\", \"lakecolor\": \"white\", \"landcolor\": \"#E5ECF6\", \"showlakes\": true, \"showland\": true, \"subunitcolor\": \"white\"}, \"hoverlabel\": {\"align\": \"left\"}, \"hovermode\": \"closest\", \"mapbox\": {\"style\": \"light\"}, \"paper_bgcolor\": \"white\", \"plot_bgcolor\": \"#E5ECF6\", \"polar\": {\"angularaxis\": {\"gridcolor\": \"white\", \"linecolor\": \"white\", \"ticks\": \"\"}, \"bgcolor\": \"#E5ECF6\", \"radialaxis\": {\"gridcolor\": \"white\", \"linecolor\": \"white\", \"ticks\": \"\"}}, \"scene\": {\"xaxis\": {\"backgroundcolor\": \"#E5ECF6\", \"gridcolor\": \"white\", \"gridwidth\": 2, \"linecolor\": \"white\", \"showbackground\": true, \"ticks\": \"\", \"zerolinecolor\": \"white\"}, \"yaxis\": {\"backgroundcolor\": \"#E5ECF6\", \"gridcolor\": \"white\", \"gridwidth\": 2, \"linecolor\": \"white\", \"showbackground\": true, \"ticks\": \"\", \"zerolinecolor\": \"white\"}, \"zaxis\": {\"backgroundcolor\": \"#E5ECF6\", \"gridcolor\": \"white\", \"gridwidth\": 2, \"linecolor\": \"white\", \"showbackground\": true, \"ticks\": \"\", \"zerolinecolor\": \"white\"}}, \"shapedefaults\": {\"line\": {\"color\": \"#2a3f5f\"}}, \"ternary\": {\"aaxis\": {\"gridcolor\": \"white\", \"linecolor\": \"white\", \"ticks\": \"\"}, \"baxis\": {\"gridcolor\": \"white\", \"linecolor\": \"white\", \"ticks\": \"\"}, \"bgcolor\": \"#E5ECF6\", \"caxis\": {\"gridcolor\": \"white\", \"linecolor\": \"white\", \"ticks\": \"\"}}, \"title\": {\"x\": 0.05}, \"xaxis\": {\"automargin\": true, \"gridcolor\": \"white\", \"linecolor\": \"white\", \"ticks\": \"\", \"title\": {\"standoff\": 15}, \"zerolinecolor\": \"white\", \"zerolinewidth\": 2}, \"yaxis\": {\"automargin\": true, \"gridcolor\": \"white\", \"linecolor\": \"white\", \"ticks\": \"\", \"title\": {\"standoff\": 15}, \"zerolinecolor\": \"white\", \"zerolinewidth\": 2}}}, \"xaxis\": {\"anchor\": \"y\", \"domain\": [0.0, 1.0], \"title\": {\"text\": \"index\"}}, \"yaxis\": {\"anchor\": \"x\", \"domain\": [0.0, 1.0], \"title\": {\"text\": \"value\"}}},\n",
              "                        {\"responsive\": true}\n",
              "                    ).then(function(){\n",
              "                            \n",
              "var gd = document.getElementById('d4bb8108-8c43-4637-b711-d7a343665853');\n",
              "var x = new MutationObserver(function (mutations, observer) {{\n",
              "        var display = window.getComputedStyle(gd).display;\n",
              "        if (!display || display === 'none') {{\n",
              "            console.log([gd, 'removed!']);\n",
              "            Plotly.purge(gd);\n",
              "            observer.disconnect();\n",
              "        }}\n",
              "}});\n",
              "\n",
              "// Listen for the removal of the full notebook cells\n",
              "var notebookContainer = gd.closest('#notebook-container');\n",
              "if (notebookContainer) {{\n",
              "    x.observe(notebookContainer, {childList: true});\n",
              "}}\n",
              "\n",
              "// Listen for the clearing of the current output cell\n",
              "var outputEl = gd.closest('.output');\n",
              "if (outputEl) {{\n",
              "    x.observe(outputEl, {childList: true});\n",
              "}}\n",
              "\n",
              "                        })\n",
              "                };\n",
              "                \n",
              "            </script>\n",
              "        </div>\n",
              "</body>\n",
              "</html>"
            ]
          },
          "metadata": {
            "tags": []
          }
        }
      ]
    },
    {
      "cell_type": "code",
      "metadata": {
        "id": "Rk8ZfkJmSkkM"
      },
      "source": [
        ""
      ],
      "execution_count": null,
      "outputs": []
    },
    {
      "cell_type": "code",
      "metadata": {
        "id": "wy9-J0M6SlFZ"
      },
      "source": [
        ""
      ],
      "execution_count": null,
      "outputs": []
    },
    {
      "cell_type": "markdown",
      "metadata": {
        "id": "R0zhuQRRvFkB"
      },
      "source": [
        "### Histogram"
      ]
    },
    {
      "cell_type": "code",
      "metadata": {
        "id": "uaHpK01OvIXu",
        "outputId": "485f0ec8-6473-424f-9c1f-88d95090c66b",
        "colab": {
          "base_uri": "https://localhost:8080/"
        }
      },
      "source": [
        "# create figure and axis\n",
        "fig, ax = plt.subplots()\n",
        "# plot histogram\n",
        "ax.hist(DF['Voltage'])\n",
        "# set title and labels\n",
        "ax.set_title('Voltage Frequency')\n",
        "ax.set_xlabel('Voltage')\n",
        "ax.set_ylabel('Frequency')"
      ],
      "execution_count": null,
      "outputs": [
        {
          "output_type": "execute_result",
          "data": {
            "text/plain": [
              "Text(0, 0.5, 'Frequency')"
            ]
          },
          "metadata": {
            "tags": []
          },
          "execution_count": 109
        },
        {
          "output_type": "display_data",
          "data": {
            "image/png": "[encoded data removed]",
            "text/plain": [
              "<Figure size 432x288 with 1 Axes>"
            ]
          },
          "metadata": {
            "tags": [],
            "needs_background": "light"
          }
        }
      ]
    },
    {
      "cell_type": "markdown",
      "metadata": {
        "id": "2dJS6AfYvKSb"
      },
      "source": [
        "# 2.FN4T\n",
        "Doing the same tasks for the 2nd dataset"
      ]
    },
    {
      "cell_type": "markdown",
      "metadata": {
        "id": "hYlMdzjmJeQ0"
      },
      "source": [
        "## Perpare Data"
      ]
    },
    {
      "cell_type": "markdown",
      "metadata": {
        "id": "1F7YtioETyRF"
      },
      "source": [
        "### Separate and create DataFrame"
      ]
    },
    {
      "cell_type": "code",
      "metadata": {
        "id": "EvOFtrPWvMMA",
        "outputId": "48b9e4aa-758b-4bff-fc62-593b07e9c25e",
        "colab": {
          "base_uri": "https://localhost:8080/"
        }
      },
      "source": [
        "data = urlopen(url2).read().decode('utf-8')\n",
        "data =re.sub('E','e',data)\n",
        "pattern = \"\"\"\n",
        "([\\d.]*)\n",
        "(\\ )\n",
        "(?P<Current>[.\\d-]*[$e][-\\d]*)\n",
        "(\\ )\n",
        "(?P<Voltage>[.\\d-]*)\n",
        "\"\"\"\n",
        "List2 = []\n",
        "for item in re.finditer(pattern,data,re.VERBOSE):\n",
        "    List2.append(item.groupdict())\n",
        "DF2 = DataFrame.from_dict(List2)  \n",
        "DF2 "
      ],
      "execution_count": null,
      "outputs": [
        {
          "output_type": "execute_result",
          "data": {
            "text/html": [
              "<div>\n",
              "<style scoped>\n",
              "    .dataframe tbody tr th:only-of-type {\n",
              "        vertical-align: middle;\n",
              "    }\n",
              "\n",
              "    .dataframe tbody tr th {\n",
              "        vertical-align: top;\n",
              "    }\n",
              "\n",
              "    .dataframe thead th {\n",
              "        text-align: right;\n",
              "    }\n",
              "</style>\n",
              "<table border=\"1\" class=\"dataframe\">\n",
              "  <thead>\n",
              "    <tr style=\"text-align: right;\">\n",
              "      <th></th>\n",
              "      <th>Current</th>\n",
              "      <th>Voltage</th>\n",
              "    </tr>\n",
              "  </thead>\n",
              "  <tbody>\n",
              "    <tr>\n",
              "      <th>0</th>\n",
              "      <td>4.99707e-08</td>\n",
              "      <td>-30</td>\n",
              "    </tr>\n",
              "    <tr>\n",
              "      <th>1</th>\n",
              "      <td>4.29938e-08</td>\n",
              "      <td>-29.8</td>\n",
              "    </tr>\n",
              "    <tr>\n",
              "      <th>2</th>\n",
              "      <td>3.93023e-08</td>\n",
              "      <td>-29.6</td>\n",
              "    </tr>\n",
              "    <tr>\n",
              "      <th>3</th>\n",
              "      <td>3.68301e-08</td>\n",
              "      <td>-29.4</td>\n",
              "    </tr>\n",
              "    <tr>\n",
              "      <th>4</th>\n",
              "      <td>3.45966e-08</td>\n",
              "      <td>-29.2</td>\n",
              "    </tr>\n",
              "    <tr>\n",
              "      <th>...</th>\n",
              "      <td>...</td>\n",
              "      <td>...</td>\n",
              "    </tr>\n",
              "    <tr>\n",
              "      <th>1199</th>\n",
              "      <td>7.37914e-07</td>\n",
              "      <td>29.2</td>\n",
              "    </tr>\n",
              "    <tr>\n",
              "      <th>1200</th>\n",
              "      <td>7.57123e-07</td>\n",
              "      <td>29.4</td>\n",
              "    </tr>\n",
              "    <tr>\n",
              "      <th>1201</th>\n",
              "      <td>7.7685e-07</td>\n",
              "      <td>29.6</td>\n",
              "    </tr>\n",
              "    <tr>\n",
              "      <th>1202</th>\n",
              "      <td>7.9673e-07</td>\n",
              "      <td>29.8</td>\n",
              "    </tr>\n",
              "    <tr>\n",
              "      <th>1203</th>\n",
              "      <td>8.17083e-07</td>\n",
              "      <td>30</td>\n",
              "    </tr>\n",
              "  </tbody>\n",
              "</table>\n",
              "<p>1204 rows × 2 columns</p>\n",
              "</div>"
            ],
            "text/plain": [
              "          Current Voltage\n",
              "0     4.99707e-08     -30\n",
              "1     4.29938e-08   -29.8\n",
              "2     3.93023e-08   -29.6\n",
              "3     3.68301e-08   -29.4\n",
              "4     3.45966e-08   -29.2\n",
              "...           ...     ...\n",
              "1199  7.37914e-07    29.2\n",
              "1200  7.57123e-07    29.4\n",
              "1201   7.7685e-07    29.6\n",
              "1202   7.9673e-07    29.8\n",
              "1203  8.17083e-07      30\n",
              "\n",
              "[1204 rows x 2 columns]"
            ]
          },
          "metadata": {
            "tags": []
          },
          "execution_count": 110
        }
      ]
    },
    {
      "cell_type": "code",
      "metadata": {
        "id": "Zbdi440mvUo7",
        "outputId": "2a2b46e4-0c9c-499d-ddf7-b43ff45ddecf",
        "colab": {
          "base_uri": "https://localhost:8080/"
        }
      },
      "source": [
        "columns_titles = [\"Voltage\",\"Current\"]\n",
        "DF2 = DF2.reindex(columns=columns_titles)\n",
        "DF2 = DF2.applymap(format)\n",
        "DF2.Voltage = pd.to_numeric(DF2.Voltage)\n",
        "DF2.Current = pd.to_numeric(DF2.Current)\n",
        "DF2"
      ],
      "execution_count": null,
      "outputs": [
        {
          "output_type": "execute_result",
          "data": {
            "text/html": [
              "<div>\n",
              "<style scoped>\n",
              "    .dataframe tbody tr th:only-of-type {\n",
              "        vertical-align: middle;\n",
              "    }\n",
              "\n",
              "    .dataframe tbody tr th {\n",
              "        vertical-align: top;\n",
              "    }\n",
              "\n",
              "    .dataframe thead th {\n",
              "        text-align: right;\n",
              "    }\n",
              "</style>\n",
              "<table border=\"1\" class=\"dataframe\">\n",
              "  <thead>\n",
              "    <tr style=\"text-align: right;\">\n",
              "      <th></th>\n",
              "      <th>Voltage</th>\n",
              "      <th>Current</th>\n",
              "    </tr>\n",
              "  </thead>\n",
              "  <tbody>\n",
              "    <tr>\n",
              "      <th>0</th>\n",
              "      <td>-30.0</td>\n",
              "      <td>4.997070e-08</td>\n",
              "    </tr>\n",
              "    <tr>\n",
              "      <th>1</th>\n",
              "      <td>-29.8</td>\n",
              "      <td>4.299380e-08</td>\n",
              "    </tr>\n",
              "    <tr>\n",
              "      <th>2</th>\n",
              "      <td>-29.6</td>\n",
              "      <td>3.930230e-08</td>\n",
              "    </tr>\n",
              "    <tr>\n",
              "      <th>3</th>\n",
              "      <td>-29.4</td>\n",
              "      <td>3.683010e-08</td>\n",
              "    </tr>\n",
              "    <tr>\n",
              "      <th>4</th>\n",
              "      <td>-29.2</td>\n",
              "      <td>3.459660e-08</td>\n",
              "    </tr>\n",
              "    <tr>\n",
              "      <th>...</th>\n",
              "      <td>...</td>\n",
              "      <td>...</td>\n",
              "    </tr>\n",
              "    <tr>\n",
              "      <th>1199</th>\n",
              "      <td>29.2</td>\n",
              "      <td>7.379140e-07</td>\n",
              "    </tr>\n",
              "    <tr>\n",
              "      <th>1200</th>\n",
              "      <td>29.4</td>\n",
              "      <td>7.571230e-07</td>\n",
              "    </tr>\n",
              "    <tr>\n",
              "      <th>1201</th>\n",
              "      <td>29.6</td>\n",
              "      <td>7.768500e-07</td>\n",
              "    </tr>\n",
              "    <tr>\n",
              "      <th>1202</th>\n",
              "      <td>29.8</td>\n",
              "      <td>7.967300e-07</td>\n",
              "    </tr>\n",
              "    <tr>\n",
              "      <th>1203</th>\n",
              "      <td>30.0</td>\n",
              "      <td>8.170830e-07</td>\n",
              "    </tr>\n",
              "  </tbody>\n",
              "</table>\n",
              "<p>1204 rows × 2 columns</p>\n",
              "</div>"
            ],
            "text/plain": [
              "      Voltage       Current\n",
              "0       -30.0  4.997070e-08\n",
              "1       -29.8  4.299380e-08\n",
              "2       -29.6  3.930230e-08\n",
              "3       -29.4  3.683010e-08\n",
              "4       -29.2  3.459660e-08\n",
              "...       ...           ...\n",
              "1199     29.2  7.379140e-07\n",
              "1200     29.4  7.571230e-07\n",
              "1201     29.6  7.768500e-07\n",
              "1202     29.8  7.967300e-07\n",
              "1203     30.0  8.170830e-07\n",
              "\n",
              "[1204 rows x 2 columns]"
            ]
          },
          "metadata": {
            "tags": []
          },
          "execution_count": 111
        }
      ]
    },
    {
      "cell_type": "code",
      "metadata": {
        "id": "lS_n1h7yOaVr"
      },
      "source": [
        "DF2.to_csv('FN4T-wrangled.csv', index = False) "
      ],
      "execution_count": null,
      "outputs": []
    },
    {
      "cell_type": "code",
      "metadata": {
        "id": "X9Yf9ktNvYQs"
      },
      "source": [
        ""
      ],
      "execution_count": null,
      "outputs": []
    },
    {
      "cell_type": "markdown",
      "metadata": {
        "id": "oE0P9F7rJ6sT"
      },
      "source": [
        "### Categorize data by Voltage Groups"
      ]
    },
    {
      "cell_type": "code",
      "metadata": {
        "id": "uac1siUsOdry"
      },
      "source": [
        ""
      ],
      "execution_count": null,
      "outputs": []
    },
    {
      "cell_type": "code",
      "metadata": {
        "id": "Dl_gAX6YN1q0",
        "outputId": "39221c0e-188d-4659-8591-b12c9eb342d0",
        "colab": {
          "base_uri": "https://localhost:8080/",
          "height": 34
        }
      },
      "source": [
        "np.sum(DF2['Voltage'] == -30)"
      ],
      "execution_count": null,
      "outputs": [
        {
          "output_type": "execute_result",
          "data": {
            "text/plain": [
              "4"
            ]
          },
          "metadata": {
            "tags": []
          },
          "execution_count": 113
        }
      ]
    },
    {
      "cell_type": "code",
      "metadata": {
        "id": "z2ZGXSwgOMBN",
        "outputId": "ba2f474b-04c7-4c88-d12d-ef909ebd5c28",
        "colab": {
          "base_uri": "https://localhost:8080/",
          "height": 407
        }
      },
      "source": [
        "DF2"
      ],
      "execution_count": null,
      "outputs": [
        {
          "output_type": "execute_result",
          "data": {
            "text/html": [
              "<div>\n",
              "<style scoped>\n",
              "    .dataframe tbody tr th:only-of-type {\n",
              "        vertical-align: middle;\n",
              "    }\n",
              "\n",
              "    .dataframe tbody tr th {\n",
              "        vertical-align: top;\n",
              "    }\n",
              "\n",
              "    .dataframe thead th {\n",
              "        text-align: right;\n",
              "    }\n",
              "</style>\n",
              "<table border=\"1\" class=\"dataframe\">\n",
              "  <thead>\n",
              "    <tr style=\"text-align: right;\">\n",
              "      <th></th>\n",
              "      <th>Voltage</th>\n",
              "      <th>Current</th>\n",
              "    </tr>\n",
              "  </thead>\n",
              "  <tbody>\n",
              "    <tr>\n",
              "      <th>0</th>\n",
              "      <td>-30.0</td>\n",
              "      <td>4.997070e-08</td>\n",
              "    </tr>\n",
              "    <tr>\n",
              "      <th>1</th>\n",
              "      <td>-29.8</td>\n",
              "      <td>4.299380e-08</td>\n",
              "    </tr>\n",
              "    <tr>\n",
              "      <th>2</th>\n",
              "      <td>-29.6</td>\n",
              "      <td>3.930230e-08</td>\n",
              "    </tr>\n",
              "    <tr>\n",
              "      <th>3</th>\n",
              "      <td>-29.4</td>\n",
              "      <td>3.683010e-08</td>\n",
              "    </tr>\n",
              "    <tr>\n",
              "      <th>4</th>\n",
              "      <td>-29.2</td>\n",
              "      <td>3.459660e-08</td>\n",
              "    </tr>\n",
              "    <tr>\n",
              "      <th>...</th>\n",
              "      <td>...</td>\n",
              "      <td>...</td>\n",
              "    </tr>\n",
              "    <tr>\n",
              "      <th>1199</th>\n",
              "      <td>29.2</td>\n",
              "      <td>7.379140e-07</td>\n",
              "    </tr>\n",
              "    <tr>\n",
              "      <th>1200</th>\n",
              "      <td>29.4</td>\n",
              "      <td>7.571230e-07</td>\n",
              "    </tr>\n",
              "    <tr>\n",
              "      <th>1201</th>\n",
              "      <td>29.6</td>\n",
              "      <td>7.768500e-07</td>\n",
              "    </tr>\n",
              "    <tr>\n",
              "      <th>1202</th>\n",
              "      <td>29.8</td>\n",
              "      <td>7.967300e-07</td>\n",
              "    </tr>\n",
              "    <tr>\n",
              "      <th>1203</th>\n",
              "      <td>30.0</td>\n",
              "      <td>8.170830e-07</td>\n",
              "    </tr>\n",
              "  </tbody>\n",
              "</table>\n",
              "<p>1204 rows × 2 columns</p>\n",
              "</div>"
            ],
            "text/plain": [
              "      Voltage       Current\n",
              "0       -30.0  4.997070e-08\n",
              "1       -29.8  4.299380e-08\n",
              "2       -29.6  3.930230e-08\n",
              "3       -29.4  3.683010e-08\n",
              "4       -29.2  3.459660e-08\n",
              "...       ...           ...\n",
              "1199     29.2  7.379140e-07\n",
              "1200     29.4  7.571230e-07\n",
              "1201     29.6  7.768500e-07\n",
              "1202     29.8  7.967300e-07\n",
              "1203     30.0  8.170830e-07\n",
              "\n",
              "[1204 rows x 2 columns]"
            ]
          },
          "metadata": {
            "tags": []
          },
          "execution_count": 114
        }
      ]
    },
    {
      "cell_type": "code",
      "metadata": {
        "id": "OWzVHAQxvWxb",
        "outputId": "6beb5d3b-0aaf-470d-8418-960cf08d3e53",
        "colab": {
          "base_uri": "https://localhost:8080/",
          "height": 437
        }
      },
      "source": [
        "DF2 = DF2.set_index('Voltage')\n",
        "DF2 = DF2.sort_index()\n",
        "DF2"
      ],
      "execution_count": null,
      "outputs": [
        {
          "output_type": "execute_result",
          "data": {
            "text/html": [
              "<div>\n",
              "<style scoped>\n",
              "    .dataframe tbody tr th:only-of-type {\n",
              "        vertical-align: middle;\n",
              "    }\n",
              "\n",
              "    .dataframe tbody tr th {\n",
              "        vertical-align: top;\n",
              "    }\n",
              "\n",
              "    .dataframe thead th {\n",
              "        text-align: right;\n",
              "    }\n",
              "</style>\n",
              "<table border=\"1\" class=\"dataframe\">\n",
              "  <thead>\n",
              "    <tr style=\"text-align: right;\">\n",
              "      <th></th>\n",
              "      <th>Current</th>\n",
              "    </tr>\n",
              "    <tr>\n",
              "      <th>Voltage</th>\n",
              "      <th></th>\n",
              "    </tr>\n",
              "  </thead>\n",
              "  <tbody>\n",
              "    <tr>\n",
              "      <th>-30.0</th>\n",
              "      <td>4.997070e-08</td>\n",
              "    </tr>\n",
              "    <tr>\n",
              "      <th>-30.0</th>\n",
              "      <td>5.751170e-07</td>\n",
              "    </tr>\n",
              "    <tr>\n",
              "      <th>-30.0</th>\n",
              "      <td>1.534450e-07</td>\n",
              "    </tr>\n",
              "    <tr>\n",
              "      <th>-30.0</th>\n",
              "      <td>7.390200e-07</td>\n",
              "    </tr>\n",
              "    <tr>\n",
              "      <th>-29.8</th>\n",
              "      <td>8.676690e-08</td>\n",
              "    </tr>\n",
              "    <tr>\n",
              "      <th>...</th>\n",
              "      <td>...</td>\n",
              "    </tr>\n",
              "    <tr>\n",
              "      <th>29.8</th>\n",
              "      <td>4.499830e-07</td>\n",
              "    </tr>\n",
              "    <tr>\n",
              "      <th>30.0</th>\n",
              "      <td>9.120860e-07</td>\n",
              "    </tr>\n",
              "    <tr>\n",
              "      <th>30.0</th>\n",
              "      <td>4.568060e-07</td>\n",
              "    </tr>\n",
              "    <tr>\n",
              "      <th>30.0</th>\n",
              "      <td>9.533690e-07</td>\n",
              "    </tr>\n",
              "    <tr>\n",
              "      <th>30.0</th>\n",
              "      <td>8.170830e-07</td>\n",
              "    </tr>\n",
              "  </tbody>\n",
              "</table>\n",
              "<p>1204 rows × 1 columns</p>\n",
              "</div>"
            ],
            "text/plain": [
              "              Current\n",
              "Voltage              \n",
              "-30.0    4.997070e-08\n",
              "-30.0    5.751170e-07\n",
              "-30.0    1.534450e-07\n",
              "-30.0    7.390200e-07\n",
              "-29.8    8.676690e-08\n",
              "...               ...\n",
              " 29.8    4.499830e-07\n",
              " 30.0    9.120860e-07\n",
              " 30.0    4.568060e-07\n",
              " 30.0    9.533690e-07\n",
              " 30.0    8.170830e-07\n",
              "\n",
              "[1204 rows x 1 columns]"
            ]
          },
          "metadata": {
            "tags": []
          },
          "execution_count": 115
        }
      ]
    },
    {
      "cell_type": "code",
      "metadata": {
        "id": "zRy6RR7QUcJV"
      },
      "source": [
        ""
      ],
      "execution_count": null,
      "outputs": []
    },
    {
      "cell_type": "code",
      "metadata": {
        "id": "Uph_mtOaUbhC"
      },
      "source": [
        ""
      ],
      "execution_count": null,
      "outputs": []
    },
    {
      "cell_type": "code",
      "metadata": {
        "id": "Tgf0_JRhPlwe",
        "outputId": "d9328ec3-c99e-4405-a32b-f6176b3ce4ee",
        "colab": {
          "base_uri": "https://localhost:8080/",
          "height": 407
        }
      },
      "source": [
        "DF2 = DF2.reset_index()\n",
        "DF2"
      ],
      "execution_count": null,
      "outputs": [
        {
          "output_type": "execute_result",
          "data": {
            "text/html": [
              "<div>\n",
              "<style scoped>\n",
              "    .dataframe tbody tr th:only-of-type {\n",
              "        vertical-align: middle;\n",
              "    }\n",
              "\n",
              "    .dataframe tbody tr th {\n",
              "        vertical-align: top;\n",
              "    }\n",
              "\n",
              "    .dataframe thead th {\n",
              "        text-align: right;\n",
              "    }\n",
              "</style>\n",
              "<table border=\"1\" class=\"dataframe\">\n",
              "  <thead>\n",
              "    <tr style=\"text-align: right;\">\n",
              "      <th></th>\n",
              "      <th>Voltage</th>\n",
              "      <th>Current</th>\n",
              "    </tr>\n",
              "  </thead>\n",
              "  <tbody>\n",
              "    <tr>\n",
              "      <th>0</th>\n",
              "      <td>-30.0</td>\n",
              "      <td>4.997070e-08</td>\n",
              "    </tr>\n",
              "    <tr>\n",
              "      <th>1</th>\n",
              "      <td>-30.0</td>\n",
              "      <td>5.751170e-07</td>\n",
              "    </tr>\n",
              "    <tr>\n",
              "      <th>2</th>\n",
              "      <td>-30.0</td>\n",
              "      <td>1.534450e-07</td>\n",
              "    </tr>\n",
              "    <tr>\n",
              "      <th>3</th>\n",
              "      <td>-30.0</td>\n",
              "      <td>7.390200e-07</td>\n",
              "    </tr>\n",
              "    <tr>\n",
              "      <th>4</th>\n",
              "      <td>-29.8</td>\n",
              "      <td>8.676690e-08</td>\n",
              "    </tr>\n",
              "    <tr>\n",
              "      <th>...</th>\n",
              "      <td>...</td>\n",
              "      <td>...</td>\n",
              "    </tr>\n",
              "    <tr>\n",
              "      <th>1199</th>\n",
              "      <td>29.8</td>\n",
              "      <td>4.499830e-07</td>\n",
              "    </tr>\n",
              "    <tr>\n",
              "      <th>1200</th>\n",
              "      <td>30.0</td>\n",
              "      <td>9.120860e-07</td>\n",
              "    </tr>\n",
              "    <tr>\n",
              "      <th>1201</th>\n",
              "      <td>30.0</td>\n",
              "      <td>4.568060e-07</td>\n",
              "    </tr>\n",
              "    <tr>\n",
              "      <th>1202</th>\n",
              "      <td>30.0</td>\n",
              "      <td>9.533690e-07</td>\n",
              "    </tr>\n",
              "    <tr>\n",
              "      <th>1203</th>\n",
              "      <td>30.0</td>\n",
              "      <td>8.170830e-07</td>\n",
              "    </tr>\n",
              "  </tbody>\n",
              "</table>\n",
              "<p>1204 rows × 2 columns</p>\n",
              "</div>"
            ],
            "text/plain": [
              "      Voltage       Current\n",
              "0       -30.0  4.997070e-08\n",
              "1       -30.0  5.751170e-07\n",
              "2       -30.0  1.534450e-07\n",
              "3       -30.0  7.390200e-07\n",
              "4       -29.8  8.676690e-08\n",
              "...       ...           ...\n",
              "1199     29.8  4.499830e-07\n",
              "1200     30.0  9.120860e-07\n",
              "1201     30.0  4.568060e-07\n",
              "1202     30.0  9.533690e-07\n",
              "1203     30.0  8.170830e-07\n",
              "\n",
              "[1204 rows x 2 columns]"
            ]
          },
          "metadata": {
            "tags": []
          },
          "execution_count": 116
        }
      ]
    },
    {
      "cell_type": "code",
      "metadata": {
        "id": "AMqOoggWll0J",
        "outputId": "14068eb8-e501-4659-cd2e-d03269e4787d",
        "colab": {
          "base_uri": "https://localhost:8080/",
          "height": 1000
        }
      },
      "source": [
        "DF2.tail(50)"
      ],
      "execution_count": null,
      "outputs": [
        {
          "output_type": "execute_result",
          "data": {
            "text/html": [
              "<div>\n",
              "<style scoped>\n",
              "    .dataframe tbody tr th:only-of-type {\n",
              "        vertical-align: middle;\n",
              "    }\n",
              "\n",
              "    .dataframe tbody tr th {\n",
              "        vertical-align: top;\n",
              "    }\n",
              "\n",
              "    .dataframe thead th {\n",
              "        text-align: right;\n",
              "    }\n",
              "</style>\n",
              "<table border=\"1\" class=\"dataframe\">\n",
              "  <thead>\n",
              "    <tr style=\"text-align: right;\">\n",
              "      <th></th>\n",
              "      <th>Voltage</th>\n",
              "      <th>Current</th>\n",
              "    </tr>\n",
              "  </thead>\n",
              "  <tbody>\n",
              "    <tr>\n",
              "      <th>1154</th>\n",
              "      <td>27.6</td>\n",
              "      <td>7.133140e-07</td>\n",
              "    </tr>\n",
              "    <tr>\n",
              "      <th>1155</th>\n",
              "      <td>27.6</td>\n",
              "      <td>5.949260e-07</td>\n",
              "    </tr>\n",
              "    <tr>\n",
              "      <th>1156</th>\n",
              "      <td>27.8</td>\n",
              "      <td>7.319560e-07</td>\n",
              "    </tr>\n",
              "    <tr>\n",
              "      <th>1157</th>\n",
              "      <td>27.8</td>\n",
              "      <td>6.117680e-07</td>\n",
              "    </tr>\n",
              "    <tr>\n",
              "      <th>1158</th>\n",
              "      <td>27.8</td>\n",
              "      <td>3.845790e-07</td>\n",
              "    </tr>\n",
              "    <tr>\n",
              "      <th>1159</th>\n",
              "      <td>27.8</td>\n",
              "      <td>7.345510e-07</td>\n",
              "    </tr>\n",
              "    <tr>\n",
              "      <th>1160</th>\n",
              "      <td>28.0</td>\n",
              "      <td>7.499070e-07</td>\n",
              "    </tr>\n",
              "    <tr>\n",
              "      <th>1161</th>\n",
              "      <td>28.0</td>\n",
              "      <td>7.506540e-07</td>\n",
              "    </tr>\n",
              "    <tr>\n",
              "      <th>1162</th>\n",
              "      <td>28.0</td>\n",
              "      <td>6.287710e-07</td>\n",
              "    </tr>\n",
              "    <tr>\n",
              "      <th>1163</th>\n",
              "      <td>28.0</td>\n",
              "      <td>3.909380e-07</td>\n",
              "    </tr>\n",
              "    <tr>\n",
              "      <th>1164</th>\n",
              "      <td>28.2</td>\n",
              "      <td>7.697860e-07</td>\n",
              "    </tr>\n",
              "    <tr>\n",
              "      <th>1165</th>\n",
              "      <td>28.2</td>\n",
              "      <td>3.973410e-07</td>\n",
              "    </tr>\n",
              "    <tr>\n",
              "      <th>1166</th>\n",
              "      <td>28.2</td>\n",
              "      <td>7.655840e-07</td>\n",
              "    </tr>\n",
              "    <tr>\n",
              "      <th>1167</th>\n",
              "      <td>28.2</td>\n",
              "      <td>6.462650e-07</td>\n",
              "    </tr>\n",
              "    <tr>\n",
              "      <th>1168</th>\n",
              "      <td>28.4</td>\n",
              "      <td>4.037730e-07</td>\n",
              "    </tr>\n",
              "    <tr>\n",
              "      <th>1169</th>\n",
              "      <td>28.4</td>\n",
              "      <td>6.638640e-07</td>\n",
              "    </tr>\n",
              "    <tr>\n",
              "      <th>1170</th>\n",
              "      <td>28.4</td>\n",
              "      <td>7.891170e-07</td>\n",
              "    </tr>\n",
              "    <tr>\n",
              "      <th>1171</th>\n",
              "      <td>28.4</td>\n",
              "      <td>7.812700e-07</td>\n",
              "    </tr>\n",
              "    <tr>\n",
              "      <th>1172</th>\n",
              "      <td>28.6</td>\n",
              "      <td>4.102740e-07</td>\n",
              "    </tr>\n",
              "    <tr>\n",
              "      <th>1173</th>\n",
              "      <td>28.6</td>\n",
              "      <td>6.820660e-07</td>\n",
              "    </tr>\n",
              "    <tr>\n",
              "      <th>1174</th>\n",
              "      <td>28.6</td>\n",
              "      <td>8.088340e-07</td>\n",
              "    </tr>\n",
              "    <tr>\n",
              "      <th>1175</th>\n",
              "      <td>28.6</td>\n",
              "      <td>7.973840e-07</td>\n",
              "    </tr>\n",
              "    <tr>\n",
              "      <th>1176</th>\n",
              "      <td>28.8</td>\n",
              "      <td>8.286000e-07</td>\n",
              "    </tr>\n",
              "    <tr>\n",
              "      <th>1177</th>\n",
              "      <td>28.8</td>\n",
              "      <td>4.168150e-07</td>\n",
              "    </tr>\n",
              "    <tr>\n",
              "      <th>1178</th>\n",
              "      <td>28.8</td>\n",
              "      <td>7.002410e-07</td>\n",
              "    </tr>\n",
              "    <tr>\n",
              "      <th>1179</th>\n",
              "      <td>28.8</td>\n",
              "      <td>8.133980e-07</td>\n",
              "    </tr>\n",
              "    <tr>\n",
              "      <th>1180</th>\n",
              "      <td>29.0</td>\n",
              "      <td>8.294900e-07</td>\n",
              "    </tr>\n",
              "    <tr>\n",
              "      <th>1181</th>\n",
              "      <td>29.0</td>\n",
              "      <td>7.190330e-07</td>\n",
              "    </tr>\n",
              "    <tr>\n",
              "      <th>1182</th>\n",
              "      <td>29.0</td>\n",
              "      <td>8.487950e-07</td>\n",
              "    </tr>\n",
              "    <tr>\n",
              "      <th>1183</th>\n",
              "      <td>29.0</td>\n",
              "      <td>4.234060e-07</td>\n",
              "    </tr>\n",
              "    <tr>\n",
              "      <th>1184</th>\n",
              "      <td>29.2</td>\n",
              "      <td>7.379140e-07</td>\n",
              "    </tr>\n",
              "    <tr>\n",
              "      <th>1185</th>\n",
              "      <td>29.2</td>\n",
              "      <td>8.691130e-07</td>\n",
              "    </tr>\n",
              "    <tr>\n",
              "      <th>1186</th>\n",
              "      <td>29.2</td>\n",
              "      <td>8.457420e-07</td>\n",
              "    </tr>\n",
              "    <tr>\n",
              "      <th>1187</th>\n",
              "      <td>29.2</td>\n",
              "      <td>4.299820e-07</td>\n",
              "    </tr>\n",
              "    <tr>\n",
              "      <th>1188</th>\n",
              "      <td>29.4</td>\n",
              "      <td>8.896120e-07</td>\n",
              "    </tr>\n",
              "    <tr>\n",
              "      <th>1189</th>\n",
              "      <td>29.4</td>\n",
              "      <td>8.620390e-07</td>\n",
              "    </tr>\n",
              "    <tr>\n",
              "      <th>1190</th>\n",
              "      <td>29.4</td>\n",
              "      <td>4.366010e-07</td>\n",
              "    </tr>\n",
              "    <tr>\n",
              "      <th>1191</th>\n",
              "      <td>29.4</td>\n",
              "      <td>7.571230e-07</td>\n",
              "    </tr>\n",
              "    <tr>\n",
              "      <th>1192</th>\n",
              "      <td>29.6</td>\n",
              "      <td>9.106780e-07</td>\n",
              "    </tr>\n",
              "    <tr>\n",
              "      <th>1193</th>\n",
              "      <td>29.6</td>\n",
              "      <td>7.768500e-07</td>\n",
              "    </tr>\n",
              "    <tr>\n",
              "      <th>1194</th>\n",
              "      <td>29.6</td>\n",
              "      <td>4.432930e-07</td>\n",
              "    </tr>\n",
              "    <tr>\n",
              "      <th>1195</th>\n",
              "      <td>29.6</td>\n",
              "      <td>8.786710e-07</td>\n",
              "    </tr>\n",
              "    <tr>\n",
              "      <th>1196</th>\n",
              "      <td>29.8</td>\n",
              "      <td>9.318130e-07</td>\n",
              "    </tr>\n",
              "    <tr>\n",
              "      <th>1197</th>\n",
              "      <td>29.8</td>\n",
              "      <td>7.967300e-07</td>\n",
              "    </tr>\n",
              "    <tr>\n",
              "      <th>1198</th>\n",
              "      <td>29.8</td>\n",
              "      <td>8.952400e-07</td>\n",
              "    </tr>\n",
              "    <tr>\n",
              "      <th>1199</th>\n",
              "      <td>29.8</td>\n",
              "      <td>4.499830e-07</td>\n",
              "    </tr>\n",
              "    <tr>\n",
              "      <th>1200</th>\n",
              "      <td>30.0</td>\n",
              "      <td>9.120860e-07</td>\n",
              "    </tr>\n",
              "    <tr>\n",
              "      <th>1201</th>\n",
              "      <td>30.0</td>\n",
              "      <td>4.568060e-07</td>\n",
              "    </tr>\n",
              "    <tr>\n",
              "      <th>1202</th>\n",
              "      <td>30.0</td>\n",
              "      <td>9.533690e-07</td>\n",
              "    </tr>\n",
              "    <tr>\n",
              "      <th>1203</th>\n",
              "      <td>30.0</td>\n",
              "      <td>8.170830e-07</td>\n",
              "    </tr>\n",
              "  </tbody>\n",
              "</table>\n",
              "</div>"
            ],
            "text/plain": [
              "      Voltage       Current\n",
              "1154     27.6  7.133140e-07\n",
              "1155     27.6  5.949260e-07\n",
              "1156     27.8  7.319560e-07\n",
              "1157     27.8  6.117680e-07\n",
              "1158     27.8  3.845790e-07\n",
              "1159     27.8  7.345510e-07\n",
              "1160     28.0  7.499070e-07\n",
              "1161     28.0  7.506540e-07\n",
              "1162     28.0  6.287710e-07\n",
              "1163     28.0  3.909380e-07\n",
              "1164     28.2  7.697860e-07\n",
              "1165     28.2  3.973410e-07\n",
              "1166     28.2  7.655840e-07\n",
              "1167     28.2  6.462650e-07\n",
              "1168     28.4  4.037730e-07\n",
              "1169     28.4  6.638640e-07\n",
              "1170     28.4  7.891170e-07\n",
              "1171     28.4  7.812700e-07\n",
              "1172     28.6  4.102740e-07\n",
              "1173     28.6  6.820660e-07\n",
              "1174     28.6  8.088340e-07\n",
              "1175     28.6  7.973840e-07\n",
              "1176     28.8  8.286000e-07\n",
              "1177     28.8  4.168150e-07\n",
              "1178     28.8  7.002410e-07\n",
              "1179     28.8  8.133980e-07\n",
              "1180     29.0  8.294900e-07\n",
              "1181     29.0  7.190330e-07\n",
              "1182     29.0  8.487950e-07\n",
              "1183     29.0  4.234060e-07\n",
              "1184     29.2  7.379140e-07\n",
              "1185     29.2  8.691130e-07\n",
              "1186     29.2  8.457420e-07\n",
              "1187     29.2  4.299820e-07\n",
              "1188     29.4  8.896120e-07\n",
              "1189     29.4  8.620390e-07\n",
              "1190     29.4  4.366010e-07\n",
              "1191     29.4  7.571230e-07\n",
              "1192     29.6  9.106780e-07\n",
              "1193     29.6  7.768500e-07\n",
              "1194     29.6  4.432930e-07\n",
              "1195     29.6  8.786710e-07\n",
              "1196     29.8  9.318130e-07\n",
              "1197     29.8  7.967300e-07\n",
              "1198     29.8  8.952400e-07\n",
              "1199     29.8  4.499830e-07\n",
              "1200     30.0  9.120860e-07\n",
              "1201     30.0  4.568060e-07\n",
              "1202     30.0  9.533690e-07\n",
              "1203     30.0  8.170830e-07"
            ]
          },
          "metadata": {
            "tags": []
          },
          "execution_count": 117
        }
      ]
    },
    {
      "cell_type": "code",
      "metadata": {
        "id": "omhhv5HwPef6",
        "outputId": "9f97d28c-42c4-48f8-9a8e-45b70aa28302",
        "colab": {
          "base_uri": "https://localhost:8080/",
          "height": 34
        }
      },
      "source": [
        "DF2.Voltage[0] == DF2.Voltage[1] == DF2.Voltage[2] == DF2.Voltage[3]"
      ],
      "execution_count": null,
      "outputs": [
        {
          "output_type": "execute_result",
          "data": {
            "text/plain": [
              "True"
            ]
          },
          "metadata": {
            "tags": []
          },
          "execution_count": 118
        }
      ]
    },
    {
      "cell_type": "code",
      "metadata": {
        "id": "EToejyRzPyuw",
        "outputId": "b7f35b84-b346-4b90-d56a-c483be53f578",
        "colab": {
          "base_uri": "https://localhost:8080/",
          "height": 68
        }
      },
      "source": [
        "for i in range(0,10,4):\n",
        "  print(i)"
      ],
      "execution_count": null,
      "outputs": [
        {
          "output_type": "stream",
          "text": [
            "0\n",
            "4\n",
            "8\n"
          ],
          "name": "stdout"
        }
      ]
    },
    {
      "cell_type": "code",
      "metadata": {
        "id": "0RTBXlJ7O4oF",
        "outputId": "f99b4e6c-c631-4210-8d9c-e15542e0840a",
        "colab": {
          "base_uri": "https://localhost:8080/",
          "height": 34
        }
      },
      "source": [
        "##Enusring that data are ordered by 4 consequtive groups\n",
        "flag = 1\n",
        "for i in range(0,DF2.shape[0],4):\n",
        "  if DF2.Voltage[i] != DF2.Voltage[i+1] or DF2.Voltage[i] != DF2.Voltage[i+2] or DF2.Voltage[i] != DF2.Voltage[i+3]:\n",
        "    flag = 0\n",
        "flag"
      ],
      "execution_count": null,
      "outputs": [
        {
          "output_type": "execute_result",
          "data": {
            "text/plain": [
              "1"
            ]
          },
          "metadata": {
            "tags": []
          },
          "execution_count": 120
        }
      ]
    },
    {
      "cell_type": "markdown",
      "metadata": {
        "id": "6jF6HhgDJv8n"
      },
      "source": [
        ""
      ]
    },
    {
      "cell_type": "code",
      "metadata": {
        "id": "95RyG7_GJvf9",
        "outputId": "504a1105-ca70-429c-a5f7-8d288d742be5",
        "colab": {
          "base_uri": "https://localhost:8080/",
          "height": 34
        }
      },
      "source": [
        "dic={}\n",
        "dic[DF2.Voltage[0]] = 1\n",
        "dic"
      ],
      "execution_count": null,
      "outputs": [
        {
          "output_type": "execute_result",
          "data": {
            "text/plain": [
              "{-30.0: 1}"
            ]
          },
          "metadata": {
            "tags": []
          },
          "execution_count": 121
        }
      ]
    },
    {
      "cell_type": "code",
      "metadata": {
        "id": "0iyKeGDBJwMk"
      },
      "source": [
        "#dictt = {}\n",
        "#V = ['Volt1', 'Volt2', 'Volt3', 'Volt4']\n",
        "#dictt = {v: [] for v in V}\n",
        "#for v in dictt.keys():\n",
        "#for i in range(0,DF2.shape[0],4):\n",
        "  #if DF2.loc[i].Voltage == v:\n",
        "  #dictt[DF2.Voltage[i]] = [DF2.Current[i],DF2.Current[i+1], DF2.Current[i+2], DF2.Current[i+3]] \n",
        "#  dictt['Volt1'].append(DF2.Current[i])\n",
        "#  dictt['Volt2'].append(DF2.Current[i+1])\n",
        "#  dictt['Volt3'].append(DF2.Current[i+2])\n",
        "#  dictt['Volt4'].append(DF2.Current[i+3])\n"
      ],
      "execution_count": null,
      "outputs": []
    },
    {
      "cell_type": "code",
      "metadata": {
        "id": "0eKPs2PWUxpu"
      },
      "source": [
        "dictt = {}\n",
        "V = ['Volt1', 'Volt2', 'Volt3', 'Volt4']\n",
        "dictt = {v: [] for v in V}\n",
        "#for v in dictt.keys():\n",
        "L = []\n",
        "for i in range(0,DF2.shape[0],4):\n",
        "  #if DF2.loc[i].Voltage == v:\n",
        "  #dictt[DF2.Voltage[i]] = [DF2.Current[i],DF2.Current[i+1], DF2.Current[i+2], DF2.Current[i+3]] \n",
        "  L = sorted([DF2.Current[i],DF2.Current[i+1],DF2.Current[i+2],DF2.Current[i+3]])\n",
        "  dictt['Volt1'].append(L[0])\n",
        "  dictt['Volt2'].append(L[1])\n",
        "  dictt['Volt3'].append(L[2])\n",
        "  dictt['Volt4'].append(L[3])\n"
      ],
      "execution_count": null,
      "outputs": []
    },
    {
      "cell_type": "code",
      "metadata": {
        "id": "NBxDMBjVJwM3",
        "outputId": "d0ced7ed-8784-4131-8d71-d35be808385a",
        "colab": {
          "base_uri": "https://localhost:8080/",
          "height": 34
        }
      },
      "source": [
        "dictt.keys()"
      ],
      "execution_count": null,
      "outputs": [
        {
          "output_type": "execute_result",
          "data": {
            "text/plain": [
              "dict_keys(['Volt1', 'Volt2', 'Volt3', 'Volt4'])"
            ]
          },
          "metadata": {
            "tags": []
          },
          "execution_count": 124
        }
      ]
    },
    {
      "cell_type": "code",
      "metadata": {
        "id": "WaKCtXQ4UiT5",
        "outputId": "cf17b159-ba28-4c6a-c868-8d19f4ac6343",
        "colab": {
          "base_uri": "https://localhost:8080/",
          "height": 137
        }
      },
      "source": [
        "L = dictt['Volt1']\n",
        "L[0:7]"
      ],
      "execution_count": null,
      "outputs": [
        {
          "output_type": "execute_result",
          "data": {
            "text/plain": [
              "[4.99707e-08,\n",
              " 4.2993800000000003e-08,\n",
              " 3.9302300000000006e-08,\n",
              " 3.68301e-08,\n",
              " 3.45966e-08,\n",
              " 3.27255e-08,\n",
              " 3.1107499999999996e-08]"
            ]
          },
          "metadata": {
            "tags": []
          },
          "execution_count": 125
        }
      ]
    },
    {
      "cell_type": "code",
      "metadata": {
        "id": "XNsQfNnCS3BY",
        "outputId": "937537ca-03c4-43dc-a84f-c36bc51b2656",
        "colab": {
          "base_uri": "https://localhost:8080/",
          "height": 34
        }
      },
      "source": [
        "len(dictt['Volt1'])"
      ],
      "execution_count": null,
      "outputs": [
        {
          "output_type": "execute_result",
          "data": {
            "text/plain": [
              "301"
            ]
          },
          "metadata": {
            "tags": []
          },
          "execution_count": 126
        }
      ]
    },
    {
      "cell_type": "code",
      "metadata": {
        "id": "85LLG_0PTALF",
        "outputId": "38c636ef-5e55-4d12-a19e-6be1b061d578",
        "colab": {
          "base_uri": "https://localhost:8080/",
          "height": 34
        }
      },
      "source": [
        "len(dictt['Volt1']) == len(dictt['Volt1']) == len(dictt['Volt3']) == len(dictt['Volt4'])"
      ],
      "execution_count": null,
      "outputs": [
        {
          "output_type": "execute_result",
          "data": {
            "text/plain": [
              "True"
            ]
          },
          "metadata": {
            "tags": []
          },
          "execution_count": 127
        }
      ]
    },
    {
      "cell_type": "code",
      "metadata": {
        "id": "Q-PTHce0JwNI",
        "outputId": "2e3cbf94-e3b8-4c18-e2bf-82cff36b30db",
        "colab": {
          "base_uri": "https://localhost:8080/",
          "height": 407
        }
      },
      "source": [
        "DFF2 = DataFrame(dictt)\n",
        "DFF2"
      ],
      "execution_count": null,
      "outputs": [
        {
          "output_type": "execute_result",
          "data": {
            "text/html": [
              "<div>\n",
              "<style scoped>\n",
              "    .dataframe tbody tr th:only-of-type {\n",
              "        vertical-align: middle;\n",
              "    }\n",
              "\n",
              "    .dataframe tbody tr th {\n",
              "        vertical-align: top;\n",
              "    }\n",
              "\n",
              "    .dataframe thead th {\n",
              "        text-align: right;\n",
              "    }\n",
              "</style>\n",
              "<table border=\"1\" class=\"dataframe\">\n",
              "  <thead>\n",
              "    <tr style=\"text-align: right;\">\n",
              "      <th></th>\n",
              "      <th>Volt1</th>\n",
              "      <th>Volt2</th>\n",
              "      <th>Volt3</th>\n",
              "      <th>Volt4</th>\n",
              "    </tr>\n",
              "  </thead>\n",
              "  <tbody>\n",
              "    <tr>\n",
              "      <th>0</th>\n",
              "      <td>4.997070e-08</td>\n",
              "      <td>1.534450e-07</td>\n",
              "      <td>5.751170e-07</td>\n",
              "      <td>7.390200e-07</td>\n",
              "    </tr>\n",
              "    <tr>\n",
              "      <th>1</th>\n",
              "      <td>4.299380e-08</td>\n",
              "      <td>8.676690e-08</td>\n",
              "      <td>1.394520e-07</td>\n",
              "      <td>1.449170e-07</td>\n",
              "    </tr>\n",
              "    <tr>\n",
              "      <th>2</th>\n",
              "      <td>3.930230e-08</td>\n",
              "      <td>7.442700e-08</td>\n",
              "      <td>1.022480e-07</td>\n",
              "      <td>1.289070e-07</td>\n",
              "    </tr>\n",
              "    <tr>\n",
              "      <th>3</th>\n",
              "      <td>3.683010e-08</td>\n",
              "      <td>6.622130e-08</td>\n",
              "      <td>9.012150e-08</td>\n",
              "      <td>1.226520e-07</td>\n",
              "    </tr>\n",
              "    <tr>\n",
              "      <th>4</th>\n",
              "      <td>3.459660e-08</td>\n",
              "      <td>6.043110e-08</td>\n",
              "      <td>8.624760e-08</td>\n",
              "      <td>1.175350e-07</td>\n",
              "    </tr>\n",
              "    <tr>\n",
              "      <th>...</th>\n",
              "      <td>...</td>\n",
              "      <td>...</td>\n",
              "      <td>...</td>\n",
              "      <td>...</td>\n",
              "    </tr>\n",
              "    <tr>\n",
              "      <th>296</th>\n",
              "      <td>4.299820e-07</td>\n",
              "      <td>7.379140e-07</td>\n",
              "      <td>8.457420e-07</td>\n",
              "      <td>8.691130e-07</td>\n",
              "    </tr>\n",
              "    <tr>\n",
              "      <th>297</th>\n",
              "      <td>4.366010e-07</td>\n",
              "      <td>7.571230e-07</td>\n",
              "      <td>8.620390e-07</td>\n",
              "      <td>8.896120e-07</td>\n",
              "    </tr>\n",
              "    <tr>\n",
              "      <th>298</th>\n",
              "      <td>4.432930e-07</td>\n",
              "      <td>7.768500e-07</td>\n",
              "      <td>8.786710e-07</td>\n",
              "      <td>9.106780e-07</td>\n",
              "    </tr>\n",
              "    <tr>\n",
              "      <th>299</th>\n",
              "      <td>4.499830e-07</td>\n",
              "      <td>7.967300e-07</td>\n",
              "      <td>8.952400e-07</td>\n",
              "      <td>9.318130e-07</td>\n",
              "    </tr>\n",
              "    <tr>\n",
              "      <th>300</th>\n",
              "      <td>4.568060e-07</td>\n",
              "      <td>8.170830e-07</td>\n",
              "      <td>9.120860e-07</td>\n",
              "      <td>9.533690e-07</td>\n",
              "    </tr>\n",
              "  </tbody>\n",
              "</table>\n",
              "<p>301 rows × 4 columns</p>\n",
              "</div>"
            ],
            "text/plain": [
              "            Volt1         Volt2         Volt3         Volt4\n",
              "0    4.997070e-08  1.534450e-07  5.751170e-07  7.390200e-07\n",
              "1    4.299380e-08  8.676690e-08  1.394520e-07  1.449170e-07\n",
              "2    3.930230e-08  7.442700e-08  1.022480e-07  1.289070e-07\n",
              "3    3.683010e-08  6.622130e-08  9.012150e-08  1.226520e-07\n",
              "4    3.459660e-08  6.043110e-08  8.624760e-08  1.175350e-07\n",
              "..            ...           ...           ...           ...\n",
              "296  4.299820e-07  7.379140e-07  8.457420e-07  8.691130e-07\n",
              "297  4.366010e-07  7.571230e-07  8.620390e-07  8.896120e-07\n",
              "298  4.432930e-07  7.768500e-07  8.786710e-07  9.106780e-07\n",
              "299  4.499830e-07  7.967300e-07  8.952400e-07  9.318130e-07\n",
              "300  4.568060e-07  8.170830e-07  9.120860e-07  9.533690e-07\n",
              "\n",
              "[301 rows x 4 columns]"
            ]
          },
          "metadata": {
            "tags": []
          },
          "execution_count": 128
        }
      ]
    },
    {
      "cell_type": "code",
      "metadata": {
        "id": "c6Lng9y7k845",
        "outputId": "8984f7e2-2c82-4dbd-8c25-8b3faa229c96",
        "colab": {
          "base_uri": "https://localhost:8080/",
          "height": 600
        }
      },
      "source": [
        "DFF2 = DFF2.reset_index()\n",
        "idx = np.linspace(-30,30,num=301)\n",
        "idx"
      ],
      "execution_count": null,
      "outputs": [
        {
          "output_type": "execute_result",
          "data": {
            "text/plain": [
              "array([-30. , -29.8, -29.6, -29.4, -29.2, -29. , -28.8, -28.6, -28.4,\n",
              "       -28.2, -28. , -27.8, -27.6, -27.4, -27.2, -27. , -26.8, -26.6,\n",
              "       -26.4, -26.2, -26. , -25.8, -25.6, -25.4, -25.2, -25. , -24.8,\n",
              "       -24.6, -24.4, -24.2, -24. , -23.8, -23.6, -23.4, -23.2, -23. ,\n",
              "       -22.8, -22.6, -22.4, -22.2, -22. , -21.8, -21.6, -21.4, -21.2,\n",
              "       -21. , -20.8, -20.6, -20.4, -20.2, -20. , -19.8, -19.6, -19.4,\n",
              "       -19.2, -19. , -18.8, -18.6, -18.4, -18.2, -18. , -17.8, -17.6,\n",
              "       -17.4, -17.2, -17. , -16.8, -16.6, -16.4, -16.2, -16. , -15.8,\n",
              "       -15.6, -15.4, -15.2, -15. , -14.8, -14.6, -14.4, -14.2, -14. ,\n",
              "       -13.8, -13.6, -13.4, -13.2, -13. , -12.8, -12.6, -12.4, -12.2,\n",
              "       -12. , -11.8, -11.6, -11.4, -11.2, -11. , -10.8, -10.6, -10.4,\n",
              "       -10.2, -10. ,  -9.8,  -9.6,  -9.4,  -9.2,  -9. ,  -8.8,  -8.6,\n",
              "        -8.4,  -8.2,  -8. ,  -7.8,  -7.6,  -7.4,  -7.2,  -7. ,  -6.8,\n",
              "        -6.6,  -6.4,  -6.2,  -6. ,  -5.8,  -5.6,  -5.4,  -5.2,  -5. ,\n",
              "        -4.8,  -4.6,  -4.4,  -4.2,  -4. ,  -3.8,  -3.6,  -3.4,  -3.2,\n",
              "        -3. ,  -2.8,  -2.6,  -2.4,  -2.2,  -2. ,  -1.8,  -1.6,  -1.4,\n",
              "        -1.2,  -1. ,  -0.8,  -0.6,  -0.4,  -0.2,   0. ,   0.2,   0.4,\n",
              "         0.6,   0.8,   1. ,   1.2,   1.4,   1.6,   1.8,   2. ,   2.2,\n",
              "         2.4,   2.6,   2.8,   3. ,   3.2,   3.4,   3.6,   3.8,   4. ,\n",
              "         4.2,   4.4,   4.6,   4.8,   5. ,   5.2,   5.4,   5.6,   5.8,\n",
              "         6. ,   6.2,   6.4,   6.6,   6.8,   7. ,   7.2,   7.4,   7.6,\n",
              "         7.8,   8. ,   8.2,   8.4,   8.6,   8.8,   9. ,   9.2,   9.4,\n",
              "         9.6,   9.8,  10. ,  10.2,  10.4,  10.6,  10.8,  11. ,  11.2,\n",
              "        11.4,  11.6,  11.8,  12. ,  12.2,  12.4,  12.6,  12.8,  13. ,\n",
              "        13.2,  13.4,  13.6,  13.8,  14. ,  14.2,  14.4,  14.6,  14.8,\n",
              "        15. ,  15.2,  15.4,  15.6,  15.8,  16. ,  16.2,  16.4,  16.6,\n",
              "        16.8,  17. ,  17.2,  17.4,  17.6,  17.8,  18. ,  18.2,  18.4,\n",
              "        18.6,  18.8,  19. ,  19.2,  19.4,  19.6,  19.8,  20. ,  20.2,\n",
              "        20.4,  20.6,  20.8,  21. ,  21.2,  21.4,  21.6,  21.8,  22. ,\n",
              "        22.2,  22.4,  22.6,  22.8,  23. ,  23.2,  23.4,  23.6,  23.8,\n",
              "        24. ,  24.2,  24.4,  24.6,  24.8,  25. ,  25.2,  25.4,  25.6,\n",
              "        25.8,  26. ,  26.2,  26.4,  26.6,  26.8,  27. ,  27.2,  27.4,\n",
              "        27.6,  27.8,  28. ,  28.2,  28.4,  28.6,  28.8,  29. ,  29.2,\n",
              "        29.4,  29.6,  29.8,  30. ])"
            ]
          },
          "metadata": {
            "tags": []
          },
          "execution_count": 129
        }
      ]
    },
    {
      "cell_type": "code",
      "metadata": {
        "id": "VBxPcMsIlxny",
        "outputId": "1819ebba-17ff-47c6-a263-6df8fa515a75",
        "colab": {
          "base_uri": "https://localhost:8080/",
          "height": 437
        }
      },
      "source": [
        "DFF2['index'] = idx\n",
        "DFF2 = DFF2.set_index('index')\n",
        "DFF2"
      ],
      "execution_count": null,
      "outputs": [
        {
          "output_type": "execute_result",
          "data": {
            "text/html": [
              "<div>\n",
              "<style scoped>\n",
              "    .dataframe tbody tr th:only-of-type {\n",
              "        vertical-align: middle;\n",
              "    }\n",
              "\n",
              "    .dataframe tbody tr th {\n",
              "        vertical-align: top;\n",
              "    }\n",
              "\n",
              "    .dataframe thead th {\n",
              "        text-align: right;\n",
              "    }\n",
              "</style>\n",
              "<table border=\"1\" class=\"dataframe\">\n",
              "  <thead>\n",
              "    <tr style=\"text-align: right;\">\n",
              "      <th></th>\n",
              "      <th>Volt1</th>\n",
              "      <th>Volt2</th>\n",
              "      <th>Volt3</th>\n",
              "      <th>Volt4</th>\n",
              "    </tr>\n",
              "    <tr>\n",
              "      <th>index</th>\n",
              "      <th></th>\n",
              "      <th></th>\n",
              "      <th></th>\n",
              "      <th></th>\n",
              "    </tr>\n",
              "  </thead>\n",
              "  <tbody>\n",
              "    <tr>\n",
              "      <th>-30.0</th>\n",
              "      <td>4.997070e-08</td>\n",
              "      <td>1.534450e-07</td>\n",
              "      <td>5.751170e-07</td>\n",
              "      <td>7.390200e-07</td>\n",
              "    </tr>\n",
              "    <tr>\n",
              "      <th>-29.8</th>\n",
              "      <td>4.299380e-08</td>\n",
              "      <td>8.676690e-08</td>\n",
              "      <td>1.394520e-07</td>\n",
              "      <td>1.449170e-07</td>\n",
              "    </tr>\n",
              "    <tr>\n",
              "      <th>-29.6</th>\n",
              "      <td>3.930230e-08</td>\n",
              "      <td>7.442700e-08</td>\n",
              "      <td>1.022480e-07</td>\n",
              "      <td>1.289070e-07</td>\n",
              "    </tr>\n",
              "    <tr>\n",
              "      <th>-29.4</th>\n",
              "      <td>3.683010e-08</td>\n",
              "      <td>6.622130e-08</td>\n",
              "      <td>9.012150e-08</td>\n",
              "      <td>1.226520e-07</td>\n",
              "    </tr>\n",
              "    <tr>\n",
              "      <th>-29.2</th>\n",
              "      <td>3.459660e-08</td>\n",
              "      <td>6.043110e-08</td>\n",
              "      <td>8.624760e-08</td>\n",
              "      <td>1.175350e-07</td>\n",
              "    </tr>\n",
              "    <tr>\n",
              "      <th>...</th>\n",
              "      <td>...</td>\n",
              "      <td>...</td>\n",
              "      <td>...</td>\n",
              "      <td>...</td>\n",
              "    </tr>\n",
              "    <tr>\n",
              "      <th>29.2</th>\n",
              "      <td>4.299820e-07</td>\n",
              "      <td>7.379140e-07</td>\n",
              "      <td>8.457420e-07</td>\n",
              "      <td>8.691130e-07</td>\n",
              "    </tr>\n",
              "    <tr>\n",
              "      <th>29.4</th>\n",
              "      <td>4.366010e-07</td>\n",
              "      <td>7.571230e-07</td>\n",
              "      <td>8.620390e-07</td>\n",
              "      <td>8.896120e-07</td>\n",
              "    </tr>\n",
              "    <tr>\n",
              "      <th>29.6</th>\n",
              "      <td>4.432930e-07</td>\n",
              "      <td>7.768500e-07</td>\n",
              "      <td>8.786710e-07</td>\n",
              "      <td>9.106780e-07</td>\n",
              "    </tr>\n",
              "    <tr>\n",
              "      <th>29.8</th>\n",
              "      <td>4.499830e-07</td>\n",
              "      <td>7.967300e-07</td>\n",
              "      <td>8.952400e-07</td>\n",
              "      <td>9.318130e-07</td>\n",
              "    </tr>\n",
              "    <tr>\n",
              "      <th>30.0</th>\n",
              "      <td>4.568060e-07</td>\n",
              "      <td>8.170830e-07</td>\n",
              "      <td>9.120860e-07</td>\n",
              "      <td>9.533690e-07</td>\n",
              "    </tr>\n",
              "  </tbody>\n",
              "</table>\n",
              "<p>301 rows × 4 columns</p>\n",
              "</div>"
            ],
            "text/plain": [
              "              Volt1         Volt2         Volt3         Volt4\n",
              "index                                                        \n",
              "-30.0  4.997070e-08  1.534450e-07  5.751170e-07  7.390200e-07\n",
              "-29.8  4.299380e-08  8.676690e-08  1.394520e-07  1.449170e-07\n",
              "-29.6  3.930230e-08  7.442700e-08  1.022480e-07  1.289070e-07\n",
              "-29.4  3.683010e-08  6.622130e-08  9.012150e-08  1.226520e-07\n",
              "-29.2  3.459660e-08  6.043110e-08  8.624760e-08  1.175350e-07\n",
              "...             ...           ...           ...           ...\n",
              " 29.2  4.299820e-07  7.379140e-07  8.457420e-07  8.691130e-07\n",
              " 29.4  4.366010e-07  7.571230e-07  8.620390e-07  8.896120e-07\n",
              " 29.6  4.432930e-07  7.768500e-07  8.786710e-07  9.106780e-07\n",
              " 29.8  4.499830e-07  7.967300e-07  8.952400e-07  9.318130e-07\n",
              " 30.0  4.568060e-07  8.170830e-07  9.120860e-07  9.533690e-07\n",
              "\n",
              "[301 rows x 4 columns]"
            ]
          },
          "metadata": {
            "tags": []
          },
          "execution_count": 132
        }
      ]
    },
    {
      "cell_type": "markdown",
      "metadata": {
        "id": "EGdpLoHEvZ52"
      },
      "source": [
        "## Visualization"
      ]
    },
    {
      "cell_type": "markdown",
      "metadata": {
        "id": "Mhb9IWuxvuN9"
      },
      "source": [
        "### Line Chart"
      ]
    },
    {
      "cell_type": "code",
      "metadata": {
        "id": "LvoZBhxDvb1w",
        "outputId": "bd960b65-1bab-4427-f1ce-fa59d5b4f1dd",
        "colab": {
          "base_uri": "https://localhost:8080/",
          "height": 276
        }
      },
      "source": [
        "for key in dictt.keys():\n",
        "  plt.plot(idx,dictt[key], label = '%s' % key)\n",
        "plt.legend()\n",
        "plt.show()"
      ],
      "execution_count": null,
      "outputs": [
        {
          "output_type": "display_data",
          "data": {
            "image/png": "[encoded data removed]",
            "text/plain": [
              "<Figure size 432x288 with 1 Axes>"
            ]
          },
          "metadata": {
            "tags": [],
            "needs_background": "light"
          }
        }
      ]
    },
    {
      "cell_type": "markdown",
      "metadata": {
        "id": "_ht7Y8yYKbaD"
      },
      "source": [
        "### Interactive Line Chart"
      ]
    },
    {
      "cell_type": "code",
      "metadata": {
        "id": "RN2LxTw_Kda_"
      },
      "source": [
        "DFF2 = DFF2.reset_index()"
      ],
      "execution_count": null,
      "outputs": []
    },
    {
      "cell_type": "code",
      "metadata": {
        "id": "s6sTGkyUKdbO",
        "outputId": "862ab530-f8fb-4608-eaa7-e4183b1948cc",
        "colab": {
          "base_uri": "https://localhost:8080/",
          "height": 34
        }
      },
      "source": [
        "list(DFF2.columns)[1:]"
      ],
      "execution_count": null,
      "outputs": [
        {
          "output_type": "execute_result",
          "data": {
            "text/plain": [
              "['Volt1', 'Volt2', 'Volt3', 'Volt4']"
            ]
          },
          "metadata": {
            "tags": []
          },
          "execution_count": 135
        }
      ]
    },
    {
      "cell_type": "code",
      "metadata": {
        "id": "xNQWz_RvKdbe",
        "outputId": "b76f6ba0-eeb8-430b-d002-8c01f89dff86",
        "colab": {
          "base_uri": "https://localhost:8080/",
          "height": 542
        }
      },
      "source": [
        "DFP=pd.melt(DFF2 , id_vars=['index'], value_vars=list(DFF2.columns)[1:])\n",
        "fig = px.line(DFP, x='index', y='value', color='variable')\n",
        "fig.show()"
      ],
      "execution_count": null,
      "outputs": [
        {
          "output_type": "display_data",
          "data": {
            "text/html": [
              "<html>\n",
              "<head><meta charset=\"utf-8\" /></head>\n",
              "<body>\n",
              "    <div>\n",
              "            <script src=\"https://cdnjs.cloudflare.com/ajax/libs/mathjax/2.7.5/MathJax.js?config=TeX-AMS-MML_SVG\"></script><script type=\"text/javascript\">if (window.MathJax) {MathJax.Hub.Config({SVG: {font: \"STIX-Web\"}});}</script>\n",
              "                <script type=\"text/javascript\">window.PlotlyConfig = {MathJaxConfig: 'local'};</script>\n",
              "        <script src=\"https://cdn.plot.ly/plotly-latest.min.js\"></script>    \n",
              "            <div id=\"1b5d71e6-f245-4125-8675-a412df6b5eef\" class=\"plotly-graph-div\" style=\"height:525px; width:100%;\"></div>\n",
              "            <script type=\"text/javascript\">\n",
              "                \n",
              "                    window.PLOTLYENV=window.PLOTLYENV || {};\n",
              "                    \n",
              "                if (document.getElementById(\"1b5d71e6-f245-4125-8675-a412df6b5eef\")) {\n",
              "                    Plotly.newPlot(\n",
              "                        '1b5d71e6-f245-4125-8675-a412df6b5eef',\n",
              "                        [{\"hoverlabel\": {\"namelength\": 0}, \"hovertemplate\": \"variable=Volt1<br>index=%{x}<br>value=%{y}\", \"legendgroup\": \"variable=Volt1\", \"line\": {\"color\": \"#636efa\", \"dash\": \"solid\"}, \"mode\": \"lines\", \"name\": \"variable=Volt1\", \"showlegend\": true, \"type\": \"scattergl\", \"x\": [-30.0, -29.8, -29.6, -29.4, -29.2, -29.0, -28.8, -28.6, -28.4, -28.2, -28.0, -27.8, -27.6, -27.4, -27.2, -27.0, -26.8, -26.6, -26.4, -26.2, -26.0, -25.8, -25.6, -25.4, -25.2, -25.0, -24.8, -24.6, -24.4, -24.2, -24.0, -23.8, -23.6, -23.4, -23.2, -23.0, -22.8, -22.6, -22.4, -22.2, -22.0, -21.799999999999997, -21.6, -21.4, -21.2, -21.0, -20.799999999999997, -20.6, -20.4, -20.2, -20.0, -19.799999999999997, -19.6, -19.4, -19.2, -19.0, -18.799999999999997, -18.6, -18.4, -18.2, -18.0, -17.799999999999997, -17.6, -17.4, -17.2, -17.0, -16.799999999999997, -16.6, -16.4, -16.2, -16.0, -15.799999999999999, -15.6, -15.399999999999999, -15.2, -15.0, -14.799999999999999, -14.6, -14.399999999999999, -14.2, -14.0, -13.8, -13.599999999999998, -13.399999999999999, -13.2, -13.0, -12.8, -12.599999999999998, -12.399999999999999, -12.2, -12.0, -11.8, -11.599999999999998, -11.399999999999999, -11.2, -11.0, -10.799999999999997, -10.599999999999998, -10.399999999999999, -10.2, -10.0, -9.799999999999997, -9.599999999999998, -9.399999999999999, -9.2, -9.0, -8.799999999999997, -8.599999999999998, -8.399999999999999, -8.2, -8.0, -7.799999999999997, -7.599999999999998, -7.399999999999999, -7.199999999999999, -7.0, -6.799999999999997, -6.599999999999998, -6.399999999999999, -6.199999999999999, -6.0, -5.799999999999997, -5.599999999999998, -5.399999999999999, -5.199999999999999, -5.0, -4.799999999999997, -4.599999999999998, -4.399999999999999, -4.199999999999999, -4.0, -3.799999999999997, -3.599999999999998, -3.3999999999999986, -3.1999999999999993, -3.0, -2.799999999999997, -2.599999999999998, -2.3999999999999986, -2.1999999999999993, -2.0, -1.7999999999999972, -1.5999999999999979, -1.3999999999999986, -1.1999999999999993, -1.0, -0.7999999999999972, -0.5999999999999979, -0.3999999999999986, -0.1999999999999993, 0.0, 0.20000000000000284, 0.40000000000000213, 0.6000000000000014, 0.8000000000000007, 1.0, 1.2000000000000028, 1.4000000000000021, 1.6000000000000014, 1.8000000000000007, 2.0, 2.200000000000003, 2.3999999999999986, 2.6000000000000014, 2.8000000000000043, 3.0, 3.200000000000003, 3.3999999999999986, 3.6000000000000014, 3.8000000000000043, 4.0, 4.200000000000003, 4.399999999999999, 4.600000000000001, 4.800000000000004, 5.0, 5.200000000000003, 5.399999999999999, 5.600000000000001, 5.800000000000004, 6.0, 6.200000000000003, 6.399999999999999, 6.600000000000001, 6.800000000000004, 7.0, 7.200000000000003, 7.399999999999999, 7.600000000000001, 7.800000000000004, 8.0, 8.200000000000003, 8.400000000000006, 8.600000000000001, 8.800000000000004, 9.0, 9.200000000000003, 9.400000000000006, 9.600000000000001, 9.800000000000004, 10.0, 10.200000000000003, 10.400000000000006, 10.600000000000001, 10.800000000000004, 11.0, 11.200000000000003, 11.400000000000006, 11.600000000000001, 11.800000000000004, 12.0, 12.200000000000003, 12.400000000000006, 12.600000000000001, 12.800000000000004, 13.0, 13.200000000000003, 13.400000000000006, 13.600000000000001, 13.800000000000004, 14.0, 14.200000000000003, 14.400000000000006, 14.600000000000001, 14.800000000000004, 15.0, 15.200000000000003, 15.400000000000006, 15.600000000000001, 15.800000000000004, 16.0, 16.200000000000003, 16.400000000000006, 16.6, 16.800000000000004, 17.0, 17.200000000000003, 17.400000000000006, 17.6, 17.800000000000004, 18.0, 18.200000000000003, 18.400000000000006, 18.6, 18.800000000000004, 19.0, 19.200000000000003, 19.400000000000006, 19.6, 19.800000000000004, 20.0, 20.200000000000003, 20.400000000000006, 20.6, 20.800000000000004, 21.0, 21.200000000000003, 21.400000000000006, 21.6, 21.800000000000004, 22.0, 22.200000000000003, 22.400000000000006, 22.6, 22.800000000000004, 23.0, 23.200000000000003, 23.400000000000006, 23.6, 23.800000000000004, 24.0, 24.200000000000003, 24.400000000000006, 24.6, 24.800000000000004, 25.0, 25.200000000000003, 25.400000000000006, 25.6, 25.800000000000004, 26.0, 26.200000000000003, 26.400000000000006, 26.6, 26.800000000000004, 27.0, 27.200000000000003, 27.400000000000006, 27.6, 27.800000000000004, 28.0, 28.200000000000003, 28.400000000000006, 28.6, 28.800000000000004, 29.0, 29.200000000000003, 29.400000000000006, 29.6, 29.800000000000004, 30.0], \"xaxis\": \"x\", \"y\": [4.99707e-08, 4.2993800000000003e-08, 3.9302300000000006e-08, 3.68301e-08, 3.45966e-08, 3.27255e-08, 3.1107499999999996e-08, 2.9695800000000002e-08, 2.8342099999999995e-08, 2.71842e-08, 2.61428e-08, 2.5148099999999997e-08, 2.4217200000000002e-08, 2.3347599999999997e-08, 2.24742e-08, 2.1630899999999998e-08, 2.0839599999999998e-08, 2.0117700000000002e-08, 1.94124e-08, 1.8748e-08, 1.8110099999999997e-08, 1.75115e-08, 1.69808e-08, 1.6476099999999997e-08, 1.5976999999999998e-08, 1.55293e-08, 1.50921e-08, 1.4696e-08, 1.42977e-08, 1.3914799999999998e-08, 1.35523e-08, 1.3218000000000001e-08, 1.2988600000000001e-08, 1.25821e-08, 1.22898e-08, 1.19929e-08, 1.17999e-08, 1.14724e-08, 1.1237e-08, 1.11064e-08, 1.0858099999999999e-08, 1.05939e-08, 1.0510700000000001e-08, 1.02901e-08, 1.0172000000000002e-08, 1.0045200000000001e-08, 1.0017e-08, 9.9122e-09, 9.7838e-09, 9.650799999999999e-09, 9.5315e-09, 9.401000000000001e-09, 9.2688e-09, 9.153e-09, 9.036200000000002e-09, 8.908000000000001e-09, 8.7933e-09, 8.761120000000002e-09, 8.175090000000001e-09, 8.017479999999999e-09, 7.85122e-09, 7.68173e-09, 7.53978e-09, 7.42132e-09, 7.2867700000000005e-09, 7.156100000000001e-09, 7.0311899999999996e-09, 6.902699999999999e-09, 6.78619e-09, 6.6689600000000005e-09, 6.53929e-09, 6.4121400000000006e-09, 6.29711e-09, 6.16347e-09, 6.033689999999999e-09, 5.920770000000001e-09, 5.94286e-09, 5.6694e-09, 5.554399999999999e-09, 5.58417e-09, 5.315560000000001e-09, 5.1844799999999995e-09, 5.059749999999999e-09, 5.09339e-09, 4.82557e-09, 4.70911e-09, 4.58452e-09, 4.6323400000000006e-09, 4.36124e-09, 4.2553e-09, 4.294689999999999e-09, 4.18519e-09, 3.92653e-09, 3.95878e-09, 3.70793e-09, 3.58897e-09, 3.64081e-09, 3.3829899999999997e-09, 3.4261999999999996e-09, 3.3240999999999997e-09, 3.06706e-09, 2.96759e-09, 3.05991e-09, 2.9702399999999995e-09, 2.71912e-09, 2.76555e-09, 2.6705300000000003e-09, 2.42521e-09, 2.3204e-09, 2.37093e-09, 2.1312199999999996e-09, 2.02803e-09, 2.0863699999999997e-09, 1.84492e-09, 1.7548e-09, 1.65772e-09, 1.7234000000000003e-09, 1.48921e-09, 1.3950999999999999e-09, 1.30881e-09, 1.37298e-09, 1.1445e-09, 1.05432e-09, 9.7507e-10, 8.9141e-10, 8.1706e-10, 7.3656e-10, 6.534500000000001e-10, 9.440800000000001e-10, 5.5003e-10, 4.6044e-10, 3.7178e-10, 2.9843e-10, 2.2071e-10, 1.5341999999999997e-10, 8.508e-11, 1.535e-11, -4.998e-11, -1.1775e-10, -1.7597000000000001e-10, -2.4196e-10, -3.0121e-10, -3.6256999999999997e-10, -4.1532e-10, -4.686300000000001e-10, -5.2882e-10, -5.804500000000001e-10, -6.344800000000001e-10, -6.8484e-10, -7.3788e-10, -7.925200000000001e-10, -8.2607e-10, -8.7617e-10, -9.2075e-10, -9.6442e-10, -1.01065e-09, -1.0491400000000002e-09, -1.09418e-09, -1.1287999999999999e-09, -1.16704e-09, -1.19308e-09, -1.2261300000000002e-09, -1.25015e-09, -1.27461e-09, -1.3008699999999999e-09, -1.3234500000000002e-09, -1.35213e-09, -1.3716199999999999e-09, -1.3987e-09, -1.4211099999999999e-09, -1.44921e-09, -1.4691700000000002e-09, -1.4923599999999998e-09, -1.52203e-09, -1.54525e-09, -1.57325e-09, -1.59803e-09, -1.62999e-09, -1.6623399999999999e-09, -1.7033599999999998e-09, -1.74147e-09, -1.79065e-09, -1.85356e-09, -1.91741e-09, -1.9939000000000003e-09, -2.04202e-09, -2.0757600000000003e-09, -1.2937799999999998e-09, -9.4289e-10, -9.1708e-10, -8.3978e-10, -4.7525e-10, 3.7571e-10, 6.9255e-10, 1.03673e-09, 7.274e-10, 7.8112e-10, 9.7528e-10, 1.52671e-09, 2.52069e-09, 2.61991e-09, 2.5915e-09, 2.4157e-09, 2.44151e-09, 2.71449e-09, 3.05312e-09, 3.58213e-09, 4.33616e-09, 5.57269e-09, 7.39959e-09, 9.45633e-09, 1.3333899999999998e-08, 1.3901700000000001e-08, 1.57046e-08, 1.7475e-08, 1.90247e-08, 2.05915e-08, 2.2238000000000004e-08, 2.3994900000000002e-08, 2.5880099999999996e-08, 2.78816e-08, 3.00251e-08, 3.22867e-08, 3.46858e-08, 3.7219599999999997e-08, 3.9897099999999995e-08, 4.269440000000001e-08, 4.5603800000000005e-08, 4.8712200000000004e-08, 5.1969e-08, 5.5379699999999994e-08, 5.8928199999999994e-08, 6.26261e-08, 6.64734e-08, 7.04765e-08, 7.4654e-08, 7.896910000000002e-08, 8.34601e-08, 8.81303e-08, 9.2958e-08, 9.793419999999999e-08, 1.031143e-07, 1.0848670000000001e-07, 1.139833e-07, 1.15004e-07, 1.26261e-07, 1.31555e-07, 1.37846e-07, 1.44285e-07, 1.5100300000000002e-07, 1.5785999999999999e-07, 1.6496400000000002e-07, 1.72242e-07, 1.79752e-07, 1.87434e-07, 1.9365100000000002e-07, 1.985e-07, 2.0339300000000003e-07, 2.0837599999999999e-07, 2.1337700000000002e-07, 2.1843399999999998e-07, 2.23548e-07, 2.28717e-07, 2.3393e-07, 2.39181e-07, 2.44439e-07, 2.4977499999999997e-07, 2.55159e-07, 2.60593e-07, 2.6610600000000004e-07, 2.71586e-07, 2.7713499999999997e-07, 2.82758e-07, 2.88427e-07, 2.94092e-07, 2.99837e-07, 3.05574e-07, 3.11386e-07, 3.17309e-07, 3.2317500000000003e-07, 3.2914299999999997e-07, 3.35155e-07, 3.41212e-07, 3.4726e-07, 3.5338999999999996e-07, 3.5953699999999997e-07, 3.65678e-07, 3.7194899999999996e-07, 3.7817500000000004e-07, 3.8457900000000005e-07, 3.9093800000000003e-07, 3.9734099999999996e-07, 4.03773e-07, 4.10274e-07, 4.16815e-07, 4.23406e-07, 4.29982e-07, 4.36601e-07, 4.43293e-07, 4.49983e-07, 4.5680599999999997e-07], \"yaxis\": \"y\"}, {\"hoverlabel\": {\"namelength\": 0}, \"hovertemplate\": \"variable=Volt2<br>index=%{x}<br>value=%{y}\", \"legendgroup\": \"variable=Volt2\", \"line\": {\"color\": \"#EF553B\", \"dash\": \"solid\"}, \"mode\": \"lines\", \"name\": \"variable=Volt2\", \"showlegend\": true, \"type\": \"scattergl\", \"x\": [-30.0, -29.8, -29.6, -29.4, -29.2, -29.0, -28.8, -28.6, -28.4, -28.2, -28.0, -27.8, -27.6, -27.4, -27.2, -27.0, -26.8, -26.6, -26.4, -26.2, -26.0, -25.8, -25.6, -25.4, -25.2, -25.0, -24.8, -24.6, -24.4, -24.2, -24.0, -23.8, -23.6, -23.4, -23.2, -23.0, -22.8, -22.6, -22.4, -22.2, -22.0, -21.799999999999997, -21.6, -21.4, -21.2, -21.0, -20.799999999999997, -20.6, -20.4, -20.2, -20.0, -19.799999999999997, -19.6, -19.4, -19.2, -19.0, -18.799999999999997, -18.6, -18.4, -18.2, -18.0, -17.799999999999997, -17.6, -17.4, -17.2, -17.0, -16.799999999999997, -16.6, -16.4, -16.2, -16.0, -15.799999999999999, -15.6, -15.399999999999999, -15.2, -15.0, -14.799999999999999, -14.6, -14.399999999999999, -14.2, -14.0, -13.8, -13.599999999999998, -13.399999999999999, -13.2, -13.0, -12.8, -12.599999999999998, -12.399999999999999, -12.2, -12.0, -11.8, -11.599999999999998, -11.399999999999999, -11.2, -11.0, -10.799999999999997, -10.599999999999998, -10.399999999999999, -10.2, -10.0, -9.799999999999997, -9.599999999999998, -9.399999999999999, -9.2, -9.0, -8.799999999999997, -8.599999999999998, -8.399999999999999, -8.2, -8.0, -7.799999999999997, -7.599999999999998, -7.399999999999999, -7.199999999999999, -7.0, -6.799999999999997, -6.599999999999998, -6.399999999999999, -6.199999999999999, -6.0, -5.799999999999997, -5.599999999999998, -5.399999999999999, -5.199999999999999, -5.0, -4.799999999999997, -4.599999999999998, -4.399999999999999, -4.199999999999999, -4.0, -3.799999999999997, -3.599999999999998, -3.3999999999999986, -3.1999999999999993, -3.0, -2.799999999999997, -2.599999999999998, -2.3999999999999986, -2.1999999999999993, -2.0, -1.7999999999999972, -1.5999999999999979, -1.3999999999999986, -1.1999999999999993, -1.0, -0.7999999999999972, -0.5999999999999979, -0.3999999999999986, -0.1999999999999993, 0.0, 0.20000000000000284, 0.40000000000000213, 0.6000000000000014, 0.8000000000000007, 1.0, 1.2000000000000028, 1.4000000000000021, 1.6000000000000014, 1.8000000000000007, 2.0, 2.200000000000003, 2.3999999999999986, 2.6000000000000014, 2.8000000000000043, 3.0, 3.200000000000003, 3.3999999999999986, 3.6000000000000014, 3.8000000000000043, 4.0, 4.200000000000003, 4.399999999999999, 4.600000000000001, 4.800000000000004, 5.0, 5.200000000000003, 5.399999999999999, 5.600000000000001, 5.800000000000004, 6.0, 6.200000000000003, 6.399999999999999, 6.600000000000001, 6.800000000000004, 7.0, 7.200000000000003, 7.399999999999999, 7.600000000000001, 7.800000000000004, 8.0, 8.200000000000003, 8.400000000000006, 8.600000000000001, 8.800000000000004, 9.0, 9.200000000000003, 9.400000000000006, 9.600000000000001, 9.800000000000004, 10.0, 10.200000000000003, 10.400000000000006, 10.600000000000001, 10.800000000000004, 11.0, 11.200000000000003, 11.400000000000006, 11.600000000000001, 11.800000000000004, 12.0, 12.200000000000003, 12.400000000000006, 12.600000000000001, 12.800000000000004, 13.0, 13.200000000000003, 13.400000000000006, 13.600000000000001, 13.800000000000004, 14.0, 14.200000000000003, 14.400000000000006, 14.600000000000001, 14.800000000000004, 15.0, 15.200000000000003, 15.400000000000006, 15.600000000000001, 15.800000000000004, 16.0, 16.200000000000003, 16.400000000000006, 16.6, 16.800000000000004, 17.0, 17.200000000000003, 17.400000000000006, 17.6, 17.800000000000004, 18.0, 18.200000000000003, 18.400000000000006, 18.6, 18.800000000000004, 19.0, 19.200000000000003, 19.400000000000006, 19.6, 19.800000000000004, 20.0, 20.200000000000003, 20.400000000000006, 20.6, 20.800000000000004, 21.0, 21.200000000000003, 21.400000000000006, 21.6, 21.800000000000004, 22.0, 22.200000000000003, 22.400000000000006, 22.6, 22.800000000000004, 23.0, 23.200000000000003, 23.400000000000006, 23.6, 23.800000000000004, 24.0, 24.200000000000003, 24.400000000000006, 24.6, 24.800000000000004, 25.0, 25.200000000000003, 25.400000000000006, 25.6, 25.800000000000004, 26.0, 26.200000000000003, 26.400000000000006, 26.6, 26.800000000000004, 27.0, 27.200000000000003, 27.400000000000006, 27.6, 27.800000000000004, 28.0, 28.200000000000003, 28.400000000000006, 28.6, 28.800000000000004, 29.0, 29.200000000000003, 29.400000000000006, 29.6, 29.800000000000004, 30.0], \"xaxis\": \"x\", \"y\": [1.53445e-07, 8.676689999999999e-08, 7.442700000000001e-08, 6.62213e-08, 6.04311e-08, 5.68684e-08, 5.416469999999999e-08, 5.17706e-08, 4.9640399999999995e-08, 4.7768800000000005e-08, 4.5956e-08, 4.4371800000000004e-08, 4.31646e-08, 4.19715e-08, 4.07568e-08, 3.96939e-08, 3.85172e-08, 3.73852e-08, 3.6360699999999994e-08, 3.543e-08, 3.4480900000000004e-08, 3.3508100000000003e-08, 3.26295e-08, 3.1819e-08, 3.0989e-08, 3.0239e-08, 2.9565700000000002e-08, 2.87847e-08, 2.79969e-08, 2.72296e-08, 2.64332e-08, 2.5638e-08, 2.48565e-08, 2.41095e-08, 2.33937e-08, 2.2743599999999997e-08, 2.20553e-08, 2.13947e-08, 2.0785999999999998e-08, 2.01532e-08, 1.95541e-08, 1.8970400000000002e-08, 1.8456400000000002e-08, 1.79233e-08, 1.73697e-08, 1.6866700000000002e-08, 1.63721e-08, 1.5894600000000003e-08, 1.54436e-08, 1.49861e-08, 1.45705e-08, 1.41626e-08, 1.37861e-08, 1.3406400000000001e-08, 1.3064200000000001e-08, 1.27282e-08, 1.2517100000000001e-08, 1.21478e-08, 1.18759e-08, 1.16205e-08, 1.1448200000000002e-08, 1.1141399999999999e-08, 1.0916299999999998e-08, 1.0779799999999999e-08, 1.0640100000000002e-08, 1.03902e-08, 1.0326999999999999e-08, 9.983299999999999e-09, 1.00237e-08, 9.920399999999999e-09, 9.7813e-09, 9.663e-09, 9.5416e-09, 9.4357e-09, 9.319299999999999e-09, 9.2227e-09, 9.132399999999999e-09, 9.0264e-09, 8.9415e-09, 8.8392e-09, 8.7365e-09, 8.6443e-09, 8.62533e-09, 8.02999e-09, 7.87187e-09, 7.74082e-09, 7.58546e-09, 7.46384e-09, 7.33829e-09, 7.226390000000001e-09, 7.11289e-09, 6.98656e-09, 6.87099e-09, 6.7482600000000004e-09, 6.63734e-09, 6.51914e-09, 6.406e-09, 6.28175e-09, 6.17272e-09, 6.06329e-09, 5.951260000000001e-09, 6.00518e-09, 5.73995e-09, 5.62716e-09, 5.6847000000000004e-09, 5.4259000000000005e-09, 5.320020000000001e-09, 5.213409999999999e-09, 5.275020000000001e-09, 5.00994e-09, 4.91147e-09, 4.803090000000001e-09, 4.85592e-09, 4.60186e-09, 4.49162e-09, 4.54222e-09, 4.44169e-09, 4.19591e-09, 4.2373299999999995e-09, 4.152399999999999e-09, 3.8956199999999994e-09, 3.9529599999999996e-09, 3.69473e-09, 3.5999000000000004e-09, 3.6529200000000002e-09, 3.40904e-09, 3.30913e-09, 3.2111999999999994e-09, 3.27707e-09, 3.0282800000000002e-09, 3.08915e-09, 3.0032900000000003e-09, 2.7622199999999996e-09, 2.66594e-09, 2.57984e-09, 2.6496999999999996e-09, 2.41049e-09, 2.32587e-09, 2.3971e-09, 2.16166e-09, 2.0722e-09, 2.1471300000000002e-09, 1.9115399999999998e-09, 1.82836e-09, 1.7505199999999999e-09, 1.82346e-09, 1.5958599999999997e-09, 1.5130499999999999e-09, 1.4355399999999998e-09, 1.5117800000000001e-09, 1.2785199999999998e-09, 1.2080999999999998e-09, 1.12705e-09, 1.0549700000000001e-09, 9.8258e-10, 9.046699999999999e-10, 8.3598e-10, 7.6303e-10, 6.969199999999999e-10, 6.2211e-10, 5.5662e-10, 4.8674e-10, 4.2235e-10, 3.5707999999999997e-10, 2.8681e-10, 5.358400000000001e-10, 1.8485e-10, 1.1287000000000001e-10, 4.2520000000000005e-11, -1.704e-11, -8.241e-11, -1.3922e-10, -1.9716999999999998e-10, -2.5722e-10, -3.0943999999999997e-10, -3.6793e-10, -4.1807999999999997e-10, -4.7351e-10, -5.207100000000001e-10, -5.7487e-10, -6.2211e-10, -6.6833e-10, -7.1788e-10, -7.6151e-10, -8.1041e-10, -8.511200000000001e-10, -8.970999999999999e-10, -9.2754e-10, 2.4343e-10, 9.163200000000001e-10, 8.519299999999999e-10, 1.04669e-09, 7.5248e-10, 1.81792e-09, 2.99299e-09, 2.97433e-09, 2.71294e-09, 2.7965500000000002e-09, 2.58023e-09, 2.6838099999999996e-09, 4.1788700000000005e-09, 5.811390000000001e-09, 6.92699e-09, 8.24449e-09, 9.7125e-09, 1.1397999999999999e-08, 1.51814e-08, 1.53436e-08, 1.6785900000000003e-08, 1.83348e-08, 2.0018700000000002e-08, 2.18097e-08, 2.37241e-08, 2.5760700000000002e-08, 2.7914400000000003e-08, 3.0198099999999996e-08, 3.2601499999999996e-08, 3.51196e-08, 3.77819e-08, 4.0568599999999996e-08, 4.35058e-08, 4.65689e-08, 4.97785e-08, 5.3122e-08, 5.663090000000001e-08, 6.02801e-08, 6.407019999999999e-08, 6.80362e-08, 7.21657e-08, 7.64708e-08, 8.09202e-08, 8.55803e-08, 9.03732e-08, 9.53641e-08, 1.005302e-07, 1.0587949999999999e-07, 1.106982e-07, 1.1429059999999999e-07, 1.18814e-07, 1.22535e-07, 1.26611e-07, 1.30708e-07, 1.34882e-07, 1.3909e-07, 1.43362e-07, 1.47657e-07, 1.52014e-07, 1.5643900000000002e-07, 1.6092e-07, 1.65448e-07, 1.70003e-07, 1.7466599999999998e-07, 1.7934000000000002e-07, 1.8407399999999998e-07, 1.88797e-07, 1.9539e-07, 2.03486e-07, 2.118e-07, 2.20408e-07, 2.29178e-07, 2.3825099999999998e-07, 2.47522e-07, 2.57057e-07, 2.6679e-07, 2.7683e-07, 2.87008e-07, 2.97484e-07, 3.08233e-07, 3.19182e-07, 3.3048699999999996e-07, 3.41948e-07, 3.5372199999999997e-07, 3.65739e-07, 3.78054e-07, 3.90526e-07, 4.03382e-07, 4.16418e-07, 4.2966900000000003e-07, 4.43347e-07, 4.5717399999999996e-07, 4.71391e-07, 4.85785e-07, 5.0051e-07, 5.15518e-07, 5.30875e-07, 5.46419e-07, 5.62235e-07, 5.784689999999999e-07, 5.94926e-07, 6.11768e-07, 6.28771e-07, 6.462649999999999e-07, 6.63864e-07, 6.820659999999999e-07, 7.002410000000001e-07, 7.19033e-07, 7.379139999999999e-07, 7.57123e-07, 7.7685e-07, 7.9673e-07, 8.170829999999999e-07], \"yaxis\": \"y\"}, {\"hoverlabel\": {\"namelength\": 0}, \"hovertemplate\": \"variable=Volt3<br>index=%{x}<br>value=%{y}\", \"legendgroup\": \"variable=Volt3\", \"line\": {\"color\": \"#00cc96\", \"dash\": \"solid\"}, \"mode\": \"lines\", \"name\": \"variable=Volt3\", \"showlegend\": true, \"type\": \"scattergl\", \"x\": [-30.0, -29.8, -29.6, -29.4, -29.2, -29.0, -28.8, -28.6, -28.4, -28.2, -28.0, -27.8, -27.6, -27.4, -27.2, -27.0, -26.8, -26.6, -26.4, -26.2, -26.0, -25.8, -25.6, -25.4, -25.2, -25.0, -24.8, -24.6, -24.4, -24.2, -24.0, -23.8, -23.6, -23.4, -23.2, -23.0, -22.8, -22.6, -22.4, -22.2, -22.0, -21.799999999999997, -21.6, -21.4, -21.2, -21.0, -20.799999999999997, -20.6, -20.4, -20.2, -20.0, -19.799999999999997, -19.6, -19.4, -19.2, -19.0, -18.799999999999997, -18.6, -18.4, -18.2, -18.0, -17.799999999999997, -17.6, -17.4, -17.2, -17.0, -16.799999999999997, -16.6, -16.4, -16.2, -16.0, -15.799999999999999, -15.6, -15.399999999999999, -15.2, -15.0, -14.799999999999999, -14.6, -14.399999999999999, -14.2, -14.0, -13.8, -13.599999999999998, -13.399999999999999, -13.2, -13.0, -12.8, -12.599999999999998, -12.399999999999999, -12.2, -12.0, -11.8, -11.599999999999998, -11.399999999999999, -11.2, -11.0, -10.799999999999997, -10.599999999999998, -10.399999999999999, -10.2, -10.0, -9.799999999999997, -9.599999999999998, -9.399999999999999, -9.2, -9.0, -8.799999999999997, -8.599999999999998, -8.399999999999999, -8.2, -8.0, -7.799999999999997, -7.599999999999998, -7.399999999999999, -7.199999999999999, -7.0, -6.799999999999997, -6.599999999999998, -6.399999999999999, -6.199999999999999, -6.0, -5.799999999999997, -5.599999999999998, -5.399999999999999, -5.199999999999999, -5.0, -4.799999999999997, -4.599999999999998, -4.399999999999999, -4.199999999999999, -4.0, -3.799999999999997, -3.599999999999998, -3.3999999999999986, -3.1999999999999993, -3.0, -2.799999999999997, -2.599999999999998, -2.3999999999999986, -2.1999999999999993, -2.0, -1.7999999999999972, -1.5999999999999979, -1.3999999999999986, -1.1999999999999993, -1.0, -0.7999999999999972, -0.5999999999999979, -0.3999999999999986, -0.1999999999999993, 0.0, 0.20000000000000284, 0.40000000000000213, 0.6000000000000014, 0.8000000000000007, 1.0, 1.2000000000000028, 1.4000000000000021, 1.6000000000000014, 1.8000000000000007, 2.0, 2.200000000000003, 2.3999999999999986, 2.6000000000000014, 2.8000000000000043, 3.0, 3.200000000000003, 3.3999999999999986, 3.6000000000000014, 3.8000000000000043, 4.0, 4.200000000000003, 4.399999999999999, 4.600000000000001, 4.800000000000004, 5.0, 5.200000000000003, 5.399999999999999, 5.600000000000001, 5.800000000000004, 6.0, 6.200000000000003, 6.399999999999999, 6.600000000000001, 6.800000000000004, 7.0, 7.200000000000003, 7.399999999999999, 7.600000000000001, 7.800000000000004, 8.0, 8.200000000000003, 8.400000000000006, 8.600000000000001, 8.800000000000004, 9.0, 9.200000000000003, 9.400000000000006, 9.600000000000001, 9.800000000000004, 10.0, 10.200000000000003, 10.400000000000006, 10.600000000000001, 10.800000000000004, 11.0, 11.200000000000003, 11.400000000000006, 11.600000000000001, 11.800000000000004, 12.0, 12.200000000000003, 12.400000000000006, 12.600000000000001, 12.800000000000004, 13.0, 13.200000000000003, 13.400000000000006, 13.600000000000001, 13.800000000000004, 14.0, 14.200000000000003, 14.400000000000006, 14.600000000000001, 14.800000000000004, 15.0, 15.200000000000003, 15.400000000000006, 15.600000000000001, 15.800000000000004, 16.0, 16.200000000000003, 16.400000000000006, 16.6, 16.800000000000004, 17.0, 17.200000000000003, 17.400000000000006, 17.6, 17.800000000000004, 18.0, 18.200000000000003, 18.400000000000006, 18.6, 18.800000000000004, 19.0, 19.200000000000003, 19.400000000000006, 19.6, 19.800000000000004, 20.0, 20.200000000000003, 20.400000000000006, 20.6, 20.800000000000004, 21.0, 21.200000000000003, 21.400000000000006, 21.6, 21.800000000000004, 22.0, 22.200000000000003, 22.400000000000006, 22.6, 22.800000000000004, 23.0, 23.200000000000003, 23.400000000000006, 23.6, 23.800000000000004, 24.0, 24.200000000000003, 24.400000000000006, 24.6, 24.800000000000004, 25.0, 25.200000000000003, 25.400000000000006, 25.6, 25.800000000000004, 26.0, 26.200000000000003, 26.400000000000006, 26.6, 26.800000000000004, 27.0, 27.200000000000003, 27.400000000000006, 27.6, 27.800000000000004, 28.0, 28.200000000000003, 28.400000000000006, 28.6, 28.800000000000004, 29.0, 29.200000000000003, 29.400000000000006, 29.6, 29.800000000000004, 30.0], \"xaxis\": \"x\", \"y\": [5.75117e-07, 1.39452e-07, 1.02248e-07, 9.01215e-08, 8.62476e-08, 8.28416e-08, 7.946039999999999e-08, 7.660989999999999e-08, 7.376119999999999e-08, 7.13392e-08, 6.96719e-08, 6.7454e-08, 6.57703e-08, 6.383510000000001e-08, 6.18884e-08, 6.01974e-08, 5.86691e-08, 5.71795e-08, 5.5989000000000006e-08, 5.4828700000000004e-08, 5.37458e-08, 5.24186e-08, 5.0963699999999996e-08, 4.9736699999999994e-08, 4.8811200000000004e-08, 4.7992099999999996e-08, 4.70821e-08, 4.6060300000000006e-08, 4.50976e-08, 4.423030000000001e-08, 4.3458199999999995e-08, 4.26736e-08, 4.16085e-08, 4.06242e-08, 3.98479e-08, 3.9049900000000003e-08, 3.8224199999999996e-08, 3.73124e-08, 3.6401800000000006e-08, 3.5556400000000006e-08, 3.483669999999999e-08, 3.41273e-08, 3.3347e-08, 3.26421e-08, 3.19807e-08, 3.12321e-08, 3.0446200000000004e-08, 2.9695999999999997e-08, 2.89731e-08, 2.8300200000000003e-08, 2.77156e-08, 2.7018499999999998e-08, 2.63443e-08, 2.56949e-08, 2.50691e-08, 2.44293e-08, 2.38285e-08, 2.32464e-08, 2.2657099999999998e-08, 2.20702e-08, 2.14814e-08, 2.09396e-08, 2.03953e-08, 1.98953e-08, 1.93917e-08, 1.8895400000000003e-08, 1.83928e-08, 1.79047e-08, 1.74791e-08, 1.7031599999999998e-08, 1.6594900000000002e-08, 1.61871e-08, 1.58237e-08, 1.5415099999999998e-08, 1.50295e-08, 1.4642999999999999e-08, 1.42874e-08, 1.39313e-08, 1.3598900000000001e-08, 1.3266200000000002e-08, 1.2957000000000001e-08, 1.26562e-08, 1.2361500000000001e-08, 1.2174799999999999e-08, 1.18343e-08, 1.1590799999999998e-08, 1.1349400000000001e-08, 1.12015e-08, 1.0981100000000001e-08, 1.07864e-08, 1.06996e-08, 1.03552e-08, 1.03749e-08, 1.00169e-08, 1.00563e-08, 9.9521e-09, 9.8201e-09, 9.676e-09, 9.5539e-09, 9.4316e-09, 9.309299999999999e-09, 9.1831e-09, 9.0686e-09, 8.9624e-09, 8.8377e-09, 8.7365e-09, 8.69204e-09, 8.08825e-09, 7.93995e-09, 7.801140000000001e-09, 7.68953e-09, 7.57282e-09, 7.460750000000001e-09, 7.34688e-09, 7.2437e-09, 7.1380900000000005e-09, 7.03418e-09, 6.92547e-09, 6.820609999999999e-09, 6.7220800000000004e-09, 6.62058e-09, 6.52177e-09, 6.42209e-09, 6.32137e-09, 6.21413e-09, 6.284270000000001e-09, 6.03101e-09, 5.92488e-09, 5.99324e-09, 5.73159e-09, 5.64367e-09, 5.541890000000001e-09, 5.61567e-09, 5.36195e-09, 5.2662299999999995e-09, 5.17054e-09, 5.2394200000000005e-09, 4.987640000000001e-09, 4.88728e-09, 4.9534200000000005e-09, 4.8657100000000006e-09, 4.62092e-09, 4.6906e-09, 4.5986e-09, 4.354260000000001e-09, 4.41506e-09, 4.1790800000000004e-09, 4.07659e-09, 3.99218e-09, 4.06463e-09, 3.98323e-09, 3.7469999999999996e-09, 3.81505e-09, 3.57514e-09, 3.4839100000000002e-09, 3.55697e-09, 3.3223000000000004e-09, 3.23556e-09, 3.15436e-09, 3.22469e-09, 2.99649e-09, 3.06943e-09, 2.99702e-09, 2.76387e-09, 2.67738e-09, 2.59788e-09, 2.67302e-09, 2.4495300000000003e-09, 2.5200300000000004e-09, 2.4520300000000003e-09, 2.21942e-09, 2.1448000000000003e-09, 2.22715e-09, 1.9982e-09, 1.92745e-09, 1.84936e-09, 1.93693e-09, 1.7092499999999999e-09, 1.6400599999999998e-09, 1.56472e-09, 1.49586e-09, 1.4265999999999998e-09, 1.3558699999999998e-09, 1.28993e-09, 1.2207899999999999e-09, 1.1588499999999998e-09, 1.08836e-09, 1.0262e-09, 1.19779e-09, 9.9425e-10, 1.69374e-09, 2.47709e-09, 2.98177e-09, 2.9036100000000005e-09, 3.44002e-09, 4.1870799999999996e-09, 5.3444999999999995e-09, 6.604939999999999e-09, 8.258610000000001e-09, 1.0124879999999998e-08, 1.2816399999999999e-08, 1.31457e-08, 1.4531000000000001e-08, 1.6058e-08, 1.76867e-08, 1.94223e-08, 2.1269e-08, 2.32206e-08, 2.5279799999999998e-08, 2.7466e-08, 2.9773200000000002e-08, 3.21962e-08, 3.47425e-08, 3.7429699999999995e-08, 4.02372e-08, 4.310940000000001e-08, 4.54396e-08, 4.8289599999999996e-08, 5.10142e-08, 5.3785499999999995e-08, 5.6634900000000005e-08, 5.95357e-08, 6.25206e-08, 6.556939999999999e-08, 6.86852e-08, 7.184839999999999e-08, 7.506689999999999e-08, 7.83723e-08, 8.17201e-08, 8.51545e-08, 8.86178e-08, 9.21632e-08, 9.57466e-08, 9.94155e-08, 1.030957e-07, 1.068894e-07, 1.113832e-07, 1.1750700000000001e-07, 1.2291299999999998e-07, 1.28974e-07, 1.3528900000000001e-07, 1.41762e-07, 1.48493e-07, 1.55355e-07, 1.62491e-07, 1.69782e-07, 1.7726500000000002e-07, 1.85015e-07, 1.92931e-07, 2.0113499999999998e-07, 2.09512e-07, 2.1813000000000003e-07, 2.26923e-07, 2.36042e-07, 2.45283e-07, 2.54829e-07, 2.6454999999999997e-07, 2.74524e-07, 2.84833e-07, 2.95267e-07, 3.06077e-07, 3.17e-07, 3.28278e-07, 3.3976399999999997e-07, 3.51562e-07, 3.63522e-07, 3.7568800000000005e-07, 3.88247e-07, 4.0097700000000006e-07, 4.14001e-07, 4.27227e-07, 4.40788e-07, 4.54491e-07, 4.68602e-07, 4.82821e-07, 4.97508e-07, 5.12314e-07, 5.27457e-07, 5.42971e-07, 5.58676e-07, 5.74789e-07, 5.91091e-07, 6.0783e-07, 6.246159999999999e-07, 6.41897e-07, 6.593340000000001e-07, 6.77032e-07, 6.951550000000001e-07, 7.13314e-07, 7.31956e-07, 7.49907e-07, 7.65584e-07, 7.8127e-07, 7.97384e-07, 8.13398e-07, 8.2949e-07, 8.45742e-07, 8.620390000000001e-07, 8.786709999999999e-07, 8.9524e-07, 9.120860000000001e-07], \"yaxis\": \"y\"}, {\"hoverlabel\": {\"namelength\": 0}, \"hovertemplate\": \"variable=Volt4<br>index=%{x}<br>value=%{y}\", \"legendgroup\": \"variable=Volt4\", \"line\": {\"color\": \"#ab63fa\", \"dash\": \"solid\"}, \"mode\": \"lines\", \"name\": \"variable=Volt4\", \"showlegend\": true, \"type\": \"scattergl\", \"x\": [-30.0, -29.8, -29.6, -29.4, -29.2, -29.0, -28.8, -28.6, -28.4, -28.2, -28.0, -27.8, -27.6, -27.4, -27.2, -27.0, -26.8, -26.6, -26.4, -26.2, -26.0, -25.8, -25.6, -25.4, -25.2, -25.0, -24.8, -24.6, -24.4, -24.2, -24.0, -23.8, -23.6, -23.4, -23.2, -23.0, -22.8, -22.6, -22.4, -22.2, -22.0, -21.799999999999997, -21.6, -21.4, -21.2, -21.0, -20.799999999999997, -20.6, -20.4, -20.2, -20.0, -19.799999999999997, -19.6, -19.4, -19.2, -19.0, -18.799999999999997, -18.6, -18.4, -18.2, -18.0, -17.799999999999997, -17.6, -17.4, -17.2, -17.0, -16.799999999999997, -16.6, -16.4, -16.2, -16.0, -15.799999999999999, -15.6, -15.399999999999999, -15.2, -15.0, -14.799999999999999, -14.6, -14.399999999999999, -14.2, -14.0, -13.8, -13.599999999999998, -13.399999999999999, -13.2, -13.0, -12.8, -12.599999999999998, -12.399999999999999, -12.2, -12.0, -11.8, -11.599999999999998, -11.399999999999999, -11.2, -11.0, -10.799999999999997, -10.599999999999998, -10.399999999999999, -10.2, -10.0, -9.799999999999997, -9.599999999999998, -9.399999999999999, -9.2, -9.0, -8.799999999999997, -8.599999999999998, -8.399999999999999, -8.2, -8.0, -7.799999999999997, -7.599999999999998, -7.399999999999999, -7.199999999999999, -7.0, -6.799999999999997, -6.599999999999998, -6.399999999999999, -6.199999999999999, -6.0, -5.799999999999997, -5.599999999999998, -5.399999999999999, -5.199999999999999, -5.0, -4.799999999999997, -4.599999999999998, -4.399999999999999, -4.199999999999999, -4.0, -3.799999999999997, -3.599999999999998, -3.3999999999999986, -3.1999999999999993, -3.0, -2.799999999999997, -2.599999999999998, -2.3999999999999986, -2.1999999999999993, -2.0, -1.7999999999999972, -1.5999999999999979, -1.3999999999999986, -1.1999999999999993, -1.0, -0.7999999999999972, -0.5999999999999979, -0.3999999999999986, -0.1999999999999993, 0.0, 0.20000000000000284, 0.40000000000000213, 0.6000000000000014, 0.8000000000000007, 1.0, 1.2000000000000028, 1.4000000000000021, 1.6000000000000014, 1.8000000000000007, 2.0, 2.200000000000003, 2.3999999999999986, 2.6000000000000014, 2.8000000000000043, 3.0, 3.200000000000003, 3.3999999999999986, 3.6000000000000014, 3.8000000000000043, 4.0, 4.200000000000003, 4.399999999999999, 4.600000000000001, 4.800000000000004, 5.0, 5.200000000000003, 5.399999999999999, 5.600000000000001, 5.800000000000004, 6.0, 6.200000000000003, 6.399999999999999, 6.600000000000001, 6.800000000000004, 7.0, 7.200000000000003, 7.399999999999999, 7.600000000000001, 7.800000000000004, 8.0, 8.200000000000003, 8.400000000000006, 8.600000000000001, 8.800000000000004, 9.0, 9.200000000000003, 9.400000000000006, 9.600000000000001, 9.800000000000004, 10.0, 10.200000000000003, 10.400000000000006, 10.600000000000001, 10.800000000000004, 11.0, 11.200000000000003, 11.400000000000006, 11.600000000000001, 11.800000000000004, 12.0, 12.200000000000003, 12.400000000000006, 12.600000000000001, 12.800000000000004, 13.0, 13.200000000000003, 13.400000000000006, 13.600000000000001, 13.800000000000004, 14.0, 14.200000000000003, 14.400000000000006, 14.600000000000001, 14.800000000000004, 15.0, 15.200000000000003, 15.400000000000006, 15.600000000000001, 15.800000000000004, 16.0, 16.200000000000003, 16.400000000000006, 16.6, 16.800000000000004, 17.0, 17.200000000000003, 17.400000000000006, 17.6, 17.800000000000004, 18.0, 18.200000000000003, 18.400000000000006, 18.6, 18.800000000000004, 19.0, 19.200000000000003, 19.400000000000006, 19.6, 19.800000000000004, 20.0, 20.200000000000003, 20.400000000000006, 20.6, 20.800000000000004, 21.0, 21.200000000000003, 21.400000000000006, 21.6, 21.800000000000004, 22.0, 22.200000000000003, 22.400000000000006, 22.6, 22.800000000000004, 23.0, 23.200000000000003, 23.400000000000006, 23.6, 23.800000000000004, 24.0, 24.200000000000003, 24.400000000000006, 24.6, 24.800000000000004, 25.0, 25.200000000000003, 25.400000000000006, 25.6, 25.800000000000004, 26.0, 26.200000000000003, 26.400000000000006, 26.6, 26.800000000000004, 27.0, 27.200000000000003, 27.400000000000006, 27.6, 27.800000000000004, 28.0, 28.200000000000003, 28.400000000000006, 28.6, 28.800000000000004, 29.0, 29.200000000000003, 29.400000000000006, 29.6, 29.800000000000004, 30.0], \"xaxis\": \"x\", \"y\": [7.390200000000001e-07, 1.44917e-07, 1.28907e-07, 1.22652e-07, 1.1753500000000001e-07, 1.1316800000000001e-07, 1.0875400000000001e-07, 1.05245e-07, 1.02275e-07, 9.85571e-08, 9.57098e-08, 9.31386e-08, 9.072189999999999e-08, 8.854050000000001e-08, 8.615310000000001e-08, 8.40149e-08, 8.21551e-08, 8.03849e-08, 7.90675e-08, 7.704930000000001e-08, 7.50499e-08, 7.32194e-08, 7.149939999999999e-08, 7.001079999999999e-08, 6.855569999999999e-08, 6.70543e-08, 6.56877e-08, 6.43498e-08, 6.300150000000001e-08, 6.1699e-08, 6.044859999999999e-08, 5.93619e-08, 5.79972e-08, 5.6228999999999993e-08, 5.50211e-08, 5.39918e-08, 5.2976400000000006e-08, 5.20287e-08, 5.1263399999999996e-08, 5.03059e-08, 4.898869999999999e-08, 4.7640900000000004e-08, 4.65068e-08, 4.55834e-08, 4.49065e-08, 4.4379400000000005e-08, 4.34689e-08, 4.26112e-08, 4.16831e-08, 4.09056e-08, 4.00246e-08, 3.92523e-08, 3.84818e-08, 3.77584e-08, 3.70746e-08, 3.63824e-08, 3.56828e-08, 3.49508e-08, 3.42548e-08, 3.3601600000000004e-08, 3.3016900000000005e-08, 3.2374e-08, 3.17546e-08, 3.11959e-08, 3.06197e-08, 3.01247e-08, 2.9510400000000003e-08, 2.9035599999999998e-08, 2.8553099999999996e-08, 2.79923e-08, 2.74229e-08, 2.6857900000000003e-08, 2.63102e-08, 2.57805e-08, 2.52513e-08, 2.47269e-08, 2.42043e-08, 2.36791e-08, 2.3170299999999998e-08, 2.2648000000000002e-08, 2.21678e-08, 2.1714299999999998e-08, 2.12248e-08, 2.07862e-08, 2.03314e-08, 1.9875599999999997e-08, 1.9418599999999998e-08, 1.90035e-08, 1.85851e-08, 1.81971e-08, 1.78077e-08, 1.74172e-08, 1.70349e-08, 1.6639700000000002e-08, 1.62791e-08, 1.58974e-08, 1.55675e-08, 1.51984e-08, 1.48432e-08, 1.44977e-08, 1.4153599999999999e-08, 1.3840900000000001e-08, 1.35248e-08, 1.3316600000000001e-08, 1.29522e-08, 1.26857e-08, 1.2418400000000001e-08, 1.22495e-08, 1.1936200000000001e-08, 1.16985e-08, 1.1487399999999999e-08, 1.1377899999999999e-08, 1.10881e-08, 1.08934e-08, 1.08825e-08, 1.0559799999999999e-08, 1.05969e-08, 1.0255000000000001e-08, 1.0293600000000001e-08, 1.00863e-08, 9.9784e-09, 9.9077e-09, 9.784799999999999e-09, 9.668299999999999e-09, 9.545299999999998e-09, 9.424799999999999e-09, 9.3157e-09, 9.194299999999999e-09, 9.085200000000001e-09, 8.964600000000001e-09, 8.862200000000001e-09, 8.756299999999999e-09, 8.631999999999999e-09, 8.5322e-09, 8.50634e-09, 7.927689999999999e-09, 7.78812e-09, 7.68408e-09, 7.56987e-09, 7.46913e-09, 7.363920000000001e-09, 7.2611499999999995e-09, 7.16279e-09, 7.0681000000000004e-09, 6.96669e-09, 6.87222e-09, 6.77705e-09, 6.68168e-09, 6.597310000000001e-09, 6.50086e-09, 6.3988999999999995e-09, 6.32308e-09, 6.3908e-09, 6.14109e-09, 6.050989999999999e-09, 5.95592e-09, 5.87619e-09, 5.78329e-09, 5.69172e-09, 5.60882e-09, 5.679e-09, 5.43606e-09, 5.34474e-09, 5.264189999999999e-09, 5.3361400000000006e-09, 5.10034e-09, 5.011710000000001e-09, 4.93381e-09, 5.00734e-09, 4.766100000000001e-09, 4.67432e-09, 4.75839e-09, 4.678130000000001e-09, 4.43259e-09, 4.51672e-09, 4.43021e-09, 4.19396e-09, 4.270930000000001e-09, 4.0364200000000004e-09, 3.94665e-09, 4.03063e-09, 3.80363e-09, 3.71915e-09, 3.64597e-09, 3.72674e-09, 3.4967600000000002e-09, 3.57327e-09, 3.50459e-09, 3.27083e-09, 3.20025e-09, 3.12397e-09, 3.2053000000000005e-09, 3.6261900000000003e-09, 4.924689999999999e-09, 6.23638e-09, 7.3208899999999995e-09, 8.34793e-09, 9.41586e-09, 1.05233e-08, 1.33179e-08, 1.37815e-08, 1.49465e-08, 1.64448e-08, 1.8043e-08, 1.97202e-08, 2.14792e-08, 2.3308e-08, 2.5217e-08, 2.7193099999999996e-08, 2.92501e-08, 3.13783e-08, 3.35839e-08, 3.5858400000000004e-08, 3.82045e-08, 4.0621099999999996e-08, 4.31865e-08, 4.62608e-08, 4.946000000000001e-08, 5.28301e-08, 5.6320600000000003e-08, 5.99681e-08, 6.37546e-08, 6.77015e-08, 7.180810000000001e-08, 7.60763e-08, 8.04875e-08, 8.50532e-08, 8.980610000000001e-08, 9.472580000000001e-08, 9.9845e-08, 1.050864e-07, 1.104962e-07, 1.147813e-07, 1.22426e-07, 1.27808e-07, 1.33922e-07, 1.40193e-07, 1.46689e-07, 1.5342499999999999e-07, 1.6035900000000001e-07, 1.6753900000000003e-07, 1.74872e-07, 1.8249000000000001e-07, 1.90216e-07, 1.98196e-07, 2.06319e-07, 2.1458000000000003e-07, 2.2313400000000002e-07, 2.31765e-07, 2.4071e-07, 2.49733e-07, 2.5899e-07, 2.68377e-07, 2.7800000000000003e-07, 2.8777e-07, 2.97772e-07, 3.07923e-07, 3.18212e-07, 3.2874899999999995e-07, 3.3935200000000003e-07, 3.5025500000000004e-07, 3.61265e-07, 3.7246899999999997e-07, 3.83769e-07, 3.9531100000000004e-07, 4.06995e-07, 4.1880800000000003e-07, 4.3089199999999996e-07, 4.43031e-07, 4.5540799999999997e-07, 4.6787100000000005e-07, 4.80628e-07, 4.93383e-07, 5.06447e-07, 5.19499e-07, 5.32876e-07, 5.46273e-07, 5.59845e-07, 5.736290000000001e-07, 5.87543e-07, 6.01654e-07, 6.15775e-07, 6.30161e-07, 6.445619999999999e-07, 6.593099999999999e-07, 6.73902e-07, 6.88834e-07, 7.03951e-07, 7.19045e-07, 7.34551e-07, 7.50654e-07, 7.69786e-07, 7.891169999999999e-07, 8.08834e-07, 8.286e-07, 8.487949999999999e-07, 8.69113e-07, 8.89612e-07, 9.10678e-07, 9.31813e-07, 9.53369e-07], \"yaxis\": \"y\"}],\n",
              "                        {\"legend\": {\"tracegroupgap\": 0}, \"margin\": {\"t\": 60}, \"template\": {\"data\": {\"bar\": [{\"error_x\": {\"color\": \"#2a3f5f\"}, \"error_y\": {\"color\": \"#2a3f5f\"}, \"marker\": {\"line\": {\"color\": \"#E5ECF6\", \"width\": 0.5}}, \"type\": \"bar\"}], \"barpolar\": [{\"marker\": {\"line\": {\"color\": \"#E5ECF6\", \"width\": 0.5}}, \"type\": \"barpolar\"}], \"carpet\": [{\"aaxis\": {\"endlinecolor\": \"#2a3f5f\", \"gridcolor\": \"white\", \"linecolor\": \"white\", \"minorgridcolor\": \"white\", \"startlinecolor\": \"#2a3f5f\"}, \"baxis\": {\"endlinecolor\": \"#2a3f5f\", \"gridcolor\": \"white\", \"linecolor\": \"white\", \"minorgridcolor\": \"white\", \"startlinecolor\": \"#2a3f5f\"}, \"type\": \"carpet\"}], \"choropleth\": [{\"colorbar\": {\"outlinewidth\": 0, \"ticks\": \"\"}, \"type\": \"choropleth\"}], \"contour\": [{\"colorbar\": {\"outlinewidth\": 0, \"ticks\": \"\"}, \"colorscale\": [[0.0, \"#0d0887\"], [0.1111111111111111, \"#46039f\"], [0.2222222222222222, \"#7201a8\"], [0.3333333333333333, \"#9c179e\"], [0.4444444444444444, \"#bd3786\"], [0.5555555555555556, \"#d8576b\"], [0.6666666666666666, \"#ed7953\"], [0.7777777777777778, \"#fb9f3a\"], [0.8888888888888888, \"#fdca26\"], [1.0, \"#f0f921\"]], \"type\": \"contour\"}], \"contourcarpet\": [{\"colorbar\": {\"outlinewidth\": 0, \"ticks\": \"\"}, \"type\": \"contourcarpet\"}], \"heatmap\": [{\"colorbar\": {\"outlinewidth\": 0, \"ticks\": \"\"}, \"colorscale\": [[0.0, \"#0d0887\"], [0.1111111111111111, \"#46039f\"], [0.2222222222222222, \"#7201a8\"], [0.3333333333333333, \"#9c179e\"], [0.4444444444444444, \"#bd3786\"], [0.5555555555555556, \"#d8576b\"], [0.6666666666666666, \"#ed7953\"], [0.7777777777777778, \"#fb9f3a\"], [0.8888888888888888, \"#fdca26\"], [1.0, \"#f0f921\"]], \"type\": \"heatmap\"}], \"heatmapgl\": [{\"colorbar\": {\"outlinewidth\": 0, \"ticks\": \"\"}, \"colorscale\": [[0.0, \"#0d0887\"], [0.1111111111111111, \"#46039f\"], [0.2222222222222222, \"#7201a8\"], [0.3333333333333333, \"#9c179e\"], [0.4444444444444444, \"#bd3786\"], [0.5555555555555556, \"#d8576b\"], [0.6666666666666666, \"#ed7953\"], [0.7777777777777778, \"#fb9f3a\"], [0.8888888888888888, \"#fdca26\"], [1.0, \"#f0f921\"]], \"type\": \"heatmapgl\"}], \"histogram\": [{\"marker\": {\"colorbar\": {\"outlinewidth\": 0, \"ticks\": \"\"}}, \"type\": \"histogram\"}], \"histogram2d\": [{\"colorbar\": {\"outlinewidth\": 0, \"ticks\": \"\"}, \"colorscale\": [[0.0, \"#0d0887\"], [0.1111111111111111, \"#46039f\"], [0.2222222222222222, \"#7201a8\"], [0.3333333333333333, \"#9c179e\"], [0.4444444444444444, \"#bd3786\"], [0.5555555555555556, \"#d8576b\"], [0.6666666666666666, \"#ed7953\"], [0.7777777777777778, \"#fb9f3a\"], [0.8888888888888888, \"#fdca26\"], [1.0, \"#f0f921\"]], \"type\": \"histogram2d\"}], \"histogram2dcontour\": [{\"colorbar\": {\"outlinewidth\": 0, \"ticks\": \"\"}, \"colorscale\": [[0.0, \"#0d0887\"], [0.1111111111111111, \"#46039f\"], [0.2222222222222222, \"#7201a8\"], [0.3333333333333333, \"#9c179e\"], [0.4444444444444444, \"#bd3786\"], [0.5555555555555556, \"#d8576b\"], [0.6666666666666666, \"#ed7953\"], [0.7777777777777778, \"#fb9f3a\"], [0.8888888888888888, \"#fdca26\"], [1.0, \"#f0f921\"]], \"type\": \"histogram2dcontour\"}], \"mesh3d\": [{\"colorbar\": {\"outlinewidth\": 0, \"ticks\": \"\"}, \"type\": \"mesh3d\"}], \"parcoords\": [{\"line\": {\"colorbar\": {\"outlinewidth\": 0, \"ticks\": \"\"}}, \"type\": \"parcoords\"}], \"pie\": [{\"automargin\": true, \"type\": \"pie\"}], \"scatter\": [{\"marker\": {\"colorbar\": {\"outlinewidth\": 0, \"ticks\": \"\"}}, \"type\": \"scatter\"}], \"scatter3d\": [{\"line\": {\"colorbar\": {\"outlinewidth\": 0, \"ticks\": \"\"}}, \"marker\": {\"colorbar\": {\"outlinewidth\": 0, \"ticks\": \"\"}}, \"type\": \"scatter3d\"}], \"scattercarpet\": [{\"marker\": {\"colorbar\": {\"outlinewidth\": 0, \"ticks\": \"\"}}, \"type\": \"scattercarpet\"}], \"scattergeo\": [{\"marker\": {\"colorbar\": {\"outlinewidth\": 0, \"ticks\": \"\"}}, \"type\": \"scattergeo\"}], \"scattergl\": [{\"marker\": {\"colorbar\": {\"outlinewidth\": 0, \"ticks\": \"\"}}, \"type\": \"scattergl\"}], \"scattermapbox\": [{\"marker\": {\"colorbar\": {\"outlinewidth\": 0, \"ticks\": \"\"}}, \"type\": \"scattermapbox\"}], \"scatterpolar\": [{\"marker\": {\"colorbar\": {\"outlinewidth\": 0, \"ticks\": \"\"}}, \"type\": \"scatterpolar\"}], \"scatterpolargl\": [{\"marker\": {\"colorbar\": {\"outlinewidth\": 0, \"ticks\": \"\"}}, \"type\": \"scatterpolargl\"}], \"scatterternary\": [{\"marker\": {\"colorbar\": {\"outlinewidth\": 0, \"ticks\": \"\"}}, \"type\": \"scatterternary\"}], \"surface\": [{\"colorbar\": {\"outlinewidth\": 0, \"ticks\": \"\"}, \"colorscale\": [[0.0, \"#0d0887\"], [0.1111111111111111, \"#46039f\"], [0.2222222222222222, \"#7201a8\"], [0.3333333333333333, \"#9c179e\"], [0.4444444444444444, \"#bd3786\"], [0.5555555555555556, \"#d8576b\"], [0.6666666666666666, \"#ed7953\"], [0.7777777777777778, \"#fb9f3a\"], [0.8888888888888888, \"#fdca26\"], [1.0, \"#f0f921\"]], \"type\": \"surface\"}], \"table\": [{\"cells\": {\"fill\": {\"color\": \"#EBF0F8\"}, \"line\": {\"color\": \"white\"}}, \"header\": {\"fill\": {\"color\": \"#C8D4E3\"}, \"line\": {\"color\": \"white\"}}, \"type\": \"table\"}]}, \"layout\": {\"annotationdefaults\": {\"arrowcolor\": \"#2a3f5f\", \"arrowhead\": 0, \"arrowwidth\": 1}, \"coloraxis\": {\"colorbar\": {\"outlinewidth\": 0, \"ticks\": \"\"}}, \"colorscale\": {\"diverging\": [[0, \"#8e0152\"], [0.1, \"#c51b7d\"], [0.2, \"#de77ae\"], [0.3, \"#f1b6da\"], [0.4, \"#fde0ef\"], [0.5, \"#f7f7f7\"], [0.6, \"#e6f5d0\"], [0.7, \"#b8e186\"], [0.8, \"#7fbc41\"], [0.9, \"#4d9221\"], [1, \"#276419\"]], \"sequential\": [[0.0, \"#0d0887\"], [0.1111111111111111, \"#46039f\"], [0.2222222222222222, \"#7201a8\"], [0.3333333333333333, \"#9c179e\"], [0.4444444444444444, \"#bd3786\"], [0.5555555555555556, \"#d8576b\"], [0.6666666666666666, \"#ed7953\"], [0.7777777777777778, \"#fb9f3a\"], [0.8888888888888888, \"#fdca26\"], [1.0, \"#f0f921\"]], \"sequentialminus\": [[0.0, \"#0d0887\"], [0.1111111111111111, \"#46039f\"], [0.2222222222222222, \"#7201a8\"], [0.3333333333333333, \"#9c179e\"], [0.4444444444444444, \"#bd3786\"], [0.5555555555555556, \"#d8576b\"], [0.6666666666666666, \"#ed7953\"], [0.7777777777777778, \"#fb9f3a\"], [0.8888888888888888, \"#fdca26\"], [1.0, \"#f0f921\"]]}, \"colorway\": [\"#636efa\", \"#EF553B\", \"#00cc96\", \"#ab63fa\", \"#FFA15A\", \"#19d3f3\", \"#FF6692\", \"#B6E880\", \"#FF97FF\", \"#FECB52\"], \"font\": {\"color\": \"#2a3f5f\"}, \"geo\": {\"bgcolor\": \"white\", \"lakecolor\": \"white\", \"landcolor\": \"#E5ECF6\", \"showlakes\": true, \"showland\": true, \"subunitcolor\": \"white\"}, \"hoverlabel\": {\"align\": \"left\"}, \"hovermode\": \"closest\", \"mapbox\": {\"style\": \"light\"}, \"paper_bgcolor\": \"white\", \"plot_bgcolor\": \"#E5ECF6\", \"polar\": {\"angularaxis\": {\"gridcolor\": \"white\", \"linecolor\": \"white\", \"ticks\": \"\"}, \"bgcolor\": \"#E5ECF6\", \"radialaxis\": {\"gridcolor\": \"white\", \"linecolor\": \"white\", \"ticks\": \"\"}}, \"scene\": {\"xaxis\": {\"backgroundcolor\": \"#E5ECF6\", \"gridcolor\": \"white\", \"gridwidth\": 2, \"linecolor\": \"white\", \"showbackground\": true, \"ticks\": \"\", \"zerolinecolor\": \"white\"}, \"yaxis\": {\"backgroundcolor\": \"#E5ECF6\", \"gridcolor\": \"white\", \"gridwidth\": 2, \"linecolor\": \"white\", \"showbackground\": true, \"ticks\": \"\", \"zerolinecolor\": \"white\"}, \"zaxis\": {\"backgroundcolor\": \"#E5ECF6\", \"gridcolor\": \"white\", \"gridwidth\": 2, \"linecolor\": \"white\", \"showbackground\": true, \"ticks\": \"\", \"zerolinecolor\": \"white\"}}, \"shapedefaults\": {\"line\": {\"color\": \"#2a3f5f\"}}, \"ternary\": {\"aaxis\": {\"gridcolor\": \"white\", \"linecolor\": \"white\", \"ticks\": \"\"}, \"baxis\": {\"gridcolor\": \"white\", \"linecolor\": \"white\", \"ticks\": \"\"}, \"bgcolor\": \"#E5ECF6\", \"caxis\": {\"gridcolor\": \"white\", \"linecolor\": \"white\", \"ticks\": \"\"}}, \"title\": {\"x\": 0.05}, \"xaxis\": {\"automargin\": true, \"gridcolor\": \"white\", \"linecolor\": \"white\", \"ticks\": \"\", \"title\": {\"standoff\": 15}, \"zerolinecolor\": \"white\", \"zerolinewidth\": 2}, \"yaxis\": {\"automargin\": true, \"gridcolor\": \"white\", \"linecolor\": \"white\", \"ticks\": \"\", \"title\": {\"standoff\": 15}, \"zerolinecolor\": \"white\", \"zerolinewidth\": 2}}}, \"xaxis\": {\"anchor\": \"y\", \"domain\": [0.0, 1.0], \"title\": {\"text\": \"index\"}}, \"yaxis\": {\"anchor\": \"x\", \"domain\": [0.0, 1.0], \"title\": {\"text\": \"value\"}}},\n",
              "                        {\"responsive\": true}\n",
              "                    ).then(function(){\n",
              "                            \n",
              "var gd = document.getElementById('1b5d71e6-f245-4125-8675-a412df6b5eef');\n",
              "var x = new MutationObserver(function (mutations, observer) {{\n",
              "        var display = window.getComputedStyle(gd).display;\n",
              "        if (!display || display === 'none') {{\n",
              "            console.log([gd, 'removed!']);\n",
              "            Plotly.purge(gd);\n",
              "            observer.disconnect();\n",
              "        }}\n",
              "}});\n",
              "\n",
              "// Listen for the removal of the full notebook cells\n",
              "var notebookContainer = gd.closest('#notebook-container');\n",
              "if (notebookContainer) {{\n",
              "    x.observe(notebookContainer, {childList: true});\n",
              "}}\n",
              "\n",
              "// Listen for the clearing of the current output cell\n",
              "var outputEl = gd.closest('.output');\n",
              "if (outputEl) {{\n",
              "    x.observe(outputEl, {childList: true});\n",
              "}}\n",
              "\n",
              "                        })\n",
              "                };\n",
              "                \n",
              "            </script>\n",
              "        </div>\n",
              "</body>\n",
              "</html>"
            ]
          },
          "metadata": {
            "tags": []
          }
        }
      ]
    },
    {
      "cell_type": "code",
      "metadata": {
        "id": "uuFTQD95uqWm",
        "outputId": "f58867ff-3947-41b0-ae87-0b03cfe034a2",
        "colab": {
          "base_uri": "https://localhost:8080/",
          "height": 407
        }
      },
      "source": [
        "DFP"
      ],
      "execution_count": null,
      "outputs": [
        {
          "output_type": "execute_result",
          "data": {
            "text/html": [
              "<div>\n",
              "<style scoped>\n",
              "    .dataframe tbody tr th:only-of-type {\n",
              "        vertical-align: middle;\n",
              "    }\n",
              "\n",
              "    .dataframe tbody tr th {\n",
              "        vertical-align: top;\n",
              "    }\n",
              "\n",
              "    .dataframe thead th {\n",
              "        text-align: right;\n",
              "    }\n",
              "</style>\n",
              "<table border=\"1\" class=\"dataframe\">\n",
              "  <thead>\n",
              "    <tr style=\"text-align: right;\">\n",
              "      <th></th>\n",
              "      <th>index</th>\n",
              "      <th>variable</th>\n",
              "      <th>value</th>\n",
              "    </tr>\n",
              "  </thead>\n",
              "  <tbody>\n",
              "    <tr>\n",
              "      <th>0</th>\n",
              "      <td>-30.0</td>\n",
              "      <td>Volt1</td>\n",
              "      <td>4.997070e-08</td>\n",
              "    </tr>\n",
              "    <tr>\n",
              "      <th>1</th>\n",
              "      <td>-29.8</td>\n",
              "      <td>Volt1</td>\n",
              "      <td>4.299380e-08</td>\n",
              "    </tr>\n",
              "    <tr>\n",
              "      <th>2</th>\n",
              "      <td>-29.6</td>\n",
              "      <td>Volt1</td>\n",
              "      <td>3.930230e-08</td>\n",
              "    </tr>\n",
              "    <tr>\n",
              "      <th>3</th>\n",
              "      <td>-29.4</td>\n",
              "      <td>Volt1</td>\n",
              "      <td>3.683010e-08</td>\n",
              "    </tr>\n",
              "    <tr>\n",
              "      <th>4</th>\n",
              "      <td>-29.2</td>\n",
              "      <td>Volt1</td>\n",
              "      <td>3.459660e-08</td>\n",
              "    </tr>\n",
              "    <tr>\n",
              "      <th>...</th>\n",
              "      <td>...</td>\n",
              "      <td>...</td>\n",
              "      <td>...</td>\n",
              "    </tr>\n",
              "    <tr>\n",
              "      <th>1199</th>\n",
              "      <td>29.2</td>\n",
              "      <td>Volt4</td>\n",
              "      <td>8.691130e-07</td>\n",
              "    </tr>\n",
              "    <tr>\n",
              "      <th>1200</th>\n",
              "      <td>29.4</td>\n",
              "      <td>Volt4</td>\n",
              "      <td>8.896120e-07</td>\n",
              "    </tr>\n",
              "    <tr>\n",
              "      <th>1201</th>\n",
              "      <td>29.6</td>\n",
              "      <td>Volt4</td>\n",
              "      <td>9.106780e-07</td>\n",
              "    </tr>\n",
              "    <tr>\n",
              "      <th>1202</th>\n",
              "      <td>29.8</td>\n",
              "      <td>Volt4</td>\n",
              "      <td>9.318130e-07</td>\n",
              "    </tr>\n",
              "    <tr>\n",
              "      <th>1203</th>\n",
              "      <td>30.0</td>\n",
              "      <td>Volt4</td>\n",
              "      <td>9.533690e-07</td>\n",
              "    </tr>\n",
              "  </tbody>\n",
              "</table>\n",
              "<p>1204 rows × 3 columns</p>\n",
              "</div>"
            ],
            "text/plain": [
              "      index variable         value\n",
              "0     -30.0    Volt1  4.997070e-08\n",
              "1     -29.8    Volt1  4.299380e-08\n",
              "2     -29.6    Volt1  3.930230e-08\n",
              "3     -29.4    Volt1  3.683010e-08\n",
              "4     -29.2    Volt1  3.459660e-08\n",
              "...     ...      ...           ...\n",
              "1199   29.2    Volt4  8.691130e-07\n",
              "1200   29.4    Volt4  8.896120e-07\n",
              "1201   29.6    Volt4  9.106780e-07\n",
              "1202   29.8    Volt4  9.318130e-07\n",
              "1203   30.0    Volt4  9.533690e-07\n",
              "\n",
              "[1204 rows x 3 columns]"
            ]
          },
          "metadata": {
            "tags": []
          },
          "execution_count": 140
        }
      ]
    },
    {
      "cell_type": "code",
      "metadata": {
        "id": "6j5tO_dXvq6p",
        "outputId": "810f28c6-9dde-40ca-c9a4-914ba29d8953",
        "colab": {
          "base_uri": "https://localhost:8080/",
          "height": 293
        }
      },
      "source": [
        "plt.plot(DFP['value'])"
      ],
      "execution_count": null,
      "outputs": [
        {
          "output_type": "execute_result",
          "data": {
            "text/plain": [
              "[<matplotlib.lines.Line2D at 0x7f94f1dc3e80>]"
            ]
          },
          "metadata": {
            "tags": []
          },
          "execution_count": 142
        },
        {
          "output_type": "display_data",
          "data": {
            "image/png": "[encoded data removed]",
            "text/plain": [
              "<Figure size 432x288 with 1 Axes>"
            ]
          },
          "metadata": {
            "tags": [],
            "needs_background": "light"
          }
        }
      ]
    },
    {
      "cell_type": "code",
      "metadata": {
        "id": "S5NtgDfNvvFR"
      },
      "source": [
        ""
      ],
      "execution_count": null,
      "outputs": []
    }
  ]
}